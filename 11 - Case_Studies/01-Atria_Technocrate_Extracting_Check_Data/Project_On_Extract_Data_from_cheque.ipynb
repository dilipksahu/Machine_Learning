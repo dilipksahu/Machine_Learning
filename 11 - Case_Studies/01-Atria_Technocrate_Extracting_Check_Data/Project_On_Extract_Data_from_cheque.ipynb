{
 "cells": [
  {
   "cell_type": "code",
   "execution_count": 1,
   "metadata": {},
   "outputs": [],
   "source": [
    "# text recognition\n",
    "import cv2\n",
    "import pytesseract\n",
    "import json"
   ]
  },
  {
   "cell_type": "code",
   "execution_count": 43,
   "metadata": {},
   "outputs": [],
   "source": [
    "# read image\n",
    "im = cv2.imread('images/image5.jpg')"
   ]
  },
  {
   "cell_type": "code",
   "execution_count": 44,
   "metadata": {},
   "outputs": [],
   "source": [
    "# configurations\n",
    "config = ('-l eng --oem 1 --psm 3')"
   ]
  },
  {
   "cell_type": "code",
   "execution_count": 45,
   "metadata": {},
   "outputs": [],
   "source": [
    "# pytessercat\n",
    "text = pytesseract.image_to_string(im, config=config)"
   ]
  },
  {
   "cell_type": "code",
   "execution_count": 46,
   "metadata": {},
   "outputs": [
    {
     "data": {
      "text/plain": [
       "['Wea (Ta) Wren, Fae 421 306.',\n",
       " '',\n",
       " 'Payable at all Branches',\n",
       " 'KALYAN(EAST) BRANCH, MUMBAI - 421306',\n",
       " 'IFSC:CBIN0283773',\n",
       " '',\n",
       " 'oR FR do',\n",
       " 'Central Bank of India',\n",
       " '',\n",
       " 'I>)',\n",
       " '',\n",
       " ' ',\n",
       " '',\n",
       " 'Be? Ri.  M ¥ vy',\n",
       " '',\n",
       " '1d',\n",
       " 'o',\n",
       " '',\n",
       " ' ',\n",
       " '',\n",
       " 'Ol atch Ht Ore',\n",
       " '',\n",
       " ' ',\n",
       " '',\n",
       " ' ',\n",
       " '',\n",
       " 'three months from date of instrument',\n",
       " 'a',\n",
       " '&',\n",
       " 'oO',\n",
       " 'a',\n",
       " '',\n",
       " '#',\n",
       " '',\n",
       " '00000003288054003',\n",
       " '',\n",
       " 'Valid for',\n",
       " 'z',\n",
       " '&',\n",
       " '',\n",
       " '        ',\n",
       " '  ',\n",
       " '',\n",
       " '  ',\n",
       " '',\n",
       " '‘ CIS ier: me’',\n",
       " '',\n",
       " 'ear 4 oS DILIP KAILASH SAHU',\n",
       " '',\n",
       " ':',\n",
       " '»)',\n",
       " '',\n",
       " 'a . ee. bse | 5',\n",
       " 'See pee os sa',\n",
       " '',\n",
       " 'wOLSLE7\" LOCO AO2 OOF7LE\" 3b']"
      ]
     },
     "execution_count": 46,
     "metadata": {},
     "output_type": "execute_result"
    }
   ],
   "source": [
    "# print text\n",
    "text1 = text.split('\\n')\n",
    "text1"
   ]
  },
  {
   "cell_type": "code",
   "execution_count": 120,
   "metadata": {},
   "outputs": [],
   "source": [
    "values = []\n",
    "position = [4,7,34,47,55]\n",
    "for i in position:\n",
    "    if i == 4:\n",
    "        values.append(text1[i][5:])\n",
    "    elif i == 47:\n",
    "        values.append(text1[i][9:27])\n",
    "    elif i == 55:\n",
    "        values.append(text1[i][9:24])\n",
    "    else:\n",
    "        values.append(text1[i])"
   ]
  },
  {
   "cell_type": "code",
   "execution_count": 121,
   "metadata": {},
   "outputs": [
    {
     "data": {
      "text/plain": [
       "['CBIN0283773',\n",
       " 'Central Bank of India',\n",
       " '00000003288054003',\n",
       " 'DILIP KAILASH SAHU',\n",
       " 'LOCO AO2 OOF7LE']"
      ]
     },
     "execution_count": 121,
     "metadata": {},
     "output_type": "execute_result"
    }
   ],
   "source": [
    "values"
   ]
  },
  {
   "cell_type": "code",
   "execution_count": 122,
   "metadata": {},
   "outputs": [],
   "source": [
    "keys = [\"IFCS Code\",\"Bank Name\",\"Account Number\",\"Account Holder Name\",\"MICR Code\"]"
   ]
  },
  {
   "cell_type": "code",
   "execution_count": 123,
   "metadata": {},
   "outputs": [],
   "source": [
    "# to convert lists to dictionary \n",
    "res = {} \n",
    "for key in keys: \n",
    "    for value in values: \n",
    "        res[key] = value \n",
    "        values.remove(value) \n",
    "        break "
   ]
  },
  {
   "cell_type": "code",
   "execution_count": 124,
   "metadata": {},
   "outputs": [
    {
     "data": {
      "text/plain": [
       "{'IFCS Code': 'CBIN0283773',\n",
       " 'Bank Name': 'Central Bank of India',\n",
       " 'Account Number': '00000003288054003',\n",
       " 'Account Holder Name': 'DILIP KAILASH SAHU',\n",
       " 'MICR Code': 'LOCO AO2 OOF7LE'}"
      ]
     },
     "execution_count": 124,
     "metadata": {},
     "output_type": "execute_result"
    }
   ],
   "source": [
    "res"
   ]
  },
  {
   "cell_type": "code",
   "execution_count": 125,
   "metadata": {},
   "outputs": [
    {
     "data": {
      "text/plain": [
       "'{\"IFCS Code\": \"CBIN0283773\", \"Bank Name\": \"Central Bank of India\", \"Account Number\": \"00000003288054003\", \"Account Holder Name\": \"DILIP KAILASH SAHU\", \"MICR Code\": \"LOCO AO2 OOF7LE\"}'"
      ]
     },
     "execution_count": 125,
     "metadata": {},
     "output_type": "execute_result"
    }
   ],
   "source": [
    "# convert into JSON:\n",
    "json_output = json.dumps(res)\n",
    "json_output"
   ]
  },
  {
   "cell_type": "code",
   "execution_count": 128,
   "metadata": {},
   "outputs": [],
   "source": [
    "# save the file in json format\n",
    "with open('chaque.json', 'w') as json_file:\n",
    "    json.dump(res, json_file, indent = 6) "
   ]
  },
  {
   "cell_type": "code",
   "execution_count": 129,
   "metadata": {},
   "outputs": [
    {
     "name": "stdout",
     "output_type": "stream",
     "text": [
      "{'IFCS Code': 'CBIN0283773', 'Bank Name': 'Central Bank of India', 'Account Number': '00000003288054003', 'Account Holder Name': 'DILIP KAILASH SAHU', 'MICR Code': 'LOCO AO2 OOF7LE'}\n"
     ]
    }
   ],
   "source": [
    "# Open save json file\n",
    "with open('chaque.json') as f:\n",
    "    data = json.load(f)\n",
    "    print(data)"
   ]
  },
  {
   "cell_type": "code",
   "execution_count": null,
   "metadata": {},
   "outputs": [],
   "source": []
  }
 ],
 "metadata": {
  "kernelspec": {
   "display_name": "Python 3",
   "language": "python",
   "name": "python3"
  },
  "language_info": {
   "codemirror_mode": {
    "name": "ipython",
    "version": 3
   },
   "file_extension": ".py",
   "mimetype": "text/x-python",
   "name": "python",
   "nbconvert_exporter": "python",
   "pygments_lexer": "ipython3",
   "version": "3.7.4"
  }
 },
 "nbformat": 4,
 "nbformat_minor": 2
}
