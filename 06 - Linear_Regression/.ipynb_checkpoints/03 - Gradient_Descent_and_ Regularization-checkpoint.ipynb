{
 "cells": [
  {
   "cell_type": "markdown",
   "metadata": {},
   "source": [
    "## Gradient_Descent_and_ Regularization"
   ]
  },
  {
   "cell_type": "code",
   "execution_count": 1,
   "metadata": {},
   "outputs": [],
   "source": [
    "import numpy as np\n",
    "import pandas as pd\n",
    "import matplotlib.pyplot as plt\n",
    "from sklearn.metrics import mean_squared_error"
   ]
  },
  {
   "cell_type": "code",
   "execution_count": 6,
   "metadata": {},
   "outputs": [],
   "source": [
    "def gradient_descent(x,y):\n",
    "    \n",
    "    \n",
    "    n = len(x)\n",
    "    learning_rate = 0.08\n",
    "    intercept = slope = 0\n",
    "    iterations = 50\n",
    "    \n",
    "    for i in range(iterations):\n",
    "        \n",
    "        y_pred = x*slope + intercept\n",
    "        \n",
    "        mse = mean_squared_error(y_pred,y)\n",
    "        \n",
    "        md = -(2/n)*sum(x*(y-y_pred))\n",
    "        bd = -(2/n)*sum(y-y_pred)\n",
    "\n",
    "        slope = slope - (learning_rate * md)\n",
    "        intercept = intercept - (learning_rate * bd)\n",
    "        \n",
    "        print(\"slope: \",slope,\"\\nintercept: \",intercept,\"\\nmse: \",mse,\"\\niteration: \",i,\"\\n-------------------\")"
   ]
  },
  {
   "cell_type": "code",
   "execution_count": 7,
   "metadata": {},
   "outputs": [],
   "source": [
    "X = np.array([1,2,3,4])\n",
    "y = np.array([10,12,20,25])"
   ]
  },
  {
   "cell_type": "code",
   "execution_count": 8,
   "metadata": {},
   "outputs": [
    {
     "name": "stdout",
     "output_type": "stream",
     "text": [
      "slope:  7.76 \n",
      "intercept:  2.68 \n",
      "mse:  317.25 \n",
      "iteration:  0 \n",
      "-------------------\n",
      "slope:  5.136 \n",
      "intercept:  1.8272000000000002 \n",
      "mse:  37.5484 \n",
      "iteration:  1 \n",
      "-------------------\n",
      "slope:  6.001919999999999 \n",
      "intercept:  2.160448 \n",
      "mse:  5.946675839999994 \n",
      "iteration:  2 \n",
      "-------------------\n",
      "slope:  5.6954368 \n",
      "intercept:  2.0940083200000004 \n",
      "mse:  2.363295509503997 \n",
      "iteration:  3 \n",
      "-------------------\n",
      "slope:  5.783309312 \n",
      "intercept:  2.1607922688000003 \n",
      "mse:  1.944685321356901 \n",
      "iteration:  4 \n",
      "-------------------\n",
      "slope:  5.73902123008 \n",
      "intercept:  2.181741780992 \n",
      "mse:  1.8841286943434368 \n",
      "iteration:  5 \n",
      "-------------------\n",
      "slope:  5.739499041587201 \n",
      "intercept:  2.21705460400128 \n",
      "mse:  1.8646353110795062 \n",
      "iteration:  6 \n",
      "-------------------\n",
      "slope:  5.725278350082048 \n",
      "intercept:  2.246526250726195 \n",
      "mse:  1.8503780860340768 \n",
      "iteration:  7 \n",
      "-------------------\n",
      "slope:  5.716333829693113 \n",
      "intercept:  2.276970710577185 \n",
      "mse:  1.8372827631707351 \n",
      "iteration:  8 \n",
      "-------------------\n",
      "slope:  5.705944949830504 \n",
      "intercept:  2.30612186500759 \n",
      "mse:  1.8248622364268445 \n",
      "iteration:  9 \n",
      "-------------------\n",
      "slope:  5.6963622640308635 \n",
      "intercept:  2.3347643866741743 \n",
      "mse:  1.813035770343486 \n",
      "iteration:  10 \n",
      "-------------------\n",
      "slope:  5.6868217925241575 \n",
      "intercept:  2.362657179193961 \n",
      "mse:  1.8017697380342728 \n",
      "iteration:  11 \n",
      "-------------------\n",
      "slope:  5.677572769817584 \n",
      "intercept:  2.389903313513264 \n",
      "mse:  1.7910369925326879 \n",
      "iteration:  12 \n",
      "-------------------\n",
      "slope:  5.668524120631177 \n",
      "intercept:  2.416489675424108 \n",
      "mse:  1.780812223746151 \n",
      "iteration:  13 \n",
      "-------------------\n",
      "slope:  5.659699305704121 \n",
      "intercept:  2.44244167910378 \n",
      "mse:  1.7710713818192623 \n",
      "iteration:  14 \n",
      "-------------------\n",
      "slope:  5.6510834672176635 \n",
      "intercept:  2.4677712881655265 \n",
      "mse:  1.761791562187101 \n",
      "iteration:  15 \n",
      "-------------------\n",
      "slope:  5.642674791290257 \n",
      "intercept:  2.492494495171977 \n",
      "mse:  1.752950945124931 \n",
      "iteration:  16 \n",
      "-------------------\n",
      "slope:  5.634467243673158 \n",
      "intercept:  2.516625459428358 \n",
      "mse:  1.744528743698791 \n",
      "iteration:  17 \n",
      "-------------------\n",
      "slope:  5.626456367494026 \n",
      "intercept:  2.5401784884505574 \n",
      "mse:  1.73650515480511 \n",
      "iteration:  18 \n",
      "-------------------\n",
      "slope:  5.618637331120972 \n",
      "intercept:  2.563167383300858 \n",
      "mse:  1.7288613125982342 \n",
      "iteration:  19 \n",
      "-------------------\n",
      "slope:  5.611005580455463 \n",
      "intercept:  2.585605669524332 \n",
      "mse:  1.7215792441301256 \n",
      "iteration:  20 \n",
      "-------------------\n",
      "slope:  5.6035566160991745 \n",
      "intercept:  2.607506530218254 \n",
      "mse:  1.7146418270904924 \n",
      "iteration:  21 \n",
      "-------------------\n",
      "slope:  5.5962860646928645 \n",
      "intercept:  2.628882838943664 \n",
      "mse:  1.708032749547135 \n",
      "iteration:  22 \n",
      "-------------------\n",
      "slope:  5.589189651483962 \n",
      "intercept:  2.649747158835532 \n",
      "mse:  1.701736471591722 \n",
      "iteration:  23 \n",
      "-------------------\n",
      "slope:  5.582263206168995 \n",
      "intercept:  2.670111752828262 \n",
      "mse:  1.6957381888008618 \n",
      "iteration:  24 \n",
      "-------------------\n",
      "slope:  5.575502657634896 \n",
      "intercept:  2.689988589908142 \n",
      "mse:  1.690023797426474 \n",
      "iteration:  25 \n",
      "-------------------\n",
      "slope:  5.568904032509764 \n",
      "intercept:  2.7093893524688806 \n",
      "mse:  1.6845798612336975 \n",
      "iteration:  26 \n",
      "-------------------\n",
      "slope:  5.562463452510494 \n",
      "intercept:  2.728325443069954 \n",
      "mse:  1.6793935799082986 \n",
      "iteration:  27 \n",
      "-------------------\n",
      "slope:  5.5561771322699185 \n",
      "intercept:  2.7468079911745633 \n",
      "mse:  1.6744527589593161 \n",
      "iteration:  28 \n",
      "-------------------\n",
      "slope:  5.550041377076191 \n",
      "intercept:  2.7648478596786656 \n",
      "mse:  1.6697457810461935 \n",
      "iteration:  29 \n",
      "-------------------\n",
      "slope:  5.544052580713295 \n",
      "intercept:  2.782455651299603 \n",
      "mse:  1.6652615786629448 \n",
      "iteration:  30 \n",
      "-------------------\n",
      "slope:  5.5382072233374995 \n",
      "intercept:  2.799641714806348 \n",
      "mse:  1.6609896081151607 \n",
      "iteration:  31 \n",
      "-------------------\n",
      "slope:  5.532501869409961 \n",
      "intercept:  2.8164161511023327 \n",
      "mse:  1.6569198247286414 \n",
      "iteration:  32 \n",
      "-------------------\n",
      "slope:  5.526933165677075 \n",
      "intercept:  2.8327888191619754 \n",
      "mse:  1.6530426592313792 \n",
      "iteration:  33 \n",
      "-------------------\n",
      "slope:  5.521497839199794 \n",
      "intercept:  2.8487693418252293 \n",
      "mse:  1.6493489952533504 \n",
      "iteration:  34 \n",
      "-------------------\n",
      "slope:  5.51619269542995 \n",
      "intercept:  2.864367111453275 \n",
      "mse:  1.645830147891221 \n",
      "iteration:  35 \n",
      "-------------------\n",
      "slope:  5.5110146163327 \n",
      "intercept:  2.879591295448771 \n",
      "mse:  1.6424778432875489 \n",
      "iteration:  36 \n",
      "-------------------\n",
      "slope:  5.505960558553952 \n",
      "intercept:  2.894450841643888 \n",
      "mse:  1.6392841991764846 \n",
      "iteration:  37 \n",
      "-------------------\n",
      "slope:  5.501027551631655 \n",
      "intercept:  2.9089544835592847 \n",
      "mse:  1.6362417063502133 \n",
      "iteration:  38 \n",
      "-------------------\n",
      "slope:  5.496212696249955 \n",
      "intercept:  2.9231107455371372 \n",
      "mse:  1.633343211002584 \n",
      "iteration:  39 \n",
      "-------------------\n",
      "slope:  5.491513162535154 \n",
      "intercept:  2.9369279477512134 \n",
      "mse:  1.6305818979083724 \n",
      "iteration:  40 \n",
      "-------------------\n",
      "slope:  5.486926188392484 \n",
      "intercept:  2.9504142110969576 \n",
      "mse:  1.6279512743986582 \n",
      "iteration:  41 \n",
      "-------------------\n",
      "slope:  5.48244907788272 \n",
      "intercept:  2.9635774619644506 \n",
      "mse:  1.6254451550946367 \n",
      "iteration:  42 \n",
      "-------------------\n",
      "slope:  5.478079199637675 \n",
      "intercept:  2.9764254368970504 \n",
      "mse:  1.6230576473639402 \n",
      "iteration:  43 \n",
      "-------------------\n",
      "slope:  5.473813985313646 \n",
      "intercept:  2.9889656871384522 \n",
      "mse:  1.6207831374653148 \n",
      "iteration:  44 \n",
      "-------------------\n",
      "slope:  5.46965092808189 \n",
      "intercept:  3.0012055830708415 \n",
      "mse:  1.6186162773490373 \n",
      "iteration:  45 \n",
      "-------------------\n",
      "slope:  5.465587581155285 \n",
      "intercept:  3.0131523185467506 \n",
      "mse:  1.616551972082064 \n",
      "iteration:  46 \n",
      "-------------------\n",
      "slope:  5.461621556350242 \n",
      "intercept:  3.0248129151171566 \n",
      "mse:  1.6145853678683297 \n",
      "iteration:  47 \n",
      "-------------------\n",
      "slope:  5.457750522683089 \n",
      "intercept:  3.0361942261583144 \n",
      "mse:  1.6127118406360137 \n",
      "iteration:  48 \n",
      "-------------------\n",
      "slope:  5.453972205000056 \n",
      "intercept:  3.0473029408997485 \n",
      "mse:  1.6109269851649906 \n",
      "iteration:  49 \n",
      "-------------------\n"
     ]
    }
   ],
   "source": [
    "gradient_descent(X,y)"
   ]
  },
  {
   "cell_type": "code",
   "execution_count": 9,
   "metadata": {},
   "outputs": [],
   "source": [
    "#y = 5.4X + 3.04"
   ]
  },
  {
   "cell_type": "code",
   "execution_count": 10,
   "metadata": {},
   "outputs": [],
   "source": [
    "# Inbuild library for GD. This work internally and process output.(Not Recommended)\n",
    "#from sklearn.linear_model import SGDRegressor\n",
    "from sklearn import linear_model"
   ]
  },
  {
   "cell_type": "code",
   "execution_count": 11,
   "metadata": {
    "scrolled": true
   },
   "outputs": [
    {
     "data": {
      "text/plain": [
       "SGDRegressor(alpha=0.0001, average=False, early_stopping=False, epsilon=0.1,\n",
       "             eta0=0.01, fit_intercept=True, l1_ratio=0.15,\n",
       "             learning_rate='invscaling', loss='squared_loss', max_iter=100,\n",
       "             n_iter_no_change=5, penalty='l2', power_t=0.25, random_state=None,\n",
       "             shuffle=True, tol=0.001, validation_fraction=0.1, verbose=0,\n",
       "             warm_start=False)"
      ]
     },
     "execution_count": 11,
     "metadata": {},
     "output_type": "execute_result"
    }
   ],
   "source": [
    "x_matrix = X.reshape(-1,1)\n",
    "gd = linear_model.SGDRegressor(max_iter=100, tol=1e-3)\n",
    "gd.fit(x_matrix,y)"
   ]
  },
  {
   "cell_type": "code",
   "execution_count": 12,
   "metadata": {},
   "outputs": [
    {
     "data": {
      "text/plain": [
       "array([2.15456466])"
      ]
     },
     "execution_count": 12,
     "metadata": {},
     "output_type": "execute_result"
    }
   ],
   "source": [
    "gd.intercept_"
   ]
  },
  {
   "cell_type": "code",
   "execution_count": 13,
   "metadata": {},
   "outputs": [
    {
     "data": {
      "text/plain": [
       "array([5.74167907])"
      ]
     },
     "execution_count": 13,
     "metadata": {},
     "output_type": "execute_result"
    }
   ],
   "source": [
    "gd.coef_"
   ]
  },
  {
   "cell_type": "code",
   "execution_count": 15,
   "metadata": {},
   "outputs": [
    {
     "data": {
      "text/plain": [
       "array([ 7.89624373, 13.6379228 , 19.37960186, 25.12128093])"
      ]
     },
     "execution_count": 15,
     "metadata": {},
     "output_type": "execute_result"
    }
   ],
   "source": [
    "y_pred = gd.predict(x_matrix)\n",
    "y_pred"
   ]
  },
  {
   "cell_type": "code",
   "execution_count": 110,
   "metadata": {},
   "outputs": [
    {
     "data": {
      "text/plain": [
       "1.8970131611490646"
      ]
     },
     "execution_count": 110,
     "metadata": {},
     "output_type": "execute_result"
    }
   ],
   "source": [
    "mean_squared_error(y_pred,y)"
   ]
  },
  {
   "cell_type": "markdown",
   "metadata": {},
   "source": [
    "## Regularization"
   ]
  },
  {
   "cell_type": "code",
   "execution_count": 2,
   "metadata": {},
   "outputs": [],
   "source": [
    "df = pd.read_csv(\"cars.csv\")"
   ]
  },
  {
   "cell_type": "code",
   "execution_count": 3,
   "metadata": {},
   "outputs": [
    {
     "data": {
      "text/html": [
       "<div>\n",
       "<style scoped>\n",
       "    .dataframe tbody tr th:only-of-type {\n",
       "        vertical-align: middle;\n",
       "    }\n",
       "\n",
       "    .dataframe tbody tr th {\n",
       "        vertical-align: top;\n",
       "    }\n",
       "\n",
       "    .dataframe thead th {\n",
       "        text-align: right;\n",
       "    }\n",
       "</style>\n",
       "<table border=\"1\" class=\"dataframe\">\n",
       "  <thead>\n",
       "    <tr style=\"text-align: right;\">\n",
       "      <th></th>\n",
       "      <th>symboling</th>\n",
       "      <th>normalized-losses</th>\n",
       "      <th>make</th>\n",
       "      <th>fuel-type</th>\n",
       "      <th>body-style</th>\n",
       "      <th>drive-wheels</th>\n",
       "      <th>engine-location</th>\n",
       "      <th>width</th>\n",
       "      <th>height</th>\n",
       "      <th>engine-type</th>\n",
       "      <th>engine-size</th>\n",
       "      <th>horsepower</th>\n",
       "      <th>city-mpg</th>\n",
       "      <th>highway-mpg</th>\n",
       "      <th>price</th>\n",
       "    </tr>\n",
       "  </thead>\n",
       "  <tbody>\n",
       "    <tr>\n",
       "      <td>0</td>\n",
       "      <td>3</td>\n",
       "      <td>?</td>\n",
       "      <td>alfa-romero</td>\n",
       "      <td>gas</td>\n",
       "      <td>convertible</td>\n",
       "      <td>rwd</td>\n",
       "      <td>front</td>\n",
       "      <td>64.1</td>\n",
       "      <td>48.8</td>\n",
       "      <td>dohc</td>\n",
       "      <td>130</td>\n",
       "      <td>111</td>\n",
       "      <td>21</td>\n",
       "      <td>27</td>\n",
       "      <td>13495</td>\n",
       "    </tr>\n",
       "    <tr>\n",
       "      <td>1</td>\n",
       "      <td>3</td>\n",
       "      <td>?</td>\n",
       "      <td>alfa-romero</td>\n",
       "      <td>gas</td>\n",
       "      <td>convertible</td>\n",
       "      <td>rwd</td>\n",
       "      <td>front</td>\n",
       "      <td>64.1</td>\n",
       "      <td>48.8</td>\n",
       "      <td>dohc</td>\n",
       "      <td>130</td>\n",
       "      <td>111</td>\n",
       "      <td>21</td>\n",
       "      <td>27</td>\n",
       "      <td>16500</td>\n",
       "    </tr>\n",
       "    <tr>\n",
       "      <td>2</td>\n",
       "      <td>1</td>\n",
       "      <td>?</td>\n",
       "      <td>alfa-romero</td>\n",
       "      <td>gas</td>\n",
       "      <td>hatchback</td>\n",
       "      <td>rwd</td>\n",
       "      <td>front</td>\n",
       "      <td>65.5</td>\n",
       "      <td>52.4</td>\n",
       "      <td>ohcv</td>\n",
       "      <td>152</td>\n",
       "      <td>154</td>\n",
       "      <td>19</td>\n",
       "      <td>26</td>\n",
       "      <td>16500</td>\n",
       "    </tr>\n",
       "    <tr>\n",
       "      <td>3</td>\n",
       "      <td>2</td>\n",
       "      <td>164</td>\n",
       "      <td>audi</td>\n",
       "      <td>gas</td>\n",
       "      <td>sedan</td>\n",
       "      <td>fwd</td>\n",
       "      <td>front</td>\n",
       "      <td>66.2</td>\n",
       "      <td>54.3</td>\n",
       "      <td>ohc</td>\n",
       "      <td>109</td>\n",
       "      <td>102</td>\n",
       "      <td>24</td>\n",
       "      <td>30</td>\n",
       "      <td>13950</td>\n",
       "    </tr>\n",
       "    <tr>\n",
       "      <td>4</td>\n",
       "      <td>2</td>\n",
       "      <td>164</td>\n",
       "      <td>audi</td>\n",
       "      <td>gas</td>\n",
       "      <td>sedan</td>\n",
       "      <td>4wd</td>\n",
       "      <td>front</td>\n",
       "      <td>66.4</td>\n",
       "      <td>54.3</td>\n",
       "      <td>ohc</td>\n",
       "      <td>136</td>\n",
       "      <td>115</td>\n",
       "      <td>18</td>\n",
       "      <td>22</td>\n",
       "      <td>17450</td>\n",
       "    </tr>\n",
       "  </tbody>\n",
       "</table>\n",
       "</div>"
      ],
      "text/plain": [
       "   symboling normalized-losses         make fuel-type   body-style  \\\n",
       "0          3                 ?  alfa-romero       gas  convertible   \n",
       "1          3                 ?  alfa-romero       gas  convertible   \n",
       "2          1                 ?  alfa-romero       gas    hatchback   \n",
       "3          2               164         audi       gas        sedan   \n",
       "4          2               164         audi       gas        sedan   \n",
       "\n",
       "  drive-wheels engine-location  width  height engine-type  engine-size  \\\n",
       "0          rwd           front   64.1    48.8        dohc          130   \n",
       "1          rwd           front   64.1    48.8        dohc          130   \n",
       "2          rwd           front   65.5    52.4        ohcv          152   \n",
       "3          fwd           front   66.2    54.3         ohc          109   \n",
       "4          4wd           front   66.4    54.3         ohc          136   \n",
       "\n",
       "  horsepower  city-mpg  highway-mpg  price  \n",
       "0        111        21           27  13495  \n",
       "1        111        21           27  16500  \n",
       "2        154        19           26  16500  \n",
       "3        102        24           30  13950  \n",
       "4        115        18           22  17450  "
      ]
     },
     "execution_count": 3,
     "metadata": {},
     "output_type": "execute_result"
    }
   ],
   "source": [
    "df.head()"
   ]
  },
  {
   "cell_type": "code",
   "execution_count": 4,
   "metadata": {},
   "outputs": [
    {
     "name": "stdout",
     "output_type": "stream",
     "text": [
      "<class 'pandas.core.frame.DataFrame'>\n",
      "RangeIndex: 205 entries, 0 to 204\n",
      "Data columns (total 15 columns):\n",
      "symboling            205 non-null int64\n",
      "normalized-losses    205 non-null object\n",
      "make                 205 non-null object\n",
      "fuel-type            205 non-null object\n",
      "body-style           205 non-null object\n",
      "drive-wheels         205 non-null object\n",
      "engine-location      205 non-null object\n",
      "width                205 non-null float64\n",
      "height               205 non-null float64\n",
      "engine-type          205 non-null object\n",
      "engine-size          205 non-null int64\n",
      "horsepower           205 non-null object\n",
      "city-mpg             205 non-null int64\n",
      "highway-mpg          205 non-null int64\n",
      "price                205 non-null int64\n",
      "dtypes: float64(2), int64(5), object(8)\n",
      "memory usage: 24.1+ KB\n"
     ]
    }
   ],
   "source": [
    "df.info()"
   ]
  },
  {
   "cell_type": "code",
   "execution_count": 4,
   "metadata": {},
   "outputs": [],
   "source": [
    "df[\"normalized-losses\"].replace(\"?\",np.nan,inplace=True)\n",
    "df[\"normalized-losses\"] = df[\"normalized-losses\"].astype(float)\n",
    "losses_mean = df[\"normalized-losses\"].mean()\n",
    "df[\"normalized-losses\"].fillna(losses_mean,inplace=True)"
   ]
  },
  {
   "cell_type": "code",
   "execution_count": 5,
   "metadata": {},
   "outputs": [],
   "source": [
    "df[\"horsepower\"].replace(\"?\",np.nan,inplace=True)\n",
    "df[\"horsepower\"] = df[\"horsepower\"].astype(float)\n",
    "horsepower_mean = df[\"horsepower\"].mean()\n",
    "df[\"horsepower\"].fillna(horsepower_mean,inplace=True)"
   ]
  },
  {
   "cell_type": "code",
   "execution_count": 5,
   "metadata": {},
   "outputs": [
    {
     "data": {
      "text/plain": [
       "symboling              int64\n",
       "normalized-losses    float64\n",
       "make                  object\n",
       "fuel-type             object\n",
       "body-style            object\n",
       "drive-wheels          object\n",
       "engine-location       object\n",
       "width                float64\n",
       "height               float64\n",
       "engine-type           object\n",
       "engine-size            int64\n",
       "horsepower           float64\n",
       "city-mpg               int64\n",
       "highway-mpg            int64\n",
       "price                  int64\n",
       "dtype: object"
      ]
     },
     "execution_count": 5,
     "metadata": {},
     "output_type": "execute_result"
    }
   ],
   "source": [
    "df.dtypes"
   ]
  },
  {
   "cell_type": "code",
   "execution_count": 6,
   "metadata": {},
   "outputs": [],
   "source": [
    "df_num = df.select_dtypes([\"int64\",\"float64\"])\n",
    "df_cat = df.select_dtypes(\"object\")"
   ]
  },
  {
   "cell_type": "code",
   "execution_count": 7,
   "metadata": {},
   "outputs": [
    {
     "data": {
      "text/html": [
       "<div>\n",
       "<style scoped>\n",
       "    .dataframe tbody tr th:only-of-type {\n",
       "        vertical-align: middle;\n",
       "    }\n",
       "\n",
       "    .dataframe tbody tr th {\n",
       "        vertical-align: top;\n",
       "    }\n",
       "\n",
       "    .dataframe thead th {\n",
       "        text-align: right;\n",
       "    }\n",
       "</style>\n",
       "<table border=\"1\" class=\"dataframe\">\n",
       "  <thead>\n",
       "    <tr style=\"text-align: right;\">\n",
       "      <th></th>\n",
       "      <th>symboling</th>\n",
       "      <th>normalized-losses</th>\n",
       "      <th>width</th>\n",
       "      <th>height</th>\n",
       "      <th>engine-size</th>\n",
       "      <th>horsepower</th>\n",
       "      <th>city-mpg</th>\n",
       "      <th>highway-mpg</th>\n",
       "      <th>price</th>\n",
       "    </tr>\n",
       "  </thead>\n",
       "  <tbody>\n",
       "    <tr>\n",
       "      <td>0</td>\n",
       "      <td>3</td>\n",
       "      <td>122.0</td>\n",
       "      <td>64.1</td>\n",
       "      <td>48.8</td>\n",
       "      <td>130</td>\n",
       "      <td>111.0</td>\n",
       "      <td>21</td>\n",
       "      <td>27</td>\n",
       "      <td>13495</td>\n",
       "    </tr>\n",
       "    <tr>\n",
       "      <td>1</td>\n",
       "      <td>3</td>\n",
       "      <td>122.0</td>\n",
       "      <td>64.1</td>\n",
       "      <td>48.8</td>\n",
       "      <td>130</td>\n",
       "      <td>111.0</td>\n",
       "      <td>21</td>\n",
       "      <td>27</td>\n",
       "      <td>16500</td>\n",
       "    </tr>\n",
       "    <tr>\n",
       "      <td>2</td>\n",
       "      <td>1</td>\n",
       "      <td>122.0</td>\n",
       "      <td>65.5</td>\n",
       "      <td>52.4</td>\n",
       "      <td>152</td>\n",
       "      <td>154.0</td>\n",
       "      <td>19</td>\n",
       "      <td>26</td>\n",
       "      <td>16500</td>\n",
       "    </tr>\n",
       "    <tr>\n",
       "      <td>3</td>\n",
       "      <td>2</td>\n",
       "      <td>164.0</td>\n",
       "      <td>66.2</td>\n",
       "      <td>54.3</td>\n",
       "      <td>109</td>\n",
       "      <td>102.0</td>\n",
       "      <td>24</td>\n",
       "      <td>30</td>\n",
       "      <td>13950</td>\n",
       "    </tr>\n",
       "    <tr>\n",
       "      <td>4</td>\n",
       "      <td>2</td>\n",
       "      <td>164.0</td>\n",
       "      <td>66.4</td>\n",
       "      <td>54.3</td>\n",
       "      <td>136</td>\n",
       "      <td>115.0</td>\n",
       "      <td>18</td>\n",
       "      <td>22</td>\n",
       "      <td>17450</td>\n",
       "    </tr>\n",
       "  </tbody>\n",
       "</table>\n",
       "</div>"
      ],
      "text/plain": [
       "   symboling  normalized-losses  width  height  engine-size  horsepower  \\\n",
       "0          3              122.0   64.1    48.8          130       111.0   \n",
       "1          3              122.0   64.1    48.8          130       111.0   \n",
       "2          1              122.0   65.5    52.4          152       154.0   \n",
       "3          2              164.0   66.2    54.3          109       102.0   \n",
       "4          2              164.0   66.4    54.3          136       115.0   \n",
       "\n",
       "   city-mpg  highway-mpg  price  \n",
       "0        21           27  13495  \n",
       "1        21           27  16500  \n",
       "2        19           26  16500  \n",
       "3        24           30  13950  \n",
       "4        18           22  17450  "
      ]
     },
     "execution_count": 7,
     "metadata": {},
     "output_type": "execute_result"
    }
   ],
   "source": [
    "df_num.head()"
   ]
  },
  {
   "cell_type": "code",
   "execution_count": 8,
   "metadata": {},
   "outputs": [
    {
     "data": {
      "text/html": [
       "<div>\n",
       "<style scoped>\n",
       "    .dataframe tbody tr th:only-of-type {\n",
       "        vertical-align: middle;\n",
       "    }\n",
       "\n",
       "    .dataframe tbody tr th {\n",
       "        vertical-align: top;\n",
       "    }\n",
       "\n",
       "    .dataframe thead th {\n",
       "        text-align: right;\n",
       "    }\n",
       "</style>\n",
       "<table border=\"1\" class=\"dataframe\">\n",
       "  <thead>\n",
       "    <tr style=\"text-align: right;\">\n",
       "      <th></th>\n",
       "      <th>make</th>\n",
       "      <th>fuel-type</th>\n",
       "      <th>body-style</th>\n",
       "      <th>drive-wheels</th>\n",
       "      <th>engine-location</th>\n",
       "      <th>engine-type</th>\n",
       "    </tr>\n",
       "  </thead>\n",
       "  <tbody>\n",
       "    <tr>\n",
       "      <td>0</td>\n",
       "      <td>alfa-romero</td>\n",
       "      <td>gas</td>\n",
       "      <td>convertible</td>\n",
       "      <td>rwd</td>\n",
       "      <td>front</td>\n",
       "      <td>dohc</td>\n",
       "    </tr>\n",
       "    <tr>\n",
       "      <td>1</td>\n",
       "      <td>alfa-romero</td>\n",
       "      <td>gas</td>\n",
       "      <td>convertible</td>\n",
       "      <td>rwd</td>\n",
       "      <td>front</td>\n",
       "      <td>dohc</td>\n",
       "    </tr>\n",
       "    <tr>\n",
       "      <td>2</td>\n",
       "      <td>alfa-romero</td>\n",
       "      <td>gas</td>\n",
       "      <td>hatchback</td>\n",
       "      <td>rwd</td>\n",
       "      <td>front</td>\n",
       "      <td>ohcv</td>\n",
       "    </tr>\n",
       "    <tr>\n",
       "      <td>3</td>\n",
       "      <td>audi</td>\n",
       "      <td>gas</td>\n",
       "      <td>sedan</td>\n",
       "      <td>fwd</td>\n",
       "      <td>front</td>\n",
       "      <td>ohc</td>\n",
       "    </tr>\n",
       "    <tr>\n",
       "      <td>4</td>\n",
       "      <td>audi</td>\n",
       "      <td>gas</td>\n",
       "      <td>sedan</td>\n",
       "      <td>4wd</td>\n",
       "      <td>front</td>\n",
       "      <td>ohc</td>\n",
       "    </tr>\n",
       "  </tbody>\n",
       "</table>\n",
       "</div>"
      ],
      "text/plain": [
       "          make fuel-type   body-style drive-wheels engine-location engine-type\n",
       "0  alfa-romero       gas  convertible          rwd           front        dohc\n",
       "1  alfa-romero       gas  convertible          rwd           front        dohc\n",
       "2  alfa-romero       gas    hatchback          rwd           front        ohcv\n",
       "3         audi       gas        sedan          fwd           front         ohc\n",
       "4         audi       gas        sedan          4wd           front         ohc"
      ]
     },
     "execution_count": 8,
     "metadata": {},
     "output_type": "execute_result"
    }
   ],
   "source": [
    "df_cat.head()"
   ]
  },
  {
   "cell_type": "code",
   "execution_count": 7,
   "metadata": {},
   "outputs": [],
   "source": [
    "from sklearn.preprocessing import LabelEncoder"
   ]
  },
  {
   "cell_type": "code",
   "execution_count": 8,
   "metadata": {},
   "outputs": [
    {
     "name": "stderr",
     "output_type": "stream",
     "text": [
      "C:\\Users\\Lenovo\\Anaconda3\\lib\\site-packages\\ipykernel_launcher.py:3: SettingWithCopyWarning: \n",
      "A value is trying to be set on a copy of a slice from a DataFrame.\n",
      "Try using .loc[row_indexer,col_indexer] = value instead\n",
      "\n",
      "See the caveats in the documentation: http://pandas.pydata.org/pandas-docs/stable/user_guide/indexing.html#returning-a-view-versus-a-copy\n",
      "  This is separate from the ipykernel package so we can avoid doing imports until\n"
     ]
    }
   ],
   "source": [
    "for col in df_cat:\n",
    "    le = LabelEncoder()\n",
    "    df_cat[col] = le.fit_transform(df_cat[col])"
   ]
  },
  {
   "cell_type": "code",
   "execution_count": 11,
   "metadata": {},
   "outputs": [
    {
     "data": {
      "text/html": [
       "<div>\n",
       "<style scoped>\n",
       "    .dataframe tbody tr th:only-of-type {\n",
       "        vertical-align: middle;\n",
       "    }\n",
       "\n",
       "    .dataframe tbody tr th {\n",
       "        vertical-align: top;\n",
       "    }\n",
       "\n",
       "    .dataframe thead th {\n",
       "        text-align: right;\n",
       "    }\n",
       "</style>\n",
       "<table border=\"1\" class=\"dataframe\">\n",
       "  <thead>\n",
       "    <tr style=\"text-align: right;\">\n",
       "      <th></th>\n",
       "      <th>make</th>\n",
       "      <th>fuel-type</th>\n",
       "      <th>body-style</th>\n",
       "      <th>drive-wheels</th>\n",
       "      <th>engine-location</th>\n",
       "      <th>engine-type</th>\n",
       "    </tr>\n",
       "  </thead>\n",
       "  <tbody>\n",
       "    <tr>\n",
       "      <td>0</td>\n",
       "      <td>0</td>\n",
       "      <td>1</td>\n",
       "      <td>0</td>\n",
       "      <td>2</td>\n",
       "      <td>0</td>\n",
       "      <td>0</td>\n",
       "    </tr>\n",
       "    <tr>\n",
       "      <td>1</td>\n",
       "      <td>0</td>\n",
       "      <td>1</td>\n",
       "      <td>0</td>\n",
       "      <td>2</td>\n",
       "      <td>0</td>\n",
       "      <td>0</td>\n",
       "    </tr>\n",
       "    <tr>\n",
       "      <td>2</td>\n",
       "      <td>0</td>\n",
       "      <td>1</td>\n",
       "      <td>2</td>\n",
       "      <td>2</td>\n",
       "      <td>0</td>\n",
       "      <td>5</td>\n",
       "    </tr>\n",
       "    <tr>\n",
       "      <td>3</td>\n",
       "      <td>1</td>\n",
       "      <td>1</td>\n",
       "      <td>3</td>\n",
       "      <td>1</td>\n",
       "      <td>0</td>\n",
       "      <td>3</td>\n",
       "    </tr>\n",
       "    <tr>\n",
       "      <td>4</td>\n",
       "      <td>1</td>\n",
       "      <td>1</td>\n",
       "      <td>3</td>\n",
       "      <td>0</td>\n",
       "      <td>0</td>\n",
       "      <td>3</td>\n",
       "    </tr>\n",
       "  </tbody>\n",
       "</table>\n",
       "</div>"
      ],
      "text/plain": [
       "   make  fuel-type  body-style  drive-wheels  engine-location  engine-type\n",
       "0     0          1           0             2                0            0\n",
       "1     0          1           0             2                0            0\n",
       "2     0          1           2             2                0            5\n",
       "3     1          1           3             1                0            3\n",
       "4     1          1           3             0                0            3"
      ]
     },
     "execution_count": 11,
     "metadata": {},
     "output_type": "execute_result"
    }
   ],
   "source": [
    "df_cat.head()"
   ]
  },
  {
   "cell_type": "code",
   "execution_count": 9,
   "metadata": {},
   "outputs": [],
   "source": [
    "df_new = pd.concat([df_num,df_cat],axis=1)"
   ]
  },
  {
   "cell_type": "code",
   "execution_count": 10,
   "metadata": {},
   "outputs": [
    {
     "data": {
      "text/html": [
       "<div>\n",
       "<style scoped>\n",
       "    .dataframe tbody tr th:only-of-type {\n",
       "        vertical-align: middle;\n",
       "    }\n",
       "\n",
       "    .dataframe tbody tr th {\n",
       "        vertical-align: top;\n",
       "    }\n",
       "\n",
       "    .dataframe thead th {\n",
       "        text-align: right;\n",
       "    }\n",
       "</style>\n",
       "<table border=\"1\" class=\"dataframe\">\n",
       "  <thead>\n",
       "    <tr style=\"text-align: right;\">\n",
       "      <th></th>\n",
       "      <th>symboling</th>\n",
       "      <th>normalized-losses</th>\n",
       "      <th>width</th>\n",
       "      <th>height</th>\n",
       "      <th>engine-size</th>\n",
       "      <th>horsepower</th>\n",
       "      <th>city-mpg</th>\n",
       "      <th>highway-mpg</th>\n",
       "      <th>price</th>\n",
       "      <th>make</th>\n",
       "      <th>fuel-type</th>\n",
       "      <th>body-style</th>\n",
       "      <th>drive-wheels</th>\n",
       "      <th>engine-location</th>\n",
       "      <th>engine-type</th>\n",
       "    </tr>\n",
       "  </thead>\n",
       "  <tbody>\n",
       "    <tr>\n",
       "      <td>0</td>\n",
       "      <td>3</td>\n",
       "      <td>122.0</td>\n",
       "      <td>64.1</td>\n",
       "      <td>48.8</td>\n",
       "      <td>130</td>\n",
       "      <td>111.0</td>\n",
       "      <td>21</td>\n",
       "      <td>27</td>\n",
       "      <td>13495</td>\n",
       "      <td>0</td>\n",
       "      <td>1</td>\n",
       "      <td>0</td>\n",
       "      <td>2</td>\n",
       "      <td>0</td>\n",
       "      <td>0</td>\n",
       "    </tr>\n",
       "    <tr>\n",
       "      <td>1</td>\n",
       "      <td>3</td>\n",
       "      <td>122.0</td>\n",
       "      <td>64.1</td>\n",
       "      <td>48.8</td>\n",
       "      <td>130</td>\n",
       "      <td>111.0</td>\n",
       "      <td>21</td>\n",
       "      <td>27</td>\n",
       "      <td>16500</td>\n",
       "      <td>0</td>\n",
       "      <td>1</td>\n",
       "      <td>0</td>\n",
       "      <td>2</td>\n",
       "      <td>0</td>\n",
       "      <td>0</td>\n",
       "    </tr>\n",
       "    <tr>\n",
       "      <td>2</td>\n",
       "      <td>1</td>\n",
       "      <td>122.0</td>\n",
       "      <td>65.5</td>\n",
       "      <td>52.4</td>\n",
       "      <td>152</td>\n",
       "      <td>154.0</td>\n",
       "      <td>19</td>\n",
       "      <td>26</td>\n",
       "      <td>16500</td>\n",
       "      <td>0</td>\n",
       "      <td>1</td>\n",
       "      <td>2</td>\n",
       "      <td>2</td>\n",
       "      <td>0</td>\n",
       "      <td>5</td>\n",
       "    </tr>\n",
       "    <tr>\n",
       "      <td>3</td>\n",
       "      <td>2</td>\n",
       "      <td>164.0</td>\n",
       "      <td>66.2</td>\n",
       "      <td>54.3</td>\n",
       "      <td>109</td>\n",
       "      <td>102.0</td>\n",
       "      <td>24</td>\n",
       "      <td>30</td>\n",
       "      <td>13950</td>\n",
       "      <td>1</td>\n",
       "      <td>1</td>\n",
       "      <td>3</td>\n",
       "      <td>1</td>\n",
       "      <td>0</td>\n",
       "      <td>3</td>\n",
       "    </tr>\n",
       "    <tr>\n",
       "      <td>4</td>\n",
       "      <td>2</td>\n",
       "      <td>164.0</td>\n",
       "      <td>66.4</td>\n",
       "      <td>54.3</td>\n",
       "      <td>136</td>\n",
       "      <td>115.0</td>\n",
       "      <td>18</td>\n",
       "      <td>22</td>\n",
       "      <td>17450</td>\n",
       "      <td>1</td>\n",
       "      <td>1</td>\n",
       "      <td>3</td>\n",
       "      <td>0</td>\n",
       "      <td>0</td>\n",
       "      <td>3</td>\n",
       "    </tr>\n",
       "  </tbody>\n",
       "</table>\n",
       "</div>"
      ],
      "text/plain": [
       "   symboling  normalized-losses  width  height  engine-size  horsepower  \\\n",
       "0          3              122.0   64.1    48.8          130       111.0   \n",
       "1          3              122.0   64.1    48.8          130       111.0   \n",
       "2          1              122.0   65.5    52.4          152       154.0   \n",
       "3          2              164.0   66.2    54.3          109       102.0   \n",
       "4          2              164.0   66.4    54.3          136       115.0   \n",
       "\n",
       "   city-mpg  highway-mpg  price  make  fuel-type  body-style  drive-wheels  \\\n",
       "0        21           27  13495     0          1           0             2   \n",
       "1        21           27  16500     0          1           0             2   \n",
       "2        19           26  16500     0          1           2             2   \n",
       "3        24           30  13950     1          1           3             1   \n",
       "4        18           22  17450     1          1           3             0   \n",
       "\n",
       "   engine-location  engine-type  \n",
       "0                0            0  \n",
       "1                0            0  \n",
       "2                0            5  \n",
       "3                0            3  \n",
       "4                0            3  "
      ]
     },
     "execution_count": 10,
     "metadata": {},
     "output_type": "execute_result"
    }
   ],
   "source": [
    "df_new.head()"
   ]
  },
  {
   "cell_type": "markdown",
   "metadata": {},
   "source": [
    "### Baseline model"
   ]
  },
  {
   "cell_type": "code",
   "execution_count": 11,
   "metadata": {},
   "outputs": [],
   "source": [
    "from sklearn.model_selection import train_test_split\n",
    "from sklearn.linear_model import LinearRegression"
   ]
  },
  {
   "cell_type": "code",
   "execution_count": 12,
   "metadata": {},
   "outputs": [],
   "source": [
    "X = df_new.drop(\"price\",axis=1)\n",
    "y = df[\"price\"]"
   ]
  },
  {
   "cell_type": "code",
   "execution_count": 13,
   "metadata": {},
   "outputs": [],
   "source": [
    "X_train,X_test,y_train,y_test = train_test_split(X,y,test_size=0.3,random_state=1)\n"
   ]
  },
  {
   "cell_type": "code",
   "execution_count": 14,
   "metadata": {},
   "outputs": [
    {
     "data": {
      "text/plain": [
       "LinearRegression(copy_X=True, fit_intercept=True, n_jobs=None, normalize=False)"
      ]
     },
     "execution_count": 14,
     "metadata": {},
     "output_type": "execute_result"
    }
   ],
   "source": [
    "lin = LinearRegression()\n",
    "\n",
    "lin.fit(X_train,y_train)"
   ]
  },
  {
   "cell_type": "code",
   "execution_count": 15,
   "metadata": {},
   "outputs": [
    {
     "data": {
      "text/plain": [
       "0.8504573774895473"
      ]
     },
     "execution_count": 15,
     "metadata": {},
     "output_type": "execute_result"
    }
   ],
   "source": [
    "# Train score\n",
    "lin.score(X_train,y_train)"
   ]
  },
  {
   "cell_type": "code",
   "execution_count": 16,
   "metadata": {},
   "outputs": [
    {
     "data": {
      "text/plain": [
       "0.7965566780397374"
      ]
     },
     "execution_count": 16,
     "metadata": {},
     "output_type": "execute_result"
    }
   ],
   "source": [
    "# Test score\n",
    "lin.score(X_test,y_test)"
   ]
  },
  {
   "cell_type": "code",
   "execution_count": 17,
   "metadata": {},
   "outputs": [],
   "source": [
    "# this train - high than test score gives hint of overfitting"
   ]
  },
  {
   "cell_type": "code",
   "execution_count": 18,
   "metadata": {},
   "outputs": [
    {
     "data": {
      "text/plain": [
       "array([ 4.51384957e+01,  1.53127607e+00,  7.89452171e+02,  3.62663990e+02,\n",
       "        9.83682875e+01, -1.08169245e+01,  3.08017854e+02, -4.17024371e+02,\n",
       "       -2.00099087e+02, -6.22650015e+02, -1.70235175e+02,  1.86860719e+03,\n",
       "        1.64133620e+04,  2.83174279e+02])"
      ]
     },
     "execution_count": 18,
     "metadata": {},
     "output_type": "execute_result"
    }
   ],
   "source": [
    "lin.coef_"
   ]
  },
  {
   "cell_type": "code",
   "execution_count": 19,
   "metadata": {},
   "outputs": [],
   "source": [
    "from sklearn.linear_model import Lasso # lambda*sum(abs(coef))\n",
    "from sklearn.linear_model import Ridge # lambda*sum(square(coef))"
   ]
  },
  {
   "cell_type": "code",
   "execution_count": 20,
   "metadata": {},
   "outputs": [
    {
     "data": {
      "text/plain": [
       "array([ 2.08658930e+02, -5.60173023e-01,  3.64420144e+02,  5.72916414e+02,\n",
       "        1.04441215e+02,  2.21332730e+01,  2.11271281e+02, -2.72864381e+02,\n",
       "       -1.86340249e+02, -9.06610516e+02, -6.30655861e+02,  1.56860422e+03,\n",
       "        2.57047785e+03,  5.15948757e+02])"
      ]
     },
     "execution_count": 20,
     "metadata": {},
     "output_type": "execute_result"
    }
   ],
   "source": [
    "# Ridge: Reduces values of less important features coef\n",
    "l2 = Ridge(10)  # random lambda value = 10\n",
    "l2.fit(X_train,y_train)\n",
    "l2.coef_"
   ]
  },
  {
   "cell_type": "code",
   "execution_count": 21,
   "metadata": {},
   "outputs": [
    {
     "data": {
      "text/plain": [
       "array([ 2.086590e+02, -5.600000e-01,  3.644200e+02,  5.729160e+02,\n",
       "        1.044410e+02,  2.213300e+01,  2.112710e+02, -2.728640e+02,\n",
       "       -1.863400e+02, -9.066110e+02, -6.306560e+02,  1.568604e+03,\n",
       "        2.570478e+03,  5.159490e+02])"
      ]
     },
     "execution_count": 21,
     "metadata": {},
     "output_type": "execute_result"
    }
   ],
   "source": [
    "l2.coef_.round(3)"
   ]
  },
  {
   "cell_type": "code",
   "execution_count": 22,
   "metadata": {},
   "outputs": [
    {
     "data": {
      "text/plain": [
       "array([   0.        ,    3.96310671,    0.        ,  276.93279232,\n",
       "        135.34169218,   16.00129073,   -0.        , -113.03311963,\n",
       "       -126.40695244,   -0.        ,   -0.        ,    0.        ,\n",
       "          0.        ,    0.        ])"
      ]
     },
     "execution_count": 22,
     "metadata": {},
     "output_type": "execute_result"
    }
   ],
   "source": [
    "# Lasso helps in feature selection : it completely reduce coef values to zero\n",
    "l1 = Lasso(1000) \n",
    "l1.fit(X_train,y_train)\n",
    "l1.coef_"
   ]
  },
  {
   "cell_type": "code",
   "execution_count": 23,
   "metadata": {},
   "outputs": [
    {
     "data": {
      "text/plain": [
       "array([   0.,    4.,    0.,  277.,  135.,   16.,   -0., -113., -126.,\n",
       "         -0.,   -0.,    0.,    0.,    0.])"
      ]
     },
     "execution_count": 23,
     "metadata": {},
     "output_type": "execute_result"
    }
   ],
   "source": [
    "lc = l1.coef_.round()\n",
    "lc"
   ]
  },
  {
   "cell_type": "code",
   "execution_count": 24,
   "metadata": {},
   "outputs": [
    {
     "name": "stdout",
     "output_type": "stream",
     "text": [
      "symboling : 0.0\n",
      "normalized-losses : 4.0\n",
      "width : 0.0\n",
      "height : 277.0\n",
      "engine-size : 135.0\n",
      "horsepower : 16.0\n",
      "city-mpg : -0.0\n",
      "highway-mpg : -113.0\n",
      "make : -126.0\n",
      "fuel-type : -0.0\n",
      "body-style : -0.0\n",
      "drive-wheels : 0.0\n",
      "engine-location : 0.0\n",
      "engine-type : 0.0\n"
     ]
    }
   ],
   "source": [
    "i = 0\n",
    "for col in X:\n",
    "    print(col, \":\",lc[i])\n",
    "    i += 1"
   ]
  },
  {
   "cell_type": "markdown",
   "metadata": {},
   "source": [
    "### Finding right lambda value"
   ]
  },
  {
   "cell_type": "markdown",
   "metadata": {},
   "source": [
    "<p>Ridge(l2)</p>"
   ]
  },
  {
   "cell_type": "code",
   "execution_count": 46,
   "metadata": {},
   "outputs": [
    {
     "name": "stdout",
     "output_type": "stream",
     "text": [
      "1 -> 0.8074518758147271\n",
      "11 -> 0.8150277245431792\n",
      "21 -> 0.8142819591129825\n",
      "31 -> 0.8131633096537952\n",
      "41 -> 0.8120815180669059\n",
      "51 -> 0.8111047186143225\n",
      "61 -> 0.8102356739754502\n",
      "71 -> 0.809462627892344\n",
      "81 -> 0.8087718415627225\n",
      "91 -> 0.8081508480501449\n"
     ]
    }
   ],
   "source": [
    "for i in range(1,100,10):\n",
    "    l2 = Ridge(i)\n",
    "    l2.fit(X_train,y_train)\n",
    "    print(i,\"->\",l2.score(X_test,y_test))"
   ]
  },
  {
   "cell_type": "markdown",
   "metadata": {},
   "source": [
    "<p>Lasso(l1)</p>"
   ]
  },
  {
   "cell_type": "code",
   "execution_count": 47,
   "metadata": {},
   "outputs": [
    {
     "name": "stdout",
     "output_type": "stream",
     "text": [
      "200 -> 0.8139201358023782\n",
      "250 -> 0.8124219090780234\n",
      "300 -> 0.8085057299003378\n",
      "350 -> 0.8036053753129062\n",
      "400 -> 0.7977229768452246\n",
      "450 -> 0.7950465607641614\n"
     ]
    }
   ],
   "source": [
    "for i in range(200,500,50):\n",
    "    l1 = Lasso(i)\n",
    "    l1.fit(X_train,y_train)\n",
    "    print(i,\"->\",l1.score(X_test,y_test))"
   ]
  },
  {
   "cell_type": "markdown",
   "metadata": {},
   "source": [
    "### Final model\n",
    "<p>Ridge lambda - 11, score - 0.81</p>\n",
    "<p>Lasso lambda - 200, score - 0.81</p>"
   ]
  },
  {
   "cell_type": "code",
   "execution_count": 48,
   "metadata": {},
   "outputs": [
    {
     "name": "stdout",
     "output_type": "stream",
     "text": [
      "0.8150277245431792\n"
     ]
    }
   ],
   "source": [
    "l2 = Ridge(alpha=11)\n",
    "l2.fit(X_train,y_train)\n",
    "print(l2.score(X_test,y_test))"
   ]
  },
  {
   "cell_type": "code",
   "execution_count": 49,
   "metadata": {},
   "outputs": [
    {
     "data": {
      "text/plain": [
       "array([ 2.08075572e+02, -4.19381533e-01,  3.60059061e+02,  5.73951520e+02,\n",
       "        1.04837625e+02,  2.25081577e+01,  2.09621781e+02, -2.70364868e+02,\n",
       "       -1.85682528e+02, -8.73561956e+02, -6.31723522e+02,  1.53165287e+03,\n",
       "        2.37667318e+03,  5.13039213e+02])"
      ]
     },
     "execution_count": 49,
     "metadata": {},
     "output_type": "execute_result"
    }
   ],
   "source": [
    "l2.coef_"
   ]
  },
  {
   "cell_type": "code",
   "execution_count": 50,
   "metadata": {},
   "outputs": [
    {
     "name": "stdout",
     "output_type": "stream",
     "text": [
      "0.8139201358023782\n"
     ]
    }
   ],
   "source": [
    "l1 = Lasso(alpha=200)\n",
    "l1.fit(X_train,y_train)\n",
    "print(l1.score(X_test,y_test))"
   ]
  },
  {
   "cell_type": "code",
   "execution_count": 51,
   "metadata": {},
   "outputs": [
    {
     "data": {
      "text/plain": [
       "array([ 0.00000000e+00,  2.07002782e+00,  3.23427588e+02,  4.69420186e+02,\n",
       "        1.15553544e+02,  1.42784033e+01,  3.62975615e+01, -1.24776284e+02,\n",
       "       -1.67461354e+02, -0.00000000e+00, -4.05115132e+02,  1.11242794e+03,\n",
       "        2.09462838e+03,  3.05815537e+02])"
      ]
     },
     "execution_count": 51,
     "metadata": {},
     "output_type": "execute_result"
    }
   ],
   "source": [
    "l1.coef_"
   ]
  },
  {
   "cell_type": "markdown",
   "metadata": {},
   "source": [
    "### Cross Validation\n",
    "<p>cross validation let us know which model is working perfectly on overall data</p>\n",
    "<p>Ridge and Lasso are working on training data not on entire data</p>"
   ]
  },
  {
   "cell_type": "code",
   "execution_count": 52,
   "metadata": {},
   "outputs": [],
   "source": [
    "from sklearn.model_selection import cross_val_score"
   ]
  },
  {
   "cell_type": "code",
   "execution_count": 53,
   "metadata": {},
   "outputs": [],
   "source": [
    "l2_cross = cross_val_score(l2,X,y,cv=4)"
   ]
  },
  {
   "cell_type": "code",
   "execution_count": 54,
   "metadata": {},
   "outputs": [
    {
     "data": {
      "text/plain": [
       "array([0.74102278, 0.859919  , 0.40754955, 0.45287323])"
      ]
     },
     "execution_count": 54,
     "metadata": {},
     "output_type": "execute_result"
    }
   ],
   "source": [
    "l2_cross"
   ]
  },
  {
   "cell_type": "code",
   "execution_count": 55,
   "metadata": {},
   "outputs": [
    {
     "data": {
      "text/plain": [
       "0.6153411408406555"
      ]
     },
     "execution_count": 55,
     "metadata": {},
     "output_type": "execute_result"
    }
   ],
   "source": [
    "np.mean(l2_cross)"
   ]
  },
  {
   "cell_type": "code",
   "execution_count": 56,
   "metadata": {},
   "outputs": [],
   "source": [
    "l1_cross = cross_val_score(l1,X,y,cv=4)"
   ]
  },
  {
   "cell_type": "code",
   "execution_count": 57,
   "metadata": {},
   "outputs": [
    {
     "data": {
      "text/plain": [
       "array([0.76560829, 0.81872367, 0.43344753, 0.448364  ])"
      ]
     },
     "execution_count": 57,
     "metadata": {},
     "output_type": "execute_result"
    }
   ],
   "source": [
    "l1_cross"
   ]
  },
  {
   "cell_type": "code",
   "execution_count": 58,
   "metadata": {},
   "outputs": [
    {
     "data": {
      "text/plain": [
       "0.6165358705430692"
      ]
     },
     "execution_count": 58,
     "metadata": {},
     "output_type": "execute_result"
    }
   ],
   "source": [
    "l1_cross.mean()"
   ]
  },
  {
   "cell_type": "code",
   "execution_count": 38,
   "metadata": {},
   "outputs": [],
   "source": [
    "# Lasso is higher than Ridge hence Lasso wins"
   ]
  },
  {
   "cell_type": "code",
   "execution_count": null,
   "metadata": {},
   "outputs": [],
   "source": []
  },
  {
   "cell_type": "code",
   "execution_count": null,
   "metadata": {},
   "outputs": [],
   "source": []
  },
  {
   "cell_type": "code",
   "execution_count": null,
   "metadata": {},
   "outputs": [],
   "source": []
  },
  {
   "cell_type": "code",
   "execution_count": null,
   "metadata": {},
   "outputs": [],
   "source": []
  },
  {
   "cell_type": "code",
   "execution_count": null,
   "metadata": {},
   "outputs": [],
   "source": []
  }
 ],
 "metadata": {
  "kernelspec": {
   "display_name": "Python 3",
   "language": "python",
   "name": "python3"
  },
  "language_info": {
   "codemirror_mode": {
    "name": "ipython",
    "version": 3
   },
   "file_extension": ".py",
   "mimetype": "text/x-python",
   "name": "python",
   "nbconvert_exporter": "python",
   "pygments_lexer": "ipython3",
   "version": "3.7.4"
  }
 },
 "nbformat": 4,
 "nbformat_minor": 2
}
