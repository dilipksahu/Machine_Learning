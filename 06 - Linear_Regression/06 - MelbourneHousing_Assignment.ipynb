{
 "cells": [
  {
   "cell_type": "code",
   "execution_count": 1,
   "metadata": {},
   "outputs": [],
   "source": [
    "import numpy as np\n",
    "import pandas as pd\n",
    "import matplotlib.pyplot as plt\n",
    "import seaborn as sns\n",
    "%matplotlib inline\n",
    "sns.set()\n",
    "\n",
    "import warnings\n",
    "warnings.filterwarnings('ignore')"
   ]
  },
  {
   "cell_type": "code",
   "execution_count": 67,
   "metadata": {},
   "outputs": [],
   "source": [
    "from sklearn.model_selection import train_test_split\n",
    "from sklearn.linear_model import LinearRegression\n",
    "from sklearn.metrics import mean_squared_error,r2_score"
   ]
  },
  {
   "cell_type": "code",
   "execution_count": 221,
   "metadata": {},
   "outputs": [],
   "source": [
    "df = pd.read_csv(\"melb_data.csv\")"
   ]
  },
  {
   "cell_type": "code",
   "execution_count": 135,
   "metadata": {},
   "outputs": [
    {
     "data": {
      "text/html": [
       "<div>\n",
       "<style scoped>\n",
       "    .dataframe tbody tr th:only-of-type {\n",
       "        vertical-align: middle;\n",
       "    }\n",
       "\n",
       "    .dataframe tbody tr th {\n",
       "        vertical-align: top;\n",
       "    }\n",
       "\n",
       "    .dataframe thead th {\n",
       "        text-align: right;\n",
       "    }\n",
       "</style>\n",
       "<table border=\"1\" class=\"dataframe\">\n",
       "  <thead>\n",
       "    <tr style=\"text-align: right;\">\n",
       "      <th></th>\n",
       "      <th>Suburb</th>\n",
       "      <th>Address</th>\n",
       "      <th>Rooms</th>\n",
       "      <th>Type</th>\n",
       "      <th>Price</th>\n",
       "      <th>Method</th>\n",
       "      <th>SellerG</th>\n",
       "      <th>Date</th>\n",
       "      <th>Distance</th>\n",
       "      <th>Postcode</th>\n",
       "      <th>...</th>\n",
       "      <th>Bathroom</th>\n",
       "      <th>Car</th>\n",
       "      <th>Landsize</th>\n",
       "      <th>BuildingArea</th>\n",
       "      <th>YearBuilt</th>\n",
       "      <th>CouncilArea</th>\n",
       "      <th>Lattitude</th>\n",
       "      <th>Longtitude</th>\n",
       "      <th>Regionname</th>\n",
       "      <th>Propertycount</th>\n",
       "    </tr>\n",
       "  </thead>\n",
       "  <tbody>\n",
       "    <tr>\n",
       "      <td>0</td>\n",
       "      <td>Abbotsford</td>\n",
       "      <td>85 Turner St</td>\n",
       "      <td>2</td>\n",
       "      <td>h</td>\n",
       "      <td>1480000.0</td>\n",
       "      <td>S</td>\n",
       "      <td>Biggin</td>\n",
       "      <td>3/12/2016</td>\n",
       "      <td>2.5</td>\n",
       "      <td>3067.0</td>\n",
       "      <td>...</td>\n",
       "      <td>1.0</td>\n",
       "      <td>1.0</td>\n",
       "      <td>202.0</td>\n",
       "      <td>NaN</td>\n",
       "      <td>NaN</td>\n",
       "      <td>Yarra</td>\n",
       "      <td>-37.7996</td>\n",
       "      <td>144.9984</td>\n",
       "      <td>Northern Metropolitan</td>\n",
       "      <td>4019.0</td>\n",
       "    </tr>\n",
       "    <tr>\n",
       "      <td>1</td>\n",
       "      <td>Abbotsford</td>\n",
       "      <td>25 Bloomburg St</td>\n",
       "      <td>2</td>\n",
       "      <td>h</td>\n",
       "      <td>1035000.0</td>\n",
       "      <td>S</td>\n",
       "      <td>Biggin</td>\n",
       "      <td>4/02/2016</td>\n",
       "      <td>2.5</td>\n",
       "      <td>3067.0</td>\n",
       "      <td>...</td>\n",
       "      <td>1.0</td>\n",
       "      <td>0.0</td>\n",
       "      <td>156.0</td>\n",
       "      <td>79.0</td>\n",
       "      <td>1900.0</td>\n",
       "      <td>Yarra</td>\n",
       "      <td>-37.8079</td>\n",
       "      <td>144.9934</td>\n",
       "      <td>Northern Metropolitan</td>\n",
       "      <td>4019.0</td>\n",
       "    </tr>\n",
       "    <tr>\n",
       "      <td>2</td>\n",
       "      <td>Abbotsford</td>\n",
       "      <td>5 Charles St</td>\n",
       "      <td>3</td>\n",
       "      <td>h</td>\n",
       "      <td>1465000.0</td>\n",
       "      <td>SP</td>\n",
       "      <td>Biggin</td>\n",
       "      <td>4/03/2017</td>\n",
       "      <td>2.5</td>\n",
       "      <td>3067.0</td>\n",
       "      <td>...</td>\n",
       "      <td>2.0</td>\n",
       "      <td>0.0</td>\n",
       "      <td>134.0</td>\n",
       "      <td>150.0</td>\n",
       "      <td>1900.0</td>\n",
       "      <td>Yarra</td>\n",
       "      <td>-37.8093</td>\n",
       "      <td>144.9944</td>\n",
       "      <td>Northern Metropolitan</td>\n",
       "      <td>4019.0</td>\n",
       "    </tr>\n",
       "    <tr>\n",
       "      <td>3</td>\n",
       "      <td>Abbotsford</td>\n",
       "      <td>40 Federation La</td>\n",
       "      <td>3</td>\n",
       "      <td>h</td>\n",
       "      <td>850000.0</td>\n",
       "      <td>PI</td>\n",
       "      <td>Biggin</td>\n",
       "      <td>4/03/2017</td>\n",
       "      <td>2.5</td>\n",
       "      <td>3067.0</td>\n",
       "      <td>...</td>\n",
       "      <td>2.0</td>\n",
       "      <td>1.0</td>\n",
       "      <td>94.0</td>\n",
       "      <td>NaN</td>\n",
       "      <td>NaN</td>\n",
       "      <td>Yarra</td>\n",
       "      <td>-37.7969</td>\n",
       "      <td>144.9969</td>\n",
       "      <td>Northern Metropolitan</td>\n",
       "      <td>4019.0</td>\n",
       "    </tr>\n",
       "    <tr>\n",
       "      <td>4</td>\n",
       "      <td>Abbotsford</td>\n",
       "      <td>55a Park St</td>\n",
       "      <td>4</td>\n",
       "      <td>h</td>\n",
       "      <td>1600000.0</td>\n",
       "      <td>VB</td>\n",
       "      <td>Nelson</td>\n",
       "      <td>4/06/2016</td>\n",
       "      <td>2.5</td>\n",
       "      <td>3067.0</td>\n",
       "      <td>...</td>\n",
       "      <td>1.0</td>\n",
       "      <td>2.0</td>\n",
       "      <td>120.0</td>\n",
       "      <td>142.0</td>\n",
       "      <td>2014.0</td>\n",
       "      <td>Yarra</td>\n",
       "      <td>-37.8072</td>\n",
       "      <td>144.9941</td>\n",
       "      <td>Northern Metropolitan</td>\n",
       "      <td>4019.0</td>\n",
       "    </tr>\n",
       "  </tbody>\n",
       "</table>\n",
       "<p>5 rows × 21 columns</p>\n",
       "</div>"
      ],
      "text/plain": [
       "       Suburb           Address  Rooms Type      Price Method SellerG  \\\n",
       "0  Abbotsford      85 Turner St      2    h  1480000.0      S  Biggin   \n",
       "1  Abbotsford   25 Bloomburg St      2    h  1035000.0      S  Biggin   \n",
       "2  Abbotsford      5 Charles St      3    h  1465000.0     SP  Biggin   \n",
       "3  Abbotsford  40 Federation La      3    h   850000.0     PI  Biggin   \n",
       "4  Abbotsford       55a Park St      4    h  1600000.0     VB  Nelson   \n",
       "\n",
       "        Date  Distance  Postcode  ...  Bathroom  Car  Landsize  BuildingArea  \\\n",
       "0  3/12/2016       2.5    3067.0  ...       1.0  1.0     202.0           NaN   \n",
       "1  4/02/2016       2.5    3067.0  ...       1.0  0.0     156.0          79.0   \n",
       "2  4/03/2017       2.5    3067.0  ...       2.0  0.0     134.0         150.0   \n",
       "3  4/03/2017       2.5    3067.0  ...       2.0  1.0      94.0           NaN   \n",
       "4  4/06/2016       2.5    3067.0  ...       1.0  2.0     120.0         142.0   \n",
       "\n",
       "   YearBuilt  CouncilArea Lattitude  Longtitude             Regionname  \\\n",
       "0        NaN        Yarra  -37.7996    144.9984  Northern Metropolitan   \n",
       "1     1900.0        Yarra  -37.8079    144.9934  Northern Metropolitan   \n",
       "2     1900.0        Yarra  -37.8093    144.9944  Northern Metropolitan   \n",
       "3        NaN        Yarra  -37.7969    144.9969  Northern Metropolitan   \n",
       "4     2014.0        Yarra  -37.8072    144.9941  Northern Metropolitan   \n",
       "\n",
       "  Propertycount  \n",
       "0        4019.0  \n",
       "1        4019.0  \n",
       "2        4019.0  \n",
       "3        4019.0  \n",
       "4        4019.0  \n",
       "\n",
       "[5 rows x 21 columns]"
      ]
     },
     "execution_count": 135,
     "metadata": {},
     "output_type": "execute_result"
    }
   ],
   "source": [
    "df.head()"
   ]
  },
  {
   "cell_type": "code",
   "execution_count": 70,
   "metadata": {},
   "outputs": [
    {
     "data": {
      "text/html": [
       "<div>\n",
       "<style scoped>\n",
       "    .dataframe tbody tr th:only-of-type {\n",
       "        vertical-align: middle;\n",
       "    }\n",
       "\n",
       "    .dataframe tbody tr th {\n",
       "        vertical-align: top;\n",
       "    }\n",
       "\n",
       "    .dataframe thead th {\n",
       "        text-align: right;\n",
       "    }\n",
       "</style>\n",
       "<table border=\"1\" class=\"dataframe\">\n",
       "  <thead>\n",
       "    <tr style=\"text-align: right;\">\n",
       "      <th></th>\n",
       "      <th>Suburb</th>\n",
       "      <th>Address</th>\n",
       "      <th>Rooms</th>\n",
       "      <th>Type</th>\n",
       "      <th>Price</th>\n",
       "      <th>Method</th>\n",
       "      <th>SellerG</th>\n",
       "      <th>Date</th>\n",
       "      <th>Distance</th>\n",
       "      <th>Postcode</th>\n",
       "      <th>...</th>\n",
       "      <th>Bathroom</th>\n",
       "      <th>Car</th>\n",
       "      <th>Landsize</th>\n",
       "      <th>BuildingArea</th>\n",
       "      <th>YearBuilt</th>\n",
       "      <th>CouncilArea</th>\n",
       "      <th>Lattitude</th>\n",
       "      <th>Longtitude</th>\n",
       "      <th>Regionname</th>\n",
       "      <th>Propertycount</th>\n",
       "    </tr>\n",
       "  </thead>\n",
       "  <tbody>\n",
       "    <tr>\n",
       "      <td>count</td>\n",
       "      <td>13580</td>\n",
       "      <td>13580</td>\n",
       "      <td>13580.000000</td>\n",
       "      <td>13580</td>\n",
       "      <td>1.358000e+04</td>\n",
       "      <td>13580</td>\n",
       "      <td>13580</td>\n",
       "      <td>13580</td>\n",
       "      <td>13580.000000</td>\n",
       "      <td>13580.000000</td>\n",
       "      <td>...</td>\n",
       "      <td>13580.000000</td>\n",
       "      <td>13518.000000</td>\n",
       "      <td>13580.000000</td>\n",
       "      <td>7130.000000</td>\n",
       "      <td>8205.000000</td>\n",
       "      <td>12211</td>\n",
       "      <td>13580.000000</td>\n",
       "      <td>13580.000000</td>\n",
       "      <td>13580</td>\n",
       "      <td>13580.000000</td>\n",
       "    </tr>\n",
       "    <tr>\n",
       "      <td>unique</td>\n",
       "      <td>314</td>\n",
       "      <td>13378</td>\n",
       "      <td>NaN</td>\n",
       "      <td>3</td>\n",
       "      <td>NaN</td>\n",
       "      <td>5</td>\n",
       "      <td>268</td>\n",
       "      <td>58</td>\n",
       "      <td>NaN</td>\n",
       "      <td>NaN</td>\n",
       "      <td>...</td>\n",
       "      <td>NaN</td>\n",
       "      <td>NaN</td>\n",
       "      <td>NaN</td>\n",
       "      <td>NaN</td>\n",
       "      <td>NaN</td>\n",
       "      <td>33</td>\n",
       "      <td>NaN</td>\n",
       "      <td>NaN</td>\n",
       "      <td>8</td>\n",
       "      <td>NaN</td>\n",
       "    </tr>\n",
       "    <tr>\n",
       "      <td>top</td>\n",
       "      <td>Reservoir</td>\n",
       "      <td>28 Blair St</td>\n",
       "      <td>NaN</td>\n",
       "      <td>h</td>\n",
       "      <td>NaN</td>\n",
       "      <td>S</td>\n",
       "      <td>Nelson</td>\n",
       "      <td>27/05/2017</td>\n",
       "      <td>NaN</td>\n",
       "      <td>NaN</td>\n",
       "      <td>...</td>\n",
       "      <td>NaN</td>\n",
       "      <td>NaN</td>\n",
       "      <td>NaN</td>\n",
       "      <td>NaN</td>\n",
       "      <td>NaN</td>\n",
       "      <td>Moreland</td>\n",
       "      <td>NaN</td>\n",
       "      <td>NaN</td>\n",
       "      <td>Southern Metropolitan</td>\n",
       "      <td>NaN</td>\n",
       "    </tr>\n",
       "    <tr>\n",
       "      <td>freq</td>\n",
       "      <td>359</td>\n",
       "      <td>3</td>\n",
       "      <td>NaN</td>\n",
       "      <td>9449</td>\n",
       "      <td>NaN</td>\n",
       "      <td>9022</td>\n",
       "      <td>1565</td>\n",
       "      <td>473</td>\n",
       "      <td>NaN</td>\n",
       "      <td>NaN</td>\n",
       "      <td>...</td>\n",
       "      <td>NaN</td>\n",
       "      <td>NaN</td>\n",
       "      <td>NaN</td>\n",
       "      <td>NaN</td>\n",
       "      <td>NaN</td>\n",
       "      <td>1163</td>\n",
       "      <td>NaN</td>\n",
       "      <td>NaN</td>\n",
       "      <td>4695</td>\n",
       "      <td>NaN</td>\n",
       "    </tr>\n",
       "    <tr>\n",
       "      <td>mean</td>\n",
       "      <td>NaN</td>\n",
       "      <td>NaN</td>\n",
       "      <td>2.937997</td>\n",
       "      <td>NaN</td>\n",
       "      <td>1.075684e+06</td>\n",
       "      <td>NaN</td>\n",
       "      <td>NaN</td>\n",
       "      <td>NaN</td>\n",
       "      <td>10.137776</td>\n",
       "      <td>3105.301915</td>\n",
       "      <td>...</td>\n",
       "      <td>1.534242</td>\n",
       "      <td>1.610075</td>\n",
       "      <td>558.416127</td>\n",
       "      <td>151.967650</td>\n",
       "      <td>1964.684217</td>\n",
       "      <td>NaN</td>\n",
       "      <td>-37.809203</td>\n",
       "      <td>144.995216</td>\n",
       "      <td>NaN</td>\n",
       "      <td>7454.417378</td>\n",
       "    </tr>\n",
       "    <tr>\n",
       "      <td>std</td>\n",
       "      <td>NaN</td>\n",
       "      <td>NaN</td>\n",
       "      <td>0.955748</td>\n",
       "      <td>NaN</td>\n",
       "      <td>6.393107e+05</td>\n",
       "      <td>NaN</td>\n",
       "      <td>NaN</td>\n",
       "      <td>NaN</td>\n",
       "      <td>5.868725</td>\n",
       "      <td>90.676964</td>\n",
       "      <td>...</td>\n",
       "      <td>0.691712</td>\n",
       "      <td>0.962634</td>\n",
       "      <td>3990.669241</td>\n",
       "      <td>541.014538</td>\n",
       "      <td>37.273762</td>\n",
       "      <td>NaN</td>\n",
       "      <td>0.079260</td>\n",
       "      <td>0.103916</td>\n",
       "      <td>NaN</td>\n",
       "      <td>4378.581772</td>\n",
       "    </tr>\n",
       "    <tr>\n",
       "      <td>min</td>\n",
       "      <td>NaN</td>\n",
       "      <td>NaN</td>\n",
       "      <td>1.000000</td>\n",
       "      <td>NaN</td>\n",
       "      <td>8.500000e+04</td>\n",
       "      <td>NaN</td>\n",
       "      <td>NaN</td>\n",
       "      <td>NaN</td>\n",
       "      <td>0.000000</td>\n",
       "      <td>3000.000000</td>\n",
       "      <td>...</td>\n",
       "      <td>0.000000</td>\n",
       "      <td>0.000000</td>\n",
       "      <td>0.000000</td>\n",
       "      <td>0.000000</td>\n",
       "      <td>1196.000000</td>\n",
       "      <td>NaN</td>\n",
       "      <td>-38.182550</td>\n",
       "      <td>144.431810</td>\n",
       "      <td>NaN</td>\n",
       "      <td>249.000000</td>\n",
       "    </tr>\n",
       "    <tr>\n",
       "      <td>25%</td>\n",
       "      <td>NaN</td>\n",
       "      <td>NaN</td>\n",
       "      <td>2.000000</td>\n",
       "      <td>NaN</td>\n",
       "      <td>6.500000e+05</td>\n",
       "      <td>NaN</td>\n",
       "      <td>NaN</td>\n",
       "      <td>NaN</td>\n",
       "      <td>6.100000</td>\n",
       "      <td>3044.000000</td>\n",
       "      <td>...</td>\n",
       "      <td>1.000000</td>\n",
       "      <td>1.000000</td>\n",
       "      <td>177.000000</td>\n",
       "      <td>93.000000</td>\n",
       "      <td>1940.000000</td>\n",
       "      <td>NaN</td>\n",
       "      <td>-37.856822</td>\n",
       "      <td>144.929600</td>\n",
       "      <td>NaN</td>\n",
       "      <td>4380.000000</td>\n",
       "    </tr>\n",
       "    <tr>\n",
       "      <td>50%</td>\n",
       "      <td>NaN</td>\n",
       "      <td>NaN</td>\n",
       "      <td>3.000000</td>\n",
       "      <td>NaN</td>\n",
       "      <td>9.030000e+05</td>\n",
       "      <td>NaN</td>\n",
       "      <td>NaN</td>\n",
       "      <td>NaN</td>\n",
       "      <td>9.200000</td>\n",
       "      <td>3084.000000</td>\n",
       "      <td>...</td>\n",
       "      <td>1.000000</td>\n",
       "      <td>2.000000</td>\n",
       "      <td>440.000000</td>\n",
       "      <td>126.000000</td>\n",
       "      <td>1970.000000</td>\n",
       "      <td>NaN</td>\n",
       "      <td>-37.802355</td>\n",
       "      <td>145.000100</td>\n",
       "      <td>NaN</td>\n",
       "      <td>6555.000000</td>\n",
       "    </tr>\n",
       "    <tr>\n",
       "      <td>75%</td>\n",
       "      <td>NaN</td>\n",
       "      <td>NaN</td>\n",
       "      <td>3.000000</td>\n",
       "      <td>NaN</td>\n",
       "      <td>1.330000e+06</td>\n",
       "      <td>NaN</td>\n",
       "      <td>NaN</td>\n",
       "      <td>NaN</td>\n",
       "      <td>13.000000</td>\n",
       "      <td>3148.000000</td>\n",
       "      <td>...</td>\n",
       "      <td>2.000000</td>\n",
       "      <td>2.000000</td>\n",
       "      <td>651.000000</td>\n",
       "      <td>174.000000</td>\n",
       "      <td>1999.000000</td>\n",
       "      <td>NaN</td>\n",
       "      <td>-37.756400</td>\n",
       "      <td>145.058305</td>\n",
       "      <td>NaN</td>\n",
       "      <td>10331.000000</td>\n",
       "    </tr>\n",
       "    <tr>\n",
       "      <td>max</td>\n",
       "      <td>NaN</td>\n",
       "      <td>NaN</td>\n",
       "      <td>10.000000</td>\n",
       "      <td>NaN</td>\n",
       "      <td>9.000000e+06</td>\n",
       "      <td>NaN</td>\n",
       "      <td>NaN</td>\n",
       "      <td>NaN</td>\n",
       "      <td>48.100000</td>\n",
       "      <td>3977.000000</td>\n",
       "      <td>...</td>\n",
       "      <td>8.000000</td>\n",
       "      <td>10.000000</td>\n",
       "      <td>433014.000000</td>\n",
       "      <td>44515.000000</td>\n",
       "      <td>2018.000000</td>\n",
       "      <td>NaN</td>\n",
       "      <td>-37.408530</td>\n",
       "      <td>145.526350</td>\n",
       "      <td>NaN</td>\n",
       "      <td>21650.000000</td>\n",
       "    </tr>\n",
       "  </tbody>\n",
       "</table>\n",
       "<p>11 rows × 21 columns</p>\n",
       "</div>"
      ],
      "text/plain": [
       "           Suburb      Address         Rooms   Type         Price Method  \\\n",
       "count       13580        13580  13580.000000  13580  1.358000e+04  13580   \n",
       "unique        314        13378           NaN      3           NaN      5   \n",
       "top     Reservoir  28 Blair St           NaN      h           NaN      S   \n",
       "freq          359            3           NaN   9449           NaN   9022   \n",
       "mean          NaN          NaN      2.937997    NaN  1.075684e+06    NaN   \n",
       "std           NaN          NaN      0.955748    NaN  6.393107e+05    NaN   \n",
       "min           NaN          NaN      1.000000    NaN  8.500000e+04    NaN   \n",
       "25%           NaN          NaN      2.000000    NaN  6.500000e+05    NaN   \n",
       "50%           NaN          NaN      3.000000    NaN  9.030000e+05    NaN   \n",
       "75%           NaN          NaN      3.000000    NaN  1.330000e+06    NaN   \n",
       "max           NaN          NaN     10.000000    NaN  9.000000e+06    NaN   \n",
       "\n",
       "       SellerG        Date      Distance      Postcode  ...      Bathroom  \\\n",
       "count    13580       13580  13580.000000  13580.000000  ...  13580.000000   \n",
       "unique     268          58           NaN           NaN  ...           NaN   \n",
       "top     Nelson  27/05/2017           NaN           NaN  ...           NaN   \n",
       "freq      1565         473           NaN           NaN  ...           NaN   \n",
       "mean       NaN         NaN     10.137776   3105.301915  ...      1.534242   \n",
       "std        NaN         NaN      5.868725     90.676964  ...      0.691712   \n",
       "min        NaN         NaN      0.000000   3000.000000  ...      0.000000   \n",
       "25%        NaN         NaN      6.100000   3044.000000  ...      1.000000   \n",
       "50%        NaN         NaN      9.200000   3084.000000  ...      1.000000   \n",
       "75%        NaN         NaN     13.000000   3148.000000  ...      2.000000   \n",
       "max        NaN         NaN     48.100000   3977.000000  ...      8.000000   \n",
       "\n",
       "                 Car       Landsize  BuildingArea    YearBuilt  CouncilArea  \\\n",
       "count   13518.000000   13580.000000   7130.000000  8205.000000        12211   \n",
       "unique           NaN            NaN           NaN          NaN           33   \n",
       "top              NaN            NaN           NaN          NaN     Moreland   \n",
       "freq             NaN            NaN           NaN          NaN         1163   \n",
       "mean        1.610075     558.416127    151.967650  1964.684217          NaN   \n",
       "std         0.962634    3990.669241    541.014538    37.273762          NaN   \n",
       "min         0.000000       0.000000      0.000000  1196.000000          NaN   \n",
       "25%         1.000000     177.000000     93.000000  1940.000000          NaN   \n",
       "50%         2.000000     440.000000    126.000000  1970.000000          NaN   \n",
       "75%         2.000000     651.000000    174.000000  1999.000000          NaN   \n",
       "max        10.000000  433014.000000  44515.000000  2018.000000          NaN   \n",
       "\n",
       "           Lattitude    Longtitude             Regionname Propertycount  \n",
       "count   13580.000000  13580.000000                  13580  13580.000000  \n",
       "unique           NaN           NaN                      8           NaN  \n",
       "top              NaN           NaN  Southern Metropolitan           NaN  \n",
       "freq             NaN           NaN                   4695           NaN  \n",
       "mean      -37.809203    144.995216                    NaN   7454.417378  \n",
       "std         0.079260      0.103916                    NaN   4378.581772  \n",
       "min       -38.182550    144.431810                    NaN    249.000000  \n",
       "25%       -37.856822    144.929600                    NaN   4380.000000  \n",
       "50%       -37.802355    145.000100                    NaN   6555.000000  \n",
       "75%       -37.756400    145.058305                    NaN  10331.000000  \n",
       "max       -37.408530    145.526350                    NaN  21650.000000  \n",
       "\n",
       "[11 rows x 21 columns]"
      ]
     },
     "execution_count": 70,
     "metadata": {},
     "output_type": "execute_result"
    }
   ],
   "source": [
    "df.describe(include=\"all\")"
   ]
  },
  {
   "cell_type": "code",
   "execution_count": 71,
   "metadata": {},
   "outputs": [
    {
     "name": "stdout",
     "output_type": "stream",
     "text": [
      "<class 'pandas.core.frame.DataFrame'>\n",
      "RangeIndex: 13580 entries, 0 to 13579\n",
      "Data columns (total 21 columns):\n",
      "Suburb           13580 non-null object\n",
      "Address          13580 non-null object\n",
      "Rooms            13580 non-null int64\n",
      "Type             13580 non-null object\n",
      "Price            13580 non-null float64\n",
      "Method           13580 non-null object\n",
      "SellerG          13580 non-null object\n",
      "Date             13580 non-null object\n",
      "Distance         13580 non-null float64\n",
      "Postcode         13580 non-null float64\n",
      "Bedroom2         13580 non-null float64\n",
      "Bathroom         13580 non-null float64\n",
      "Car              13518 non-null float64\n",
      "Landsize         13580 non-null float64\n",
      "BuildingArea     7130 non-null float64\n",
      "YearBuilt        8205 non-null float64\n",
      "CouncilArea      12211 non-null object\n",
      "Lattitude        13580 non-null float64\n",
      "Longtitude       13580 non-null float64\n",
      "Regionname       13580 non-null object\n",
      "Propertycount    13580 non-null float64\n",
      "dtypes: float64(12), int64(1), object(8)\n",
      "memory usage: 2.2+ MB\n"
     ]
    }
   ],
   "source": [
    "df.info()"
   ]
  },
  {
   "cell_type": "code",
   "execution_count": 72,
   "metadata": {},
   "outputs": [
    {
     "data": {
      "text/plain": [
       "Suburb              0\n",
       "Address             0\n",
       "Rooms               0\n",
       "Type                0\n",
       "Price               0\n",
       "Method              0\n",
       "SellerG             0\n",
       "Date                0\n",
       "Distance            0\n",
       "Postcode            0\n",
       "Bedroom2            0\n",
       "Bathroom            0\n",
       "Car                62\n",
       "Landsize            0\n",
       "BuildingArea     6450\n",
       "YearBuilt        5375\n",
       "CouncilArea      1369\n",
       "Lattitude           0\n",
       "Longtitude          0\n",
       "Regionname          0\n",
       "Propertycount       0\n",
       "dtype: int64"
      ]
     },
     "execution_count": 72,
     "metadata": {},
     "output_type": "execute_result"
    }
   ],
   "source": [
    "df.isnull().sum()"
   ]
  },
  {
   "cell_type": "code",
   "execution_count": 222,
   "metadata": {},
   "outputs": [],
   "source": [
    "df[\"Car\"].fillna(df[\"Car\"].mean(),inplace=True)"
   ]
  },
  {
   "cell_type": "code",
   "execution_count": 223,
   "metadata": {},
   "outputs": [],
   "source": [
    "df[\"BuildingArea\"].fillna(df[\"BuildingArea\"].mean(),inplace=True)"
   ]
  },
  {
   "cell_type": "code",
   "execution_count": 224,
   "metadata": {},
   "outputs": [],
   "source": [
    "df.drop(\"YearBuilt\",axis=1,inplace=True)"
   ]
  },
  {
   "cell_type": "code",
   "execution_count": 225,
   "metadata": {},
   "outputs": [],
   "source": [
    "df[\"CouncilArea\"].fillna(\"Moreland\",inplace=True)"
   ]
  },
  {
   "cell_type": "code",
   "execution_count": 226,
   "metadata": {},
   "outputs": [],
   "source": [
    "#df[\"Date\"] = pd.to_datetime(df['Date'], format='%d/%m/%Y')"
   ]
  },
  {
   "cell_type": "code",
   "execution_count": 227,
   "metadata": {},
   "outputs": [],
   "source": [
    "df['Date'] = pd.to_datetime(df['Date']).dt.date"
   ]
  },
  {
   "cell_type": "code",
   "execution_count": 228,
   "metadata": {},
   "outputs": [],
   "source": [
    "df['Date'] = df['Date'].astype(\"datetime64[ns]\")"
   ]
  },
  {
   "cell_type": "code",
   "execution_count": 229,
   "metadata": {},
   "outputs": [],
   "source": [
    "# Create new columns\n",
    "df['Day'] = df['Date'].dt.day\n",
    "df['Month'] = df['Date'].dt.month\n",
    "df['Year'] = df['Date'].dt.year"
   ]
  },
  {
   "cell_type": "code",
   "execution_count": 230,
   "metadata": {},
   "outputs": [],
   "source": [
    "df.drop(\"Date\",axis=1,inplace=True)"
   ]
  },
  {
   "cell_type": "code",
   "execution_count": 231,
   "metadata": {},
   "outputs": [
    {
     "name": "stdout",
     "output_type": "stream",
     "text": [
      "<class 'pandas.core.frame.DataFrame'>\n",
      "RangeIndex: 13580 entries, 0 to 13579\n",
      "Data columns (total 22 columns):\n",
      "Suburb           13580 non-null object\n",
      "Address          13580 non-null object\n",
      "Rooms            13580 non-null int64\n",
      "Type             13580 non-null object\n",
      "Price            13580 non-null float64\n",
      "Method           13580 non-null object\n",
      "SellerG          13580 non-null object\n",
      "Distance         13580 non-null float64\n",
      "Postcode         13580 non-null float64\n",
      "Bedroom2         13580 non-null float64\n",
      "Bathroom         13580 non-null float64\n",
      "Car              13580 non-null float64\n",
      "Landsize         13580 non-null float64\n",
      "BuildingArea     13580 non-null float64\n",
      "CouncilArea      13580 non-null object\n",
      "Lattitude        13580 non-null float64\n",
      "Longtitude       13580 non-null float64\n",
      "Regionname       13580 non-null object\n",
      "Propertycount    13580 non-null float64\n",
      "Day              13580 non-null int64\n",
      "Month            13580 non-null int64\n",
      "Year             13580 non-null int64\n",
      "dtypes: float64(11), int64(4), object(7)\n",
      "memory usage: 2.3+ MB\n"
     ]
    }
   ],
   "source": [
    "df.info()"
   ]
  },
  {
   "cell_type": "code",
   "execution_count": 11,
   "metadata": {},
   "outputs": [
    {
     "data": {
      "text/html": [
       "<div>\n",
       "<style scoped>\n",
       "    .dataframe tbody tr th:only-of-type {\n",
       "        vertical-align: middle;\n",
       "    }\n",
       "\n",
       "    .dataframe tbody tr th {\n",
       "        vertical-align: top;\n",
       "    }\n",
       "\n",
       "    .dataframe thead th {\n",
       "        text-align: right;\n",
       "    }\n",
       "</style>\n",
       "<table border=\"1\" class=\"dataframe\">\n",
       "  <thead>\n",
       "    <tr style=\"text-align: right;\">\n",
       "      <th></th>\n",
       "      <th>Rooms</th>\n",
       "      <th>Price</th>\n",
       "      <th>Distance</th>\n",
       "      <th>Postcode</th>\n",
       "      <th>Bedroom2</th>\n",
       "      <th>Bathroom</th>\n",
       "      <th>Car</th>\n",
       "      <th>Landsize</th>\n",
       "      <th>BuildingArea</th>\n",
       "      <th>Lattitude</th>\n",
       "      <th>Longtitude</th>\n",
       "      <th>Propertycount</th>\n",
       "    </tr>\n",
       "  </thead>\n",
       "  <tbody>\n",
       "    <tr>\n",
       "      <td>Rooms</td>\n",
       "      <td>1.000000</td>\n",
       "      <td>0.496634</td>\n",
       "      <td>0.294203</td>\n",
       "      <td>0.055303</td>\n",
       "      <td>0.944190</td>\n",
       "      <td>0.592934</td>\n",
       "      <td>0.407843</td>\n",
       "      <td>0.025678</td>\n",
       "      <td>0.091373</td>\n",
       "      <td>0.015948</td>\n",
       "      <td>0.100771</td>\n",
       "      <td>-0.081530</td>\n",
       "    </tr>\n",
       "    <tr>\n",
       "      <td>Price</td>\n",
       "      <td>0.496634</td>\n",
       "      <td>1.000000</td>\n",
       "      <td>-0.162522</td>\n",
       "      <td>0.107867</td>\n",
       "      <td>0.475951</td>\n",
       "      <td>0.467038</td>\n",
       "      <td>0.238637</td>\n",
       "      <td>0.037507</td>\n",
       "      <td>0.069570</td>\n",
       "      <td>-0.212934</td>\n",
       "      <td>0.203656</td>\n",
       "      <td>-0.042153</td>\n",
       "    </tr>\n",
       "    <tr>\n",
       "      <td>Distance</td>\n",
       "      <td>0.294203</td>\n",
       "      <td>-0.162522</td>\n",
       "      <td>1.000000</td>\n",
       "      <td>0.431514</td>\n",
       "      <td>0.295927</td>\n",
       "      <td>0.127155</td>\n",
       "      <td>0.262074</td>\n",
       "      <td>0.025004</td>\n",
       "      <td>0.073990</td>\n",
       "      <td>-0.130723</td>\n",
       "      <td>0.239425</td>\n",
       "      <td>-0.054910</td>\n",
       "    </tr>\n",
       "    <tr>\n",
       "      <td>Postcode</td>\n",
       "      <td>0.055303</td>\n",
       "      <td>0.107867</td>\n",
       "      <td>0.431514</td>\n",
       "      <td>1.000000</td>\n",
       "      <td>0.060584</td>\n",
       "      <td>0.113664</td>\n",
       "      <td>0.050201</td>\n",
       "      <td>0.024558</td>\n",
       "      <td>0.040714</td>\n",
       "      <td>-0.406104</td>\n",
       "      <td>0.445357</td>\n",
       "      <td>0.062304</td>\n",
       "    </tr>\n",
       "    <tr>\n",
       "      <td>Bedroom2</td>\n",
       "      <td>0.944190</td>\n",
       "      <td>0.475951</td>\n",
       "      <td>0.295927</td>\n",
       "      <td>0.060584</td>\n",
       "      <td>1.000000</td>\n",
       "      <td>0.584685</td>\n",
       "      <td>0.404721</td>\n",
       "      <td>0.025646</td>\n",
       "      <td>0.089102</td>\n",
       "      <td>0.015925</td>\n",
       "      <td>0.102238</td>\n",
       "      <td>-0.081350</td>\n",
       "    </tr>\n",
       "    <tr>\n",
       "      <td>Bathroom</td>\n",
       "      <td>0.592934</td>\n",
       "      <td>0.467038</td>\n",
       "      <td>0.127155</td>\n",
       "      <td>0.113664</td>\n",
       "      <td>0.584685</td>\n",
       "      <td>1.000000</td>\n",
       "      <td>0.321788</td>\n",
       "      <td>0.037130</td>\n",
       "      <td>0.084462</td>\n",
       "      <td>-0.070594</td>\n",
       "      <td>0.118971</td>\n",
       "      <td>-0.052201</td>\n",
       "    </tr>\n",
       "    <tr>\n",
       "      <td>Car</td>\n",
       "      <td>0.407843</td>\n",
       "      <td>0.238637</td>\n",
       "      <td>0.262074</td>\n",
       "      <td>0.050201</td>\n",
       "      <td>0.404721</td>\n",
       "      <td>0.321788</td>\n",
       "      <td>1.000000</td>\n",
       "      <td>0.026759</td>\n",
       "      <td>0.068389</td>\n",
       "      <td>-0.001961</td>\n",
       "      <td>0.063304</td>\n",
       "      <td>-0.024255</td>\n",
       "    </tr>\n",
       "    <tr>\n",
       "      <td>Landsize</td>\n",
       "      <td>0.025678</td>\n",
       "      <td>0.037507</td>\n",
       "      <td>0.025004</td>\n",
       "      <td>0.024558</td>\n",
       "      <td>0.025646</td>\n",
       "      <td>0.037130</td>\n",
       "      <td>0.026759</td>\n",
       "      <td>1.000000</td>\n",
       "      <td>0.094659</td>\n",
       "      <td>0.009695</td>\n",
       "      <td>0.010833</td>\n",
       "      <td>-0.006854</td>\n",
       "    </tr>\n",
       "    <tr>\n",
       "      <td>BuildingArea</td>\n",
       "      <td>0.091373</td>\n",
       "      <td>0.069570</td>\n",
       "      <td>0.073990</td>\n",
       "      <td>0.040714</td>\n",
       "      <td>0.089102</td>\n",
       "      <td>0.084462</td>\n",
       "      <td>0.068389</td>\n",
       "      <td>0.094659</td>\n",
       "      <td>1.000000</td>\n",
       "      <td>0.031799</td>\n",
       "      <td>-0.017441</td>\n",
       "      <td>-0.020736</td>\n",
       "    </tr>\n",
       "    <tr>\n",
       "      <td>Lattitude</td>\n",
       "      <td>0.015948</td>\n",
       "      <td>-0.212934</td>\n",
       "      <td>-0.130723</td>\n",
       "      <td>-0.406104</td>\n",
       "      <td>0.015925</td>\n",
       "      <td>-0.070594</td>\n",
       "      <td>-0.001961</td>\n",
       "      <td>0.009695</td>\n",
       "      <td>0.031799</td>\n",
       "      <td>1.000000</td>\n",
       "      <td>-0.357634</td>\n",
       "      <td>0.047086</td>\n",
       "    </tr>\n",
       "    <tr>\n",
       "      <td>Longtitude</td>\n",
       "      <td>0.100771</td>\n",
       "      <td>0.203656</td>\n",
       "      <td>0.239425</td>\n",
       "      <td>0.445357</td>\n",
       "      <td>0.102238</td>\n",
       "      <td>0.118971</td>\n",
       "      <td>0.063304</td>\n",
       "      <td>0.010833</td>\n",
       "      <td>-0.017441</td>\n",
       "      <td>-0.357634</td>\n",
       "      <td>1.000000</td>\n",
       "      <td>0.065988</td>\n",
       "    </tr>\n",
       "    <tr>\n",
       "      <td>Propertycount</td>\n",
       "      <td>-0.081530</td>\n",
       "      <td>-0.042153</td>\n",
       "      <td>-0.054910</td>\n",
       "      <td>0.062304</td>\n",
       "      <td>-0.081350</td>\n",
       "      <td>-0.052201</td>\n",
       "      <td>-0.024255</td>\n",
       "      <td>-0.006854</td>\n",
       "      <td>-0.020736</td>\n",
       "      <td>0.047086</td>\n",
       "      <td>0.065988</td>\n",
       "      <td>1.000000</td>\n",
       "    </tr>\n",
       "  </tbody>\n",
       "</table>\n",
       "</div>"
      ],
      "text/plain": [
       "                  Rooms     Price  Distance  Postcode  Bedroom2  Bathroom  \\\n",
       "Rooms          1.000000  0.496634  0.294203  0.055303  0.944190  0.592934   \n",
       "Price          0.496634  1.000000 -0.162522  0.107867  0.475951  0.467038   \n",
       "Distance       0.294203 -0.162522  1.000000  0.431514  0.295927  0.127155   \n",
       "Postcode       0.055303  0.107867  0.431514  1.000000  0.060584  0.113664   \n",
       "Bedroom2       0.944190  0.475951  0.295927  0.060584  1.000000  0.584685   \n",
       "Bathroom       0.592934  0.467038  0.127155  0.113664  0.584685  1.000000   \n",
       "Car            0.407843  0.238637  0.262074  0.050201  0.404721  0.321788   \n",
       "Landsize       0.025678  0.037507  0.025004  0.024558  0.025646  0.037130   \n",
       "BuildingArea   0.091373  0.069570  0.073990  0.040714  0.089102  0.084462   \n",
       "Lattitude      0.015948 -0.212934 -0.130723 -0.406104  0.015925 -0.070594   \n",
       "Longtitude     0.100771  0.203656  0.239425  0.445357  0.102238  0.118971   \n",
       "Propertycount -0.081530 -0.042153 -0.054910  0.062304 -0.081350 -0.052201   \n",
       "\n",
       "                    Car  Landsize  BuildingArea  Lattitude  Longtitude  \\\n",
       "Rooms          0.407843  0.025678      0.091373   0.015948    0.100771   \n",
       "Price          0.238637  0.037507      0.069570  -0.212934    0.203656   \n",
       "Distance       0.262074  0.025004      0.073990  -0.130723    0.239425   \n",
       "Postcode       0.050201  0.024558      0.040714  -0.406104    0.445357   \n",
       "Bedroom2       0.404721  0.025646      0.089102   0.015925    0.102238   \n",
       "Bathroom       0.321788  0.037130      0.084462  -0.070594    0.118971   \n",
       "Car            1.000000  0.026759      0.068389  -0.001961    0.063304   \n",
       "Landsize       0.026759  1.000000      0.094659   0.009695    0.010833   \n",
       "BuildingArea   0.068389  0.094659      1.000000   0.031799   -0.017441   \n",
       "Lattitude     -0.001961  0.009695      0.031799   1.000000   -0.357634   \n",
       "Longtitude     0.063304  0.010833     -0.017441  -0.357634    1.000000   \n",
       "Propertycount -0.024255 -0.006854     -0.020736   0.047086    0.065988   \n",
       "\n",
       "               Propertycount  \n",
       "Rooms              -0.081530  \n",
       "Price              -0.042153  \n",
       "Distance           -0.054910  \n",
       "Postcode            0.062304  \n",
       "Bedroom2           -0.081350  \n",
       "Bathroom           -0.052201  \n",
       "Car                -0.024255  \n",
       "Landsize           -0.006854  \n",
       "BuildingArea       -0.020736  \n",
       "Lattitude           0.047086  \n",
       "Longtitude          0.065988  \n",
       "Propertycount       1.000000  "
      ]
     },
     "execution_count": 11,
     "metadata": {},
     "output_type": "execute_result"
    }
   ],
   "source": [
    "cor = df.corr()\n",
    "cor"
   ]
  },
  {
   "cell_type": "markdown",
   "metadata": {},
   "source": [
    "## Outliers"
   ]
  },
  {
   "cell_type": "code",
   "execution_count": 12,
   "metadata": {},
   "outputs": [
    {
     "data": {
      "image/png": "[encoded data removed]",
      "text/plain": [
       "<Figure size 720x576 with 1 Axes>"
      ]
     },
     "metadata": {
      "needs_background": "light"
     },
     "output_type": "display_data"
    }
   ],
   "source": [
    "plt.figure(figsize=(10,8))\n",
    "sns.boxplot(x=\"Price\",y=\"Regionname\",data=df)\n",
    "plt.show()"
   ]
  },
  {
   "cell_type": "code",
   "execution_count": 232,
   "metadata": {},
   "outputs": [
    {
     "data": {
      "text/html": [
       "<div>\n",
       "<style scoped>\n",
       "    .dataframe tbody tr th:only-of-type {\n",
       "        vertical-align: middle;\n",
       "    }\n",
       "\n",
       "    .dataframe tbody tr th {\n",
       "        vertical-align: top;\n",
       "    }\n",
       "\n",
       "    .dataframe thead th {\n",
       "        text-align: right;\n",
       "    }\n",
       "</style>\n",
       "<table border=\"1\" class=\"dataframe\">\n",
       "  <thead>\n",
       "    <tr style=\"text-align: right;\">\n",
       "      <th></th>\n",
       "      <th>Suburb</th>\n",
       "      <th>Address</th>\n",
       "      <th>Rooms</th>\n",
       "      <th>Type</th>\n",
       "      <th>Price</th>\n",
       "      <th>Method</th>\n",
       "      <th>SellerG</th>\n",
       "      <th>Distance</th>\n",
       "      <th>Postcode</th>\n",
       "      <th>Bedroom2</th>\n",
       "      <th>...</th>\n",
       "      <th>Landsize</th>\n",
       "      <th>BuildingArea</th>\n",
       "      <th>CouncilArea</th>\n",
       "      <th>Lattitude</th>\n",
       "      <th>Longtitude</th>\n",
       "      <th>Regionname</th>\n",
       "      <th>Propertycount</th>\n",
       "      <th>Day</th>\n",
       "      <th>Month</th>\n",
       "      <th>Year</th>\n",
       "    </tr>\n",
       "  </thead>\n",
       "  <tbody>\n",
       "    <tr>\n",
       "      <td>10740</td>\n",
       "      <td>Melton</td>\n",
       "      <td>28 Atkin St</td>\n",
       "      <td>4</td>\n",
       "      <td>h</td>\n",
       "      <td>550000.0</td>\n",
       "      <td>PI</td>\n",
       "      <td>Ryder</td>\n",
       "      <td>31.7</td>\n",
       "      <td>3337.0</td>\n",
       "      <td>4.0</td>\n",
       "      <td>...</td>\n",
       "      <td>1241.0</td>\n",
       "      <td>194.0</td>\n",
       "      <td>Melton</td>\n",
       "      <td>-37.68686</td>\n",
       "      <td>144.58157</td>\n",
       "      <td>Western Victoria</td>\n",
       "      <td>3600.0</td>\n",
       "      <td>7</td>\n",
       "      <td>8</td>\n",
       "      <td>2017</td>\n",
       "    </tr>\n",
       "    <tr>\n",
       "      <td>13487</td>\n",
       "      <td>Melton</td>\n",
       "      <td>21D Yuille St</td>\n",
       "      <td>5</td>\n",
       "      <td>h</td>\n",
       "      <td>710000.0</td>\n",
       "      <td>PI</td>\n",
       "      <td>Ryder</td>\n",
       "      <td>31.7</td>\n",
       "      <td>3337.0</td>\n",
       "      <td>5.0</td>\n",
       "      <td>...</td>\n",
       "      <td>1670.0</td>\n",
       "      <td>280.0</td>\n",
       "      <td>Moreland</td>\n",
       "      <td>-37.67813</td>\n",
       "      <td>144.59292</td>\n",
       "      <td>Western Victoria</td>\n",
       "      <td>3600.0</td>\n",
       "      <td>26</td>\n",
       "      <td>8</td>\n",
       "      <td>2017</td>\n",
       "    </tr>\n",
       "  </tbody>\n",
       "</table>\n",
       "<p>2 rows × 22 columns</p>\n",
       "</div>"
      ],
      "text/plain": [
       "       Suburb        Address  Rooms Type     Price Method SellerG  Distance  \\\n",
       "10740  Melton    28 Atkin St      4    h  550000.0     PI   Ryder      31.7   \n",
       "13487  Melton  21D Yuille St      5    h  710000.0     PI   Ryder      31.7   \n",
       "\n",
       "       Postcode  Bedroom2  ...  Landsize  BuildingArea  CouncilArea  \\\n",
       "10740    3337.0       4.0  ...    1241.0         194.0       Melton   \n",
       "13487    3337.0       5.0  ...    1670.0         280.0     Moreland   \n",
       "\n",
       "       Lattitude Longtitude        Regionname  Propertycount Day  Month  Year  \n",
       "10740  -37.68686  144.58157  Western Victoria         3600.0   7      8  2017  \n",
       "13487  -37.67813  144.59292  Western Victoria         3600.0  26      8  2017  \n",
       "\n",
       "[2 rows x 22 columns]"
      ]
     },
     "execution_count": 232,
     "metadata": {},
     "output_type": "execute_result"
    }
   ],
   "source": [
    "df[(df[\"Regionname\"] == \"Western Victoria\") & (df[\"Price\"] > 500000)]"
   ]
  },
  {
   "cell_type": "code",
   "execution_count": 233,
   "metadata": {},
   "outputs": [],
   "source": [
    "df.drop([10740,13487],inplace=True)"
   ]
  },
  {
   "cell_type": "code",
   "execution_count": 234,
   "metadata": {},
   "outputs": [
    {
     "data": {
      "text/html": [
       "<div>\n",
       "<style scoped>\n",
       "    .dataframe tbody tr th:only-of-type {\n",
       "        vertical-align: middle;\n",
       "    }\n",
       "\n",
       "    .dataframe tbody tr th {\n",
       "        vertical-align: top;\n",
       "    }\n",
       "\n",
       "    .dataframe thead th {\n",
       "        text-align: right;\n",
       "    }\n",
       "</style>\n",
       "<table border=\"1\" class=\"dataframe\">\n",
       "  <thead>\n",
       "    <tr style=\"text-align: right;\">\n",
       "      <th></th>\n",
       "      <th>Suburb</th>\n",
       "      <th>Address</th>\n",
       "      <th>Rooms</th>\n",
       "      <th>Type</th>\n",
       "      <th>Price</th>\n",
       "      <th>Method</th>\n",
       "      <th>SellerG</th>\n",
       "      <th>Distance</th>\n",
       "      <th>Postcode</th>\n",
       "      <th>Bedroom2</th>\n",
       "      <th>...</th>\n",
       "      <th>Landsize</th>\n",
       "      <th>BuildingArea</th>\n",
       "      <th>CouncilArea</th>\n",
       "      <th>Lattitude</th>\n",
       "      <th>Longtitude</th>\n",
       "      <th>Regionname</th>\n",
       "      <th>Propertycount</th>\n",
       "      <th>Day</th>\n",
       "      <th>Month</th>\n",
       "      <th>Year</th>\n",
       "    </tr>\n",
       "  </thead>\n",
       "  <tbody>\n",
       "    <tr>\n",
       "      <td>13245</td>\n",
       "      <td>New Gisborne</td>\n",
       "      <td>71 Hamilton Rd</td>\n",
       "      <td>5</td>\n",
       "      <td>h</td>\n",
       "      <td>1355000.0</td>\n",
       "      <td>S</td>\n",
       "      <td>Raine</td>\n",
       "      <td>48.1</td>\n",
       "      <td>3438.0</td>\n",
       "      <td>5.0</td>\n",
       "      <td>...</td>\n",
       "      <td>44500.0</td>\n",
       "      <td>44515.0</td>\n",
       "      <td>Moreland</td>\n",
       "      <td>-37.45392</td>\n",
       "      <td>144.58864</td>\n",
       "      <td>Northern Victoria</td>\n",
       "      <td>849.0</td>\n",
       "      <td>23</td>\n",
       "      <td>9</td>\n",
       "      <td>2017</td>\n",
       "    </tr>\n",
       "  </tbody>\n",
       "</table>\n",
       "<p>1 rows × 22 columns</p>\n",
       "</div>"
      ],
      "text/plain": [
       "             Suburb         Address  Rooms Type      Price Method SellerG  \\\n",
       "13245  New Gisborne  71 Hamilton Rd      5    h  1355000.0      S   Raine   \n",
       "\n",
       "       Distance  Postcode  Bedroom2  ...  Landsize  BuildingArea  CouncilArea  \\\n",
       "13245      48.1    3438.0       5.0  ...   44500.0       44515.0     Moreland   \n",
       "\n",
       "       Lattitude Longtitude         Regionname  Propertycount Day  Month  Year  \n",
       "13245  -37.45392  144.58864  Northern Victoria          849.0  23      9  2017  \n",
       "\n",
       "[1 rows x 22 columns]"
      ]
     },
     "execution_count": 234,
     "metadata": {},
     "output_type": "execute_result"
    }
   ],
   "source": [
    "df[(df[\"Regionname\"] == \"Northern Victoria\") & (df[\"Price\"] > 1000000)]"
   ]
  },
  {
   "cell_type": "code",
   "execution_count": 235,
   "metadata": {},
   "outputs": [],
   "source": [
    "df.drop([13245],inplace=True)"
   ]
  },
  {
   "cell_type": "code",
   "execution_count": 236,
   "metadata": {},
   "outputs": [
    {
     "data": {
      "text/html": [
       "<div>\n",
       "<style scoped>\n",
       "    .dataframe tbody tr th:only-of-type {\n",
       "        vertical-align: middle;\n",
       "    }\n",
       "\n",
       "    .dataframe tbody tr th {\n",
       "        vertical-align: top;\n",
       "    }\n",
       "\n",
       "    .dataframe thead th {\n",
       "        text-align: right;\n",
       "    }\n",
       "</style>\n",
       "<table border=\"1\" class=\"dataframe\">\n",
       "  <thead>\n",
       "    <tr style=\"text-align: right;\">\n",
       "      <th></th>\n",
       "      <th>Suburb</th>\n",
       "      <th>Address</th>\n",
       "      <th>Rooms</th>\n",
       "      <th>Type</th>\n",
       "      <th>Price</th>\n",
       "      <th>Method</th>\n",
       "      <th>SellerG</th>\n",
       "      <th>Distance</th>\n",
       "      <th>Postcode</th>\n",
       "      <th>Bedroom2</th>\n",
       "      <th>...</th>\n",
       "      <th>Landsize</th>\n",
       "      <th>BuildingArea</th>\n",
       "      <th>CouncilArea</th>\n",
       "      <th>Lattitude</th>\n",
       "      <th>Longtitude</th>\n",
       "      <th>Regionname</th>\n",
       "      <th>Propertycount</th>\n",
       "      <th>Day</th>\n",
       "      <th>Month</th>\n",
       "      <th>Year</th>\n",
       "    </tr>\n",
       "  </thead>\n",
       "  <tbody>\n",
       "    <tr>\n",
       "      <td>10045</td>\n",
       "      <td>Silvan</td>\n",
       "      <td>1 Parker Rd</td>\n",
       "      <td>4</td>\n",
       "      <td>h</td>\n",
       "      <td>1070000.0</td>\n",
       "      <td>S</td>\n",
       "      <td>Ray</td>\n",
       "      <td>34.6</td>\n",
       "      <td>3795.0</td>\n",
       "      <td>4.0</td>\n",
       "      <td>...</td>\n",
       "      <td>38490.0</td>\n",
       "      <td>151.96765</td>\n",
       "      <td>Yarra Ranges</td>\n",
       "      <td>-37.83229</td>\n",
       "      <td>145.43003</td>\n",
       "      <td>Eastern Victoria</td>\n",
       "      <td>457.0</td>\n",
       "      <td>24</td>\n",
       "      <td>6</td>\n",
       "      <td>2017</td>\n",
       "    </tr>\n",
       "    <tr>\n",
       "      <td>10504</td>\n",
       "      <td>Silvan</td>\n",
       "      <td>16 Eleanor Dr</td>\n",
       "      <td>3</td>\n",
       "      <td>h</td>\n",
       "      <td>1085000.0</td>\n",
       "      <td>S</td>\n",
       "      <td>Harcourts</td>\n",
       "      <td>34.6</td>\n",
       "      <td>3795.0</td>\n",
       "      <td>3.0</td>\n",
       "      <td>...</td>\n",
       "      <td>76000.0</td>\n",
       "      <td>151.96765</td>\n",
       "      <td>Yarra Ranges</td>\n",
       "      <td>-37.84739</td>\n",
       "      <td>145.47052</td>\n",
       "      <td>Eastern Victoria</td>\n",
       "      <td>457.0</td>\n",
       "      <td>27</td>\n",
       "      <td>5</td>\n",
       "      <td>2017</td>\n",
       "    </tr>\n",
       "  </tbody>\n",
       "</table>\n",
       "<p>2 rows × 22 columns</p>\n",
       "</div>"
      ],
      "text/plain": [
       "       Suburb        Address  Rooms Type      Price Method    SellerG  \\\n",
       "10045  Silvan    1 Parker Rd      4    h  1070000.0      S        Ray   \n",
       "10504  Silvan  16 Eleanor Dr      3    h  1085000.0      S  Harcourts   \n",
       "\n",
       "       Distance  Postcode  Bedroom2  ...  Landsize  BuildingArea  \\\n",
       "10045      34.6    3795.0       4.0  ...   38490.0     151.96765   \n",
       "10504      34.6    3795.0       3.0  ...   76000.0     151.96765   \n",
       "\n",
       "        CouncilArea  Lattitude Longtitude        Regionname  Propertycount  \\\n",
       "10045  Yarra Ranges  -37.83229  145.43003  Eastern Victoria          457.0   \n",
       "10504  Yarra Ranges  -37.84739  145.47052  Eastern Victoria          457.0   \n",
       "\n",
       "      Day  Month  Year  \n",
       "10045  24      6  2017  \n",
       "10504  27      5  2017  \n",
       "\n",
       "[2 rows x 22 columns]"
      ]
     },
     "execution_count": 236,
     "metadata": {},
     "output_type": "execute_result"
    }
   ],
   "source": [
    "df[(df[\"Regionname\"] == \"Eastern Victoria\") & (df[\"Price\"] > 1000000)]"
   ]
  },
  {
   "cell_type": "code",
   "execution_count": 237,
   "metadata": {},
   "outputs": [],
   "source": [
    "df.drop([10504,10045],inplace=True)"
   ]
  },
  {
   "cell_type": "code",
   "execution_count": 238,
   "metadata": {},
   "outputs": [
    {
     "data": {
      "text/html": [
       "<div>\n",
       "<style scoped>\n",
       "    .dataframe tbody tr th:only-of-type {\n",
       "        vertical-align: middle;\n",
       "    }\n",
       "\n",
       "    .dataframe tbody tr th {\n",
       "        vertical-align: top;\n",
       "    }\n",
       "\n",
       "    .dataframe thead th {\n",
       "        text-align: right;\n",
       "    }\n",
       "</style>\n",
       "<table border=\"1\" class=\"dataframe\">\n",
       "  <thead>\n",
       "    <tr style=\"text-align: right;\">\n",
       "      <th></th>\n",
       "      <th>Suburb</th>\n",
       "      <th>Address</th>\n",
       "      <th>Rooms</th>\n",
       "      <th>Type</th>\n",
       "      <th>Price</th>\n",
       "      <th>Method</th>\n",
       "      <th>SellerG</th>\n",
       "      <th>Distance</th>\n",
       "      <th>Postcode</th>\n",
       "      <th>Bedroom2</th>\n",
       "      <th>...</th>\n",
       "      <th>Landsize</th>\n",
       "      <th>BuildingArea</th>\n",
       "      <th>CouncilArea</th>\n",
       "      <th>Lattitude</th>\n",
       "      <th>Longtitude</th>\n",
       "      <th>Regionname</th>\n",
       "      <th>Propertycount</th>\n",
       "      <th>Day</th>\n",
       "      <th>Month</th>\n",
       "      <th>Year</th>\n",
       "    </tr>\n",
       "  </thead>\n",
       "  <tbody>\n",
       "    <tr>\n",
       "      <td>4559</td>\n",
       "      <td>Oakleigh South</td>\n",
       "      <td>1172 North Rd</td>\n",
       "      <td>6</td>\n",
       "      <td>h</td>\n",
       "      <td>1900000.0</td>\n",
       "      <td>S</td>\n",
       "      <td>Harcourts</td>\n",
       "      <td>14.7</td>\n",
       "      <td>3167.0</td>\n",
       "      <td>6.0</td>\n",
       "      <td>...</td>\n",
       "      <td>1200.0</td>\n",
       "      <td>181.00000</td>\n",
       "      <td>Monash</td>\n",
       "      <td>-37.90990</td>\n",
       "      <td>145.08750</td>\n",
       "      <td>South-Eastern Metropolitan</td>\n",
       "      <td>3692.0</td>\n",
       "      <td>18</td>\n",
       "      <td>3</td>\n",
       "      <td>2017</td>\n",
       "    </tr>\n",
       "    <tr>\n",
       "      <td>9647</td>\n",
       "      <td>Mulgrave</td>\n",
       "      <td>10 Adela Ct</td>\n",
       "      <td>4</td>\n",
       "      <td>h</td>\n",
       "      <td>2000000.0</td>\n",
       "      <td>S</td>\n",
       "      <td>Ray</td>\n",
       "      <td>18.8</td>\n",
       "      <td>3170.0</td>\n",
       "      <td>4.0</td>\n",
       "      <td>...</td>\n",
       "      <td>905.0</td>\n",
       "      <td>446.00000</td>\n",
       "      <td>Monash</td>\n",
       "      <td>-37.93190</td>\n",
       "      <td>145.20164</td>\n",
       "      <td>South-Eastern Metropolitan</td>\n",
       "      <td>7113.0</td>\n",
       "      <td>17</td>\n",
       "      <td>6</td>\n",
       "      <td>2017</td>\n",
       "    </tr>\n",
       "    <tr>\n",
       "      <td>10240</td>\n",
       "      <td>Edithvale</td>\n",
       "      <td>91 Edithvale Rd</td>\n",
       "      <td>6</td>\n",
       "      <td>h</td>\n",
       "      <td>1850000.0</td>\n",
       "      <td>S</td>\n",
       "      <td>O'Brien</td>\n",
       "      <td>27.0</td>\n",
       "      <td>3196.0</td>\n",
       "      <td>6.0</td>\n",
       "      <td>...</td>\n",
       "      <td>840.0</td>\n",
       "      <td>547.00000</td>\n",
       "      <td>Kingston</td>\n",
       "      <td>-38.03548</td>\n",
       "      <td>145.11763</td>\n",
       "      <td>South-Eastern Metropolitan</td>\n",
       "      <td>2546.0</td>\n",
       "      <td>27</td>\n",
       "      <td>5</td>\n",
       "      <td>2017</td>\n",
       "    </tr>\n",
       "    <tr>\n",
       "      <td>10789</td>\n",
       "      <td>Parkdale</td>\n",
       "      <td>1/168 Beach Rd</td>\n",
       "      <td>4</td>\n",
       "      <td>h</td>\n",
       "      <td>2185000.0</td>\n",
       "      <td>S</td>\n",
       "      <td>Ray</td>\n",
       "      <td>21.5</td>\n",
       "      <td>3195.0</td>\n",
       "      <td>4.0</td>\n",
       "      <td>...</td>\n",
       "      <td>220.0</td>\n",
       "      <td>213.00000</td>\n",
       "      <td>Kingston</td>\n",
       "      <td>-38.00205</td>\n",
       "      <td>145.07853</td>\n",
       "      <td>South-Eastern Metropolitan</td>\n",
       "      <td>5087.0</td>\n",
       "      <td>7</td>\n",
       "      <td>8</td>\n",
       "      <td>2017</td>\n",
       "    </tr>\n",
       "    <tr>\n",
       "      <td>11119</td>\n",
       "      <td>Mentone</td>\n",
       "      <td>5 Napier St</td>\n",
       "      <td>4</td>\n",
       "      <td>h</td>\n",
       "      <td>2025000.0</td>\n",
       "      <td>S</td>\n",
       "      <td>Greg</td>\n",
       "      <td>20.0</td>\n",
       "      <td>3194.0</td>\n",
       "      <td>4.0</td>\n",
       "      <td>...</td>\n",
       "      <td>408.0</td>\n",
       "      <td>274.00000</td>\n",
       "      <td>Kingston</td>\n",
       "      <td>-37.98707</td>\n",
       "      <td>145.06090</td>\n",
       "      <td>South-Eastern Metropolitan</td>\n",
       "      <td>6162.0</td>\n",
       "      <td>8</td>\n",
       "      <td>12</td>\n",
       "      <td>2017</td>\n",
       "    </tr>\n",
       "    <tr>\n",
       "      <td>11127</td>\n",
       "      <td>Mordialloc</td>\n",
       "      <td>8 Ashmore Av</td>\n",
       "      <td>4</td>\n",
       "      <td>h</td>\n",
       "      <td>1800000.0</td>\n",
       "      <td>SP</td>\n",
       "      <td>Buxton</td>\n",
       "      <td>21.5</td>\n",
       "      <td>3195.0</td>\n",
       "      <td>4.0</td>\n",
       "      <td>...</td>\n",
       "      <td>656.0</td>\n",
       "      <td>303.00000</td>\n",
       "      <td>Kingston</td>\n",
       "      <td>-38.00119</td>\n",
       "      <td>145.08589</td>\n",
       "      <td>South-Eastern Metropolitan</td>\n",
       "      <td>3650.0</td>\n",
       "      <td>8</td>\n",
       "      <td>12</td>\n",
       "      <td>2017</td>\n",
       "    </tr>\n",
       "    <tr>\n",
       "      <td>11318</td>\n",
       "      <td>Clayton</td>\n",
       "      <td>32 Wellington Rd</td>\n",
       "      <td>3</td>\n",
       "      <td>h</td>\n",
       "      <td>1950000.0</td>\n",
       "      <td>S</td>\n",
       "      <td>Buxton</td>\n",
       "      <td>16.7</td>\n",
       "      <td>3168.0</td>\n",
       "      <td>3.0</td>\n",
       "      <td>...</td>\n",
       "      <td>734.0</td>\n",
       "      <td>151.96765</td>\n",
       "      <td>Monash</td>\n",
       "      <td>-37.91583</td>\n",
       "      <td>145.13363</td>\n",
       "      <td>South-Eastern Metropolitan</td>\n",
       "      <td>5837.0</td>\n",
       "      <td>15</td>\n",
       "      <td>7</td>\n",
       "      <td>2017</td>\n",
       "    </tr>\n",
       "    <tr>\n",
       "      <td>12094</td>\n",
       "      <td>Mulgrave</td>\n",
       "      <td>35 Bevis St</td>\n",
       "      <td>3</td>\n",
       "      <td>h</td>\n",
       "      <td>9000000.0</td>\n",
       "      <td>PI</td>\n",
       "      <td>Hall</td>\n",
       "      <td>18.8</td>\n",
       "      <td>3170.0</td>\n",
       "      <td>3.0</td>\n",
       "      <td>...</td>\n",
       "      <td>744.0</td>\n",
       "      <td>117.00000</td>\n",
       "      <td>Monash</td>\n",
       "      <td>-37.93168</td>\n",
       "      <td>145.16126</td>\n",
       "      <td>South-Eastern Metropolitan</td>\n",
       "      <td>7113.0</td>\n",
       "      <td>29</td>\n",
       "      <td>7</td>\n",
       "      <td>2017</td>\n",
       "    </tr>\n",
       "    <tr>\n",
       "      <td>12307</td>\n",
       "      <td>Frankston South</td>\n",
       "      <td>30 Grange Rd</td>\n",
       "      <td>4</td>\n",
       "      <td>h</td>\n",
       "      <td>1905000.0</td>\n",
       "      <td>S</td>\n",
       "      <td>Eview</td>\n",
       "      <td>38.0</td>\n",
       "      <td>3199.0</td>\n",
       "      <td>4.0</td>\n",
       "      <td>...</td>\n",
       "      <td>1471.0</td>\n",
       "      <td>180.00000</td>\n",
       "      <td>Moreland</td>\n",
       "      <td>-38.15984</td>\n",
       "      <td>145.10884</td>\n",
       "      <td>South-Eastern Metropolitan</td>\n",
       "      <td>7566.0</td>\n",
       "      <td>9</td>\n",
       "      <td>3</td>\n",
       "      <td>2017</td>\n",
       "    </tr>\n",
       "    <tr>\n",
       "      <td>12656</td>\n",
       "      <td>Bonbeach</td>\n",
       "      <td>16B Newberry Av</td>\n",
       "      <td>4</td>\n",
       "      <td>t</td>\n",
       "      <td>1830000.0</td>\n",
       "      <td>S</td>\n",
       "      <td>hockingstuart</td>\n",
       "      <td>27.0</td>\n",
       "      <td>3196.0</td>\n",
       "      <td>4.0</td>\n",
       "      <td>...</td>\n",
       "      <td>353.0</td>\n",
       "      <td>222.00000</td>\n",
       "      <td>Moreland</td>\n",
       "      <td>-38.06189</td>\n",
       "      <td>145.11766</td>\n",
       "      <td>South-Eastern Metropolitan</td>\n",
       "      <td>2887.0</td>\n",
       "      <td>16</td>\n",
       "      <td>9</td>\n",
       "      <td>2017</td>\n",
       "    </tr>\n",
       "    <tr>\n",
       "      <td>12691</td>\n",
       "      <td>Clayton</td>\n",
       "      <td>22 Burton Av</td>\n",
       "      <td>3</td>\n",
       "      <td>h</td>\n",
       "      <td>2950000.0</td>\n",
       "      <td>S</td>\n",
       "      <td>Darras</td>\n",
       "      <td>16.7</td>\n",
       "      <td>3168.0</td>\n",
       "      <td>3.0</td>\n",
       "      <td>...</td>\n",
       "      <td>1040.0</td>\n",
       "      <td>151.96765</td>\n",
       "      <td>Moreland</td>\n",
       "      <td>-37.92614</td>\n",
       "      <td>145.11713</td>\n",
       "      <td>South-Eastern Metropolitan</td>\n",
       "      <td>5837.0</td>\n",
       "      <td>16</td>\n",
       "      <td>9</td>\n",
       "      <td>2017</td>\n",
       "    </tr>\n",
       "    <tr>\n",
       "      <td>13518</td>\n",
       "      <td>Parkdale</td>\n",
       "      <td>63 The Corso</td>\n",
       "      <td>4</td>\n",
       "      <td>h</td>\n",
       "      <td>2475000.0</td>\n",
       "      <td>PI</td>\n",
       "      <td>Buxton</td>\n",
       "      <td>21.5</td>\n",
       "      <td>3195.0</td>\n",
       "      <td>4.0</td>\n",
       "      <td>...</td>\n",
       "      <td>665.0</td>\n",
       "      <td>450.00000</td>\n",
       "      <td>Moreland</td>\n",
       "      <td>-37.99508</td>\n",
       "      <td>145.07544</td>\n",
       "      <td>South-Eastern Metropolitan</td>\n",
       "      <td>5087.0</td>\n",
       "      <td>26</td>\n",
       "      <td>8</td>\n",
       "      <td>2017</td>\n",
       "    </tr>\n",
       "  </tbody>\n",
       "</table>\n",
       "<p>12 rows × 22 columns</p>\n",
       "</div>"
      ],
      "text/plain": [
       "                Suburb           Address  Rooms Type      Price Method  \\\n",
       "4559    Oakleigh South     1172 North Rd      6    h  1900000.0      S   \n",
       "9647          Mulgrave       10 Adela Ct      4    h  2000000.0      S   \n",
       "10240        Edithvale   91 Edithvale Rd      6    h  1850000.0      S   \n",
       "10789         Parkdale    1/168 Beach Rd      4    h  2185000.0      S   \n",
       "11119          Mentone       5 Napier St      4    h  2025000.0      S   \n",
       "11127       Mordialloc      8 Ashmore Av      4    h  1800000.0     SP   \n",
       "11318          Clayton  32 Wellington Rd      3    h  1950000.0      S   \n",
       "12094         Mulgrave       35 Bevis St      3    h  9000000.0     PI   \n",
       "12307  Frankston South      30 Grange Rd      4    h  1905000.0      S   \n",
       "12656         Bonbeach   16B Newberry Av      4    t  1830000.0      S   \n",
       "12691          Clayton      22 Burton Av      3    h  2950000.0      S   \n",
       "13518         Parkdale      63 The Corso      4    h  2475000.0     PI   \n",
       "\n",
       "             SellerG  Distance  Postcode  Bedroom2  ...  Landsize  \\\n",
       "4559       Harcourts      14.7    3167.0       6.0  ...    1200.0   \n",
       "9647             Ray      18.8    3170.0       4.0  ...     905.0   \n",
       "10240        O'Brien      27.0    3196.0       6.0  ...     840.0   \n",
       "10789            Ray      21.5    3195.0       4.0  ...     220.0   \n",
       "11119           Greg      20.0    3194.0       4.0  ...     408.0   \n",
       "11127         Buxton      21.5    3195.0       4.0  ...     656.0   \n",
       "11318         Buxton      16.7    3168.0       3.0  ...     734.0   \n",
       "12094           Hall      18.8    3170.0       3.0  ...     744.0   \n",
       "12307          Eview      38.0    3199.0       4.0  ...    1471.0   \n",
       "12656  hockingstuart      27.0    3196.0       4.0  ...     353.0   \n",
       "12691         Darras      16.7    3168.0       3.0  ...    1040.0   \n",
       "13518         Buxton      21.5    3195.0       4.0  ...     665.0   \n",
       "\n",
       "       BuildingArea  CouncilArea  Lattitude Longtitude  \\\n",
       "4559      181.00000       Monash  -37.90990  145.08750   \n",
       "9647      446.00000       Monash  -37.93190  145.20164   \n",
       "10240     547.00000     Kingston  -38.03548  145.11763   \n",
       "10789     213.00000     Kingston  -38.00205  145.07853   \n",
       "11119     274.00000     Kingston  -37.98707  145.06090   \n",
       "11127     303.00000     Kingston  -38.00119  145.08589   \n",
       "11318     151.96765       Monash  -37.91583  145.13363   \n",
       "12094     117.00000       Monash  -37.93168  145.16126   \n",
       "12307     180.00000     Moreland  -38.15984  145.10884   \n",
       "12656     222.00000     Moreland  -38.06189  145.11766   \n",
       "12691     151.96765     Moreland  -37.92614  145.11713   \n",
       "13518     450.00000     Moreland  -37.99508  145.07544   \n",
       "\n",
       "                       Regionname  Propertycount Day  Month  Year  \n",
       "4559   South-Eastern Metropolitan         3692.0  18      3  2017  \n",
       "9647   South-Eastern Metropolitan         7113.0  17      6  2017  \n",
       "10240  South-Eastern Metropolitan         2546.0  27      5  2017  \n",
       "10789  South-Eastern Metropolitan         5087.0   7      8  2017  \n",
       "11119  South-Eastern Metropolitan         6162.0   8     12  2017  \n",
       "11127  South-Eastern Metropolitan         3650.0   8     12  2017  \n",
       "11318  South-Eastern Metropolitan         5837.0  15      7  2017  \n",
       "12094  South-Eastern Metropolitan         7113.0  29      7  2017  \n",
       "12307  South-Eastern Metropolitan         7566.0   9      3  2017  \n",
       "12656  South-Eastern Metropolitan         2887.0  16      9  2017  \n",
       "12691  South-Eastern Metropolitan         5837.0  16      9  2017  \n",
       "13518  South-Eastern Metropolitan         5087.0  26      8  2017  \n",
       "\n",
       "[12 rows x 22 columns]"
      ]
     },
     "execution_count": 238,
     "metadata": {},
     "output_type": "execute_result"
    }
   ],
   "source": [
    "df[(df[\"Regionname\"] == \"South-Eastern Metropolitan\") & (df[\"Price\"] > 1700000)]"
   ]
  },
  {
   "cell_type": "code",
   "execution_count": 239,
   "metadata": {},
   "outputs": [],
   "source": [
    "df.drop([4559,9647,10240,10789,11119,11127,11318,12094,12307,12656,12691,13518],inplace=True)"
   ]
  },
  {
   "cell_type": "code",
   "execution_count": 240,
   "metadata": {},
   "outputs": [
    {
     "data": {
      "text/plain": [
       "Int64Index([  979,   995,  2141,  2203,  2204,  2208,  2211,  3354,  3357,\n",
       "             3360,  3396,  3411,  3416,  4028,  4030,  4034,  4035,  4036,\n",
       "             4040,  4044,  5451,  6234,  7063,  7066,  7070,  7544,  8005,\n",
       "             8011,  8012,  8013,  8088,  8091,  8588,  8793,  8879,  8880,\n",
       "             9121,  9200,  9509,  9555,  9557,  9803,  9926, 10239, 10588,\n",
       "            10709, 11081, 11131, 11222, 11226, 11227, 11446, 11977, 12045,\n",
       "            12046, 12236, 12787, 12793, 13188],\n",
       "           dtype='int64')"
      ]
     },
     "execution_count": 240,
     "metadata": {},
     "output_type": "execute_result"
    }
   ],
   "source": [
    "df[(df[\"Regionname\"] == \"Eastern Metropolitan\") & (df[\"Price\"] > 2050000)].index"
   ]
  },
  {
   "cell_type": "code",
   "execution_count": 241,
   "metadata": {},
   "outputs": [],
   "source": [
    "df.drop(df[(df[\"Regionname\"] == \"Eastern Metropolitan\") & (df[\"Price\"] > 2050000)].index,inplace=True)"
   ]
  },
  {
   "cell_type": "code",
   "execution_count": 242,
   "metadata": {},
   "outputs": [
    {
     "data": {
      "text/plain": [
       "Int64Index([  108,   112,   233,   251,   270,   272,   273,   275,   388,\n",
       "              515,\n",
       "            ...\n",
       "            12253, 12557, 12616, 12646, 12762, 12772, 13013, 13199, 13341,\n",
       "            13468],\n",
       "           dtype='int64', length=126)"
      ]
     },
     "execution_count": 242,
     "metadata": {},
     "output_type": "execute_result"
    }
   ],
   "source": [
    "df[(df[\"Regionname\"] == \"Southern Metropolitan\") & (df[\"Price\"] > 3300000)].index"
   ]
  },
  {
   "cell_type": "code",
   "execution_count": 243,
   "metadata": {},
   "outputs": [],
   "source": [
    "df.drop(df[(df[\"Regionname\"] == \"Southern Metropolitan\") & (df[\"Price\"] > 3300000)].index,inplace=True)"
   ]
  },
  {
   "cell_type": "code",
   "execution_count": 244,
   "metadata": {},
   "outputs": [
    {
     "data": {
      "text/plain": [
       "Int64Index([  146,   288,   292,   321,   330,   367,  2345,  2350,  2354,\n",
       "             2356,\n",
       "            ...\n",
       "            12632, 12846, 13084, 13087, 13171, 13298, 13413, 13483, 13544,\n",
       "            13578],\n",
       "           dtype='int64', length=142)"
      ]
     },
     "execution_count": 244,
     "metadata": {},
     "output_type": "execute_result"
    }
   ],
   "source": [
    "df[(df[\"Regionname\"] == \"Western Metropolitan\") & (df[\"Price\"] > 1600000)].index"
   ]
  },
  {
   "cell_type": "code",
   "execution_count": 245,
   "metadata": {},
   "outputs": [],
   "source": [
    "df.drop(df[(df[\"Regionname\"] == \"Western Metropolitan\") & (df[\"Price\"] > 1600000)].index,inplace=True)"
   ]
  },
  {
   "cell_type": "code",
   "execution_count": 246,
   "metadata": {},
   "outputs": [
    {
     "data": {
      "text/plain": [
       "Int64Index([    6,   120,   124,   128,   131,   132,   138,   140,  1256,\n",
       "             1258,\n",
       "            ...\n",
       "            12299, 12393, 12665, 12975, 13127, 13281, 13377, 13389, 13419,\n",
       "            13531],\n",
       "           dtype='int64', length=165)"
      ]
     },
     "execution_count": 246,
     "metadata": {},
     "output_type": "execute_result"
    }
   ],
   "source": [
    "df[(df[\"Regionname\"] == \"Northern Metropolitan\") & (df[\"Price\"] > 1750000)].index"
   ]
  },
  {
   "cell_type": "code",
   "execution_count": 247,
   "metadata": {},
   "outputs": [],
   "source": [
    "df.drop(df[(df[\"Regionname\"] == \"Northern Metropolitan\") & (df[\"Price\"] > 1750000)].index,inplace=True)"
   ]
  },
  {
   "cell_type": "code",
   "execution_count": 248,
   "metadata": {},
   "outputs": [
    {
     "data": {
      "image/png": "[encoded data removed]",
      "text/plain": [
       "<Figure size 720x576 with 1 Axes>"
      ]
     },
     "metadata": {
      "needs_background": "light"
     },
     "output_type": "display_data"
    }
   ],
   "source": [
    "plt.figure(figsize=(10,8))\n",
    "sns.boxplot(x=\"Price\",y=\"Regionname\",data=df)\n",
    "plt.show()"
   ]
  },
  {
   "cell_type": "code",
   "execution_count": 38,
   "metadata": {},
   "outputs": [
    {
     "data": {
      "text/plain": [
       "<matplotlib.axes._subplots.AxesSubplot at 0x2e7275f08c8>"
      ]
     },
     "execution_count": 38,
     "metadata": {},
     "output_type": "execute_result"
    },
    {
     "data": {
      "image/png": "[encoded data removed]",
      "text/plain": [
       "<Figure size 432x288 with 1 Axes>"
      ]
     },
     "metadata": {
      "needs_background": "light"
     },
     "output_type": "display_data"
    }
   ],
   "source": [
    "sns.distplot(df[\"Price\"])"
   ]
  },
  {
   "cell_type": "markdown",
   "metadata": {},
   "source": [
    "### Separate Categorical and Numerical data"
   ]
  },
  {
   "cell_type": "code",
   "execution_count": 249,
   "metadata": {},
   "outputs": [],
   "source": [
    "df_cat = df.select_dtypes(\"object\")"
   ]
  },
  {
   "cell_type": "code",
   "execution_count": 250,
   "metadata": {},
   "outputs": [],
   "source": [
    "df_num = df.select_dtypes([\"int64\",\"float64\"])"
   ]
  },
  {
   "cell_type": "code",
   "execution_count": 251,
   "metadata": {},
   "outputs": [
    {
     "data": {
      "text/html": [
       "<div>\n",
       "<style scoped>\n",
       "    .dataframe tbody tr th:only-of-type {\n",
       "        vertical-align: middle;\n",
       "    }\n",
       "\n",
       "    .dataframe tbody tr th {\n",
       "        vertical-align: top;\n",
       "    }\n",
       "\n",
       "    .dataframe thead th {\n",
       "        text-align: right;\n",
       "    }\n",
       "</style>\n",
       "<table border=\"1\" class=\"dataframe\">\n",
       "  <thead>\n",
       "    <tr style=\"text-align: right;\">\n",
       "      <th></th>\n",
       "      <th>Suburb</th>\n",
       "      <th>Address</th>\n",
       "      <th>Type</th>\n",
       "      <th>Method</th>\n",
       "      <th>SellerG</th>\n",
       "      <th>CouncilArea</th>\n",
       "      <th>Regionname</th>\n",
       "    </tr>\n",
       "  </thead>\n",
       "  <tbody>\n",
       "    <tr>\n",
       "      <td>0</td>\n",
       "      <td>Abbotsford</td>\n",
       "      <td>85 Turner St</td>\n",
       "      <td>h</td>\n",
       "      <td>S</td>\n",
       "      <td>Biggin</td>\n",
       "      <td>Yarra</td>\n",
       "      <td>Northern Metropolitan</td>\n",
       "    </tr>\n",
       "    <tr>\n",
       "      <td>1</td>\n",
       "      <td>Abbotsford</td>\n",
       "      <td>25 Bloomburg St</td>\n",
       "      <td>h</td>\n",
       "      <td>S</td>\n",
       "      <td>Biggin</td>\n",
       "      <td>Yarra</td>\n",
       "      <td>Northern Metropolitan</td>\n",
       "    </tr>\n",
       "    <tr>\n",
       "      <td>2</td>\n",
       "      <td>Abbotsford</td>\n",
       "      <td>5 Charles St</td>\n",
       "      <td>h</td>\n",
       "      <td>SP</td>\n",
       "      <td>Biggin</td>\n",
       "      <td>Yarra</td>\n",
       "      <td>Northern Metropolitan</td>\n",
       "    </tr>\n",
       "    <tr>\n",
       "      <td>3</td>\n",
       "      <td>Abbotsford</td>\n",
       "      <td>40 Federation La</td>\n",
       "      <td>h</td>\n",
       "      <td>PI</td>\n",
       "      <td>Biggin</td>\n",
       "      <td>Yarra</td>\n",
       "      <td>Northern Metropolitan</td>\n",
       "    </tr>\n",
       "    <tr>\n",
       "      <td>4</td>\n",
       "      <td>Abbotsford</td>\n",
       "      <td>55a Park St</td>\n",
       "      <td>h</td>\n",
       "      <td>VB</td>\n",
       "      <td>Nelson</td>\n",
       "      <td>Yarra</td>\n",
       "      <td>Northern Metropolitan</td>\n",
       "    </tr>\n",
       "  </tbody>\n",
       "</table>\n",
       "</div>"
      ],
      "text/plain": [
       "       Suburb           Address Type Method SellerG CouncilArea  \\\n",
       "0  Abbotsford      85 Turner St    h      S  Biggin       Yarra   \n",
       "1  Abbotsford   25 Bloomburg St    h      S  Biggin       Yarra   \n",
       "2  Abbotsford      5 Charles St    h     SP  Biggin       Yarra   \n",
       "3  Abbotsford  40 Federation La    h     PI  Biggin       Yarra   \n",
       "4  Abbotsford       55a Park St    h     VB  Nelson       Yarra   \n",
       "\n",
       "              Regionname  \n",
       "0  Northern Metropolitan  \n",
       "1  Northern Metropolitan  \n",
       "2  Northern Metropolitan  \n",
       "3  Northern Metropolitan  \n",
       "4  Northern Metropolitan  "
      ]
     },
     "execution_count": 251,
     "metadata": {},
     "output_type": "execute_result"
    }
   ],
   "source": [
    "df_cat.head()"
   ]
  },
  {
   "cell_type": "code",
   "execution_count": 252,
   "metadata": {},
   "outputs": [
    {
     "data": {
      "text/html": [
       "<div>\n",
       "<style scoped>\n",
       "    .dataframe tbody tr th:only-of-type {\n",
       "        vertical-align: middle;\n",
       "    }\n",
       "\n",
       "    .dataframe tbody tr th {\n",
       "        vertical-align: top;\n",
       "    }\n",
       "\n",
       "    .dataframe thead th {\n",
       "        text-align: right;\n",
       "    }\n",
       "</style>\n",
       "<table border=\"1\" class=\"dataframe\">\n",
       "  <thead>\n",
       "    <tr style=\"text-align: right;\">\n",
       "      <th></th>\n",
       "      <th>Rooms</th>\n",
       "      <th>Price</th>\n",
       "      <th>Distance</th>\n",
       "      <th>Postcode</th>\n",
       "      <th>Bedroom2</th>\n",
       "      <th>Bathroom</th>\n",
       "      <th>Car</th>\n",
       "      <th>Landsize</th>\n",
       "      <th>BuildingArea</th>\n",
       "      <th>Lattitude</th>\n",
       "      <th>Longtitude</th>\n",
       "      <th>Propertycount</th>\n",
       "      <th>Day</th>\n",
       "      <th>Month</th>\n",
       "      <th>Year</th>\n",
       "    </tr>\n",
       "  </thead>\n",
       "  <tbody>\n",
       "    <tr>\n",
       "      <td>0</td>\n",
       "      <td>2</td>\n",
       "      <td>1480000.0</td>\n",
       "      <td>2.5</td>\n",
       "      <td>3067.0</td>\n",
       "      <td>2.0</td>\n",
       "      <td>1.0</td>\n",
       "      <td>1.0</td>\n",
       "      <td>202.0</td>\n",
       "      <td>151.96765</td>\n",
       "      <td>-37.7996</td>\n",
       "      <td>144.9984</td>\n",
       "      <td>4019.0</td>\n",
       "      <td>12</td>\n",
       "      <td>3</td>\n",
       "      <td>2016</td>\n",
       "    </tr>\n",
       "    <tr>\n",
       "      <td>1</td>\n",
       "      <td>2</td>\n",
       "      <td>1035000.0</td>\n",
       "      <td>2.5</td>\n",
       "      <td>3067.0</td>\n",
       "      <td>2.0</td>\n",
       "      <td>1.0</td>\n",
       "      <td>0.0</td>\n",
       "      <td>156.0</td>\n",
       "      <td>79.00000</td>\n",
       "      <td>-37.8079</td>\n",
       "      <td>144.9934</td>\n",
       "      <td>4019.0</td>\n",
       "      <td>2</td>\n",
       "      <td>4</td>\n",
       "      <td>2016</td>\n",
       "    </tr>\n",
       "    <tr>\n",
       "      <td>2</td>\n",
       "      <td>3</td>\n",
       "      <td>1465000.0</td>\n",
       "      <td>2.5</td>\n",
       "      <td>3067.0</td>\n",
       "      <td>3.0</td>\n",
       "      <td>2.0</td>\n",
       "      <td>0.0</td>\n",
       "      <td>134.0</td>\n",
       "      <td>150.00000</td>\n",
       "      <td>-37.8093</td>\n",
       "      <td>144.9944</td>\n",
       "      <td>4019.0</td>\n",
       "      <td>3</td>\n",
       "      <td>4</td>\n",
       "      <td>2017</td>\n",
       "    </tr>\n",
       "    <tr>\n",
       "      <td>3</td>\n",
       "      <td>3</td>\n",
       "      <td>850000.0</td>\n",
       "      <td>2.5</td>\n",
       "      <td>3067.0</td>\n",
       "      <td>3.0</td>\n",
       "      <td>2.0</td>\n",
       "      <td>1.0</td>\n",
       "      <td>94.0</td>\n",
       "      <td>151.96765</td>\n",
       "      <td>-37.7969</td>\n",
       "      <td>144.9969</td>\n",
       "      <td>4019.0</td>\n",
       "      <td>3</td>\n",
       "      <td>4</td>\n",
       "      <td>2017</td>\n",
       "    </tr>\n",
       "    <tr>\n",
       "      <td>4</td>\n",
       "      <td>4</td>\n",
       "      <td>1600000.0</td>\n",
       "      <td>2.5</td>\n",
       "      <td>3067.0</td>\n",
       "      <td>3.0</td>\n",
       "      <td>1.0</td>\n",
       "      <td>2.0</td>\n",
       "      <td>120.0</td>\n",
       "      <td>142.00000</td>\n",
       "      <td>-37.8072</td>\n",
       "      <td>144.9941</td>\n",
       "      <td>4019.0</td>\n",
       "      <td>6</td>\n",
       "      <td>4</td>\n",
       "      <td>2016</td>\n",
       "    </tr>\n",
       "  </tbody>\n",
       "</table>\n",
       "</div>"
      ],
      "text/plain": [
       "   Rooms      Price  Distance  Postcode  Bedroom2  Bathroom  Car  Landsize  \\\n",
       "0      2  1480000.0       2.5    3067.0       2.0       1.0  1.0     202.0   \n",
       "1      2  1035000.0       2.5    3067.0       2.0       1.0  0.0     156.0   \n",
       "2      3  1465000.0       2.5    3067.0       3.0       2.0  0.0     134.0   \n",
       "3      3   850000.0       2.5    3067.0       3.0       2.0  1.0      94.0   \n",
       "4      4  1600000.0       2.5    3067.0       3.0       1.0  2.0     120.0   \n",
       "\n",
       "   BuildingArea  Lattitude  Longtitude  Propertycount  Day  Month  Year  \n",
       "0     151.96765   -37.7996    144.9984         4019.0   12      3  2016  \n",
       "1      79.00000   -37.8079    144.9934         4019.0    2      4  2016  \n",
       "2     150.00000   -37.8093    144.9944         4019.0    3      4  2017  \n",
       "3     151.96765   -37.7969    144.9969         4019.0    3      4  2017  \n",
       "4     142.00000   -37.8072    144.9941         4019.0    6      4  2016  "
      ]
     },
     "execution_count": 252,
     "metadata": {},
     "output_type": "execute_result"
    }
   ],
   "source": [
    "df_num.head()"
   ]
  },
  {
   "cell_type": "code",
   "execution_count": 253,
   "metadata": {},
   "outputs": [
    {
     "data": {
      "text/html": [
       "<div>\n",
       "<style scoped>\n",
       "    .dataframe tbody tr th:only-of-type {\n",
       "        vertical-align: middle;\n",
       "    }\n",
       "\n",
       "    .dataframe tbody tr th {\n",
       "        vertical-align: top;\n",
       "    }\n",
       "\n",
       "    .dataframe thead th {\n",
       "        text-align: right;\n",
       "    }\n",
       "</style>\n",
       "<table border=\"1\" class=\"dataframe\">\n",
       "  <thead>\n",
       "    <tr style=\"text-align: right;\">\n",
       "      <th></th>\n",
       "      <th>Suburb</th>\n",
       "      <th>Address</th>\n",
       "      <th>Type</th>\n",
       "      <th>Method</th>\n",
       "      <th>SellerG</th>\n",
       "      <th>CouncilArea</th>\n",
       "      <th>Regionname</th>\n",
       "    </tr>\n",
       "  </thead>\n",
       "  <tbody>\n",
       "    <tr>\n",
       "      <td>count</td>\n",
       "      <td>13071</td>\n",
       "      <td>13071</td>\n",
       "      <td>13071</td>\n",
       "      <td>13071</td>\n",
       "      <td>13071</td>\n",
       "      <td>13071</td>\n",
       "      <td>13071</td>\n",
       "    </tr>\n",
       "    <tr>\n",
       "      <td>unique</td>\n",
       "      <td>312</td>\n",
       "      <td>12897</td>\n",
       "      <td>3</td>\n",
       "      <td>5</td>\n",
       "      <td>263</td>\n",
       "      <td>33</td>\n",
       "      <td>8</td>\n",
       "    </tr>\n",
       "    <tr>\n",
       "      <td>top</td>\n",
       "      <td>Reservoir</td>\n",
       "      <td>5 Charles St</td>\n",
       "      <td>h</td>\n",
       "      <td>S</td>\n",
       "      <td>Nelson</td>\n",
       "      <td>Moreland</td>\n",
       "      <td>Southern Metropolitan</td>\n",
       "    </tr>\n",
       "    <tr>\n",
       "      <td>freq</td>\n",
       "      <td>359</td>\n",
       "      <td>3</td>\n",
       "      <td>8947</td>\n",
       "      <td>8687</td>\n",
       "      <td>1472</td>\n",
       "      <td>2468</td>\n",
       "      <td>4569</td>\n",
       "    </tr>\n",
       "  </tbody>\n",
       "</table>\n",
       "</div>"
      ],
      "text/plain": [
       "           Suburb       Address   Type Method SellerG CouncilArea  \\\n",
       "count       13071         13071  13071  13071   13071       13071   \n",
       "unique        312         12897      3      5     263          33   \n",
       "top     Reservoir  5 Charles St      h      S  Nelson    Moreland   \n",
       "freq          359             3   8947   8687    1472        2468   \n",
       "\n",
       "                   Regionname  \n",
       "count                   13071  \n",
       "unique                      8  \n",
       "top     Southern Metropolitan  \n",
       "freq                     4569  "
      ]
     },
     "execution_count": 253,
     "metadata": {},
     "output_type": "execute_result"
    }
   ],
   "source": [
    "df_cat.describe(include=\"all\")"
   ]
  },
  {
   "cell_type": "code",
   "execution_count": 254,
   "metadata": {},
   "outputs": [],
   "source": [
    "df_cat.drop([\"Suburb\",\"Address\",\"SellerG\"],axis=1,inplace=True)"
   ]
  },
  {
   "cell_type": "code",
   "execution_count": 255,
   "metadata": {},
   "outputs": [
    {
     "data": {
      "text/html": [
       "<div>\n",
       "<style scoped>\n",
       "    .dataframe tbody tr th:only-of-type {\n",
       "        vertical-align: middle;\n",
       "    }\n",
       "\n",
       "    .dataframe tbody tr th {\n",
       "        vertical-align: top;\n",
       "    }\n",
       "\n",
       "    .dataframe thead th {\n",
       "        text-align: right;\n",
       "    }\n",
       "</style>\n",
       "<table border=\"1\" class=\"dataframe\">\n",
       "  <thead>\n",
       "    <tr style=\"text-align: right;\">\n",
       "      <th></th>\n",
       "      <th>Type</th>\n",
       "      <th>Method</th>\n",
       "      <th>CouncilArea</th>\n",
       "      <th>Regionname</th>\n",
       "    </tr>\n",
       "  </thead>\n",
       "  <tbody>\n",
       "    <tr>\n",
       "      <td>0</td>\n",
       "      <td>h</td>\n",
       "      <td>S</td>\n",
       "      <td>Yarra</td>\n",
       "      <td>Northern Metropolitan</td>\n",
       "    </tr>\n",
       "    <tr>\n",
       "      <td>1</td>\n",
       "      <td>h</td>\n",
       "      <td>S</td>\n",
       "      <td>Yarra</td>\n",
       "      <td>Northern Metropolitan</td>\n",
       "    </tr>\n",
       "    <tr>\n",
       "      <td>2</td>\n",
       "      <td>h</td>\n",
       "      <td>SP</td>\n",
       "      <td>Yarra</td>\n",
       "      <td>Northern Metropolitan</td>\n",
       "    </tr>\n",
       "    <tr>\n",
       "      <td>3</td>\n",
       "      <td>h</td>\n",
       "      <td>PI</td>\n",
       "      <td>Yarra</td>\n",
       "      <td>Northern Metropolitan</td>\n",
       "    </tr>\n",
       "    <tr>\n",
       "      <td>4</td>\n",
       "      <td>h</td>\n",
       "      <td>VB</td>\n",
       "      <td>Yarra</td>\n",
       "      <td>Northern Metropolitan</td>\n",
       "    </tr>\n",
       "  </tbody>\n",
       "</table>\n",
       "</div>"
      ],
      "text/plain": [
       "  Type Method CouncilArea             Regionname\n",
       "0    h      S       Yarra  Northern Metropolitan\n",
       "1    h      S       Yarra  Northern Metropolitan\n",
       "2    h     SP       Yarra  Northern Metropolitan\n",
       "3    h     PI       Yarra  Northern Metropolitan\n",
       "4    h     VB       Yarra  Northern Metropolitan"
      ]
     },
     "execution_count": 255,
     "metadata": {},
     "output_type": "execute_result"
    }
   ],
   "source": [
    "df_cat.head()"
   ]
  },
  {
   "cell_type": "code",
   "execution_count": 256,
   "metadata": {},
   "outputs": [],
   "source": [
    "## Label encoding\n",
    "from sklearn.preprocessing import LabelEncoder"
   ]
  },
  {
   "cell_type": "code",
   "execution_count": 257,
   "metadata": {},
   "outputs": [],
   "source": [
    "for col in df_cat:\n",
    "    le = LabelEncoder()\n",
    "    df_cat[col] = le.fit_transform(df_cat[col])"
   ]
  },
  {
   "cell_type": "code",
   "execution_count": 258,
   "metadata": {},
   "outputs": [
    {
     "data": {
      "text/html": [
       "<div>\n",
       "<style scoped>\n",
       "    .dataframe tbody tr th:only-of-type {\n",
       "        vertical-align: middle;\n",
       "    }\n",
       "\n",
       "    .dataframe tbody tr th {\n",
       "        vertical-align: top;\n",
       "    }\n",
       "\n",
       "    .dataframe thead th {\n",
       "        text-align: right;\n",
       "    }\n",
       "</style>\n",
       "<table border=\"1\" class=\"dataframe\">\n",
       "  <thead>\n",
       "    <tr style=\"text-align: right;\">\n",
       "      <th></th>\n",
       "      <th>Type</th>\n",
       "      <th>Method</th>\n",
       "      <th>CouncilArea</th>\n",
       "      <th>Regionname</th>\n",
       "    </tr>\n",
       "  </thead>\n",
       "  <tbody>\n",
       "    <tr>\n",
       "      <td>0</td>\n",
       "      <td>0</td>\n",
       "      <td>1</td>\n",
       "      <td>31</td>\n",
       "      <td>2</td>\n",
       "    </tr>\n",
       "    <tr>\n",
       "      <td>1</td>\n",
       "      <td>0</td>\n",
       "      <td>1</td>\n",
       "      <td>31</td>\n",
       "      <td>2</td>\n",
       "    </tr>\n",
       "    <tr>\n",
       "      <td>2</td>\n",
       "      <td>0</td>\n",
       "      <td>3</td>\n",
       "      <td>31</td>\n",
       "      <td>2</td>\n",
       "    </tr>\n",
       "    <tr>\n",
       "      <td>3</td>\n",
       "      <td>0</td>\n",
       "      <td>0</td>\n",
       "      <td>31</td>\n",
       "      <td>2</td>\n",
       "    </tr>\n",
       "    <tr>\n",
       "      <td>4</td>\n",
       "      <td>0</td>\n",
       "      <td>4</td>\n",
       "      <td>31</td>\n",
       "      <td>2</td>\n",
       "    </tr>\n",
       "  </tbody>\n",
       "</table>\n",
       "</div>"
      ],
      "text/plain": [
       "   Type  Method  CouncilArea  Regionname\n",
       "0     0       1           31           2\n",
       "1     0       1           31           2\n",
       "2     0       3           31           2\n",
       "3     0       0           31           2\n",
       "4     0       4           31           2"
      ]
     },
     "execution_count": 258,
     "metadata": {},
     "output_type": "execute_result"
    }
   ],
   "source": [
    "df_cat.head()"
   ]
  },
  {
   "cell_type": "markdown",
   "metadata": {},
   "source": [
    "### Skewness"
   ]
  },
  {
   "cell_type": "code",
   "execution_count": 259,
   "metadata": {},
   "outputs": [
    {
     "data": {
      "text/html": [
       "<div>\n",
       "<style scoped>\n",
       "    .dataframe tbody tr th:only-of-type {\n",
       "        vertical-align: middle;\n",
       "    }\n",
       "\n",
       "    .dataframe tbody tr th {\n",
       "        vertical-align: top;\n",
       "    }\n",
       "\n",
       "    .dataframe thead th {\n",
       "        text-align: right;\n",
       "    }\n",
       "</style>\n",
       "<table border=\"1\" class=\"dataframe\">\n",
       "  <thead>\n",
       "    <tr style=\"text-align: right;\">\n",
       "      <th></th>\n",
       "      <th>Rooms</th>\n",
       "      <th>Price</th>\n",
       "      <th>Distance</th>\n",
       "      <th>Postcode</th>\n",
       "      <th>Bedroom2</th>\n",
       "      <th>Bathroom</th>\n",
       "      <th>Car</th>\n",
       "      <th>Landsize</th>\n",
       "      <th>BuildingArea</th>\n",
       "      <th>Lattitude</th>\n",
       "      <th>Longtitude</th>\n",
       "      <th>Propertycount</th>\n",
       "      <th>Day</th>\n",
       "      <th>Month</th>\n",
       "      <th>Year</th>\n",
       "    </tr>\n",
       "  </thead>\n",
       "  <tbody>\n",
       "    <tr>\n",
       "      <td>0</td>\n",
       "      <td>2</td>\n",
       "      <td>1480000.0</td>\n",
       "      <td>2.5</td>\n",
       "      <td>3067.0</td>\n",
       "      <td>2.0</td>\n",
       "      <td>1.0</td>\n",
       "      <td>1.0</td>\n",
       "      <td>202.0</td>\n",
       "      <td>151.96765</td>\n",
       "      <td>-37.7996</td>\n",
       "      <td>144.9984</td>\n",
       "      <td>4019.0</td>\n",
       "      <td>12</td>\n",
       "      <td>3</td>\n",
       "      <td>2016</td>\n",
       "    </tr>\n",
       "    <tr>\n",
       "      <td>1</td>\n",
       "      <td>2</td>\n",
       "      <td>1035000.0</td>\n",
       "      <td>2.5</td>\n",
       "      <td>3067.0</td>\n",
       "      <td>2.0</td>\n",
       "      <td>1.0</td>\n",
       "      <td>0.0</td>\n",
       "      <td>156.0</td>\n",
       "      <td>79.00000</td>\n",
       "      <td>-37.8079</td>\n",
       "      <td>144.9934</td>\n",
       "      <td>4019.0</td>\n",
       "      <td>2</td>\n",
       "      <td>4</td>\n",
       "      <td>2016</td>\n",
       "    </tr>\n",
       "    <tr>\n",
       "      <td>2</td>\n",
       "      <td>3</td>\n",
       "      <td>1465000.0</td>\n",
       "      <td>2.5</td>\n",
       "      <td>3067.0</td>\n",
       "      <td>3.0</td>\n",
       "      <td>2.0</td>\n",
       "      <td>0.0</td>\n",
       "      <td>134.0</td>\n",
       "      <td>150.00000</td>\n",
       "      <td>-37.8093</td>\n",
       "      <td>144.9944</td>\n",
       "      <td>4019.0</td>\n",
       "      <td>3</td>\n",
       "      <td>4</td>\n",
       "      <td>2017</td>\n",
       "    </tr>\n",
       "    <tr>\n",
       "      <td>3</td>\n",
       "      <td>3</td>\n",
       "      <td>850000.0</td>\n",
       "      <td>2.5</td>\n",
       "      <td>3067.0</td>\n",
       "      <td>3.0</td>\n",
       "      <td>2.0</td>\n",
       "      <td>1.0</td>\n",
       "      <td>94.0</td>\n",
       "      <td>151.96765</td>\n",
       "      <td>-37.7969</td>\n",
       "      <td>144.9969</td>\n",
       "      <td>4019.0</td>\n",
       "      <td>3</td>\n",
       "      <td>4</td>\n",
       "      <td>2017</td>\n",
       "    </tr>\n",
       "    <tr>\n",
       "      <td>4</td>\n",
       "      <td>4</td>\n",
       "      <td>1600000.0</td>\n",
       "      <td>2.5</td>\n",
       "      <td>3067.0</td>\n",
       "      <td>3.0</td>\n",
       "      <td>1.0</td>\n",
       "      <td>2.0</td>\n",
       "      <td>120.0</td>\n",
       "      <td>142.00000</td>\n",
       "      <td>-37.8072</td>\n",
       "      <td>144.9941</td>\n",
       "      <td>4019.0</td>\n",
       "      <td>6</td>\n",
       "      <td>4</td>\n",
       "      <td>2016</td>\n",
       "    </tr>\n",
       "  </tbody>\n",
       "</table>\n",
       "</div>"
      ],
      "text/plain": [
       "   Rooms      Price  Distance  Postcode  Bedroom2  Bathroom  Car  Landsize  \\\n",
       "0      2  1480000.0       2.5    3067.0       2.0       1.0  1.0     202.0   \n",
       "1      2  1035000.0       2.5    3067.0       2.0       1.0  0.0     156.0   \n",
       "2      3  1465000.0       2.5    3067.0       3.0       2.0  0.0     134.0   \n",
       "3      3   850000.0       2.5    3067.0       3.0       2.0  1.0      94.0   \n",
       "4      4  1600000.0       2.5    3067.0       3.0       1.0  2.0     120.0   \n",
       "\n",
       "   BuildingArea  Lattitude  Longtitude  Propertycount  Day  Month  Year  \n",
       "0     151.96765   -37.7996    144.9984         4019.0   12      3  2016  \n",
       "1      79.00000   -37.8079    144.9934         4019.0    2      4  2016  \n",
       "2     150.00000   -37.8093    144.9944         4019.0    3      4  2017  \n",
       "3     151.96765   -37.7969    144.9969         4019.0    3      4  2017  \n",
       "4     142.00000   -37.8072    144.9941         4019.0    6      4  2016  "
      ]
     },
     "execution_count": 259,
     "metadata": {},
     "output_type": "execute_result"
    }
   ],
   "source": [
    "df_num.head()"
   ]
  },
  {
   "cell_type": "code",
   "execution_count": 260,
   "metadata": {},
   "outputs": [],
   "source": [
    "from scipy.stats import skew"
   ]
  },
  {
   "cell_type": "code",
   "execution_count": 51,
   "metadata": {},
   "outputs": [
    {
     "name": "stdout",
     "output_type": "stream",
     "text": [
      "column: Rooms\n",
      "Skewness: 0.361408589530768\n"
     ]
    },
    {
     "data": {
      "image/png": "[encoded data removed]",
      "text/plain": [
       "<Figure size 432x288 with 1 Axes>"
      ]
     },
     "metadata": {
      "needs_background": "light"
     },
     "output_type": "display_data"
    },
    {
     "name": "stdout",
     "output_type": "stream",
     "text": [
      "----------------------------------------------------------\n",
      "column: Price\n",
      "Skewness: 1.3439211175100079\n"
     ]
    },
    {
     "data": {
      "image/png": "[encoded data removed]",
      "text/plain": [
       "<Figure size 432x288 with 1 Axes>"
      ]
     },
     "metadata": {
      "needs_background": "light"
     },
     "output_type": "display_data"
    },
    {
     "name": "stdout",
     "output_type": "stream",
     "text": [
      "----------------------------------------------------------\n",
      "column: Distance\n",
      "Skewness: 1.6471786145034855\n"
     ]
    },
    {
     "data": {
      "image/png": "[encoded data removed]",
      "text/plain": [
       "<Figure size 432x288 with 1 Axes>"
      ]
     },
     "metadata": {
      "needs_background": "light"
     },
     "output_type": "display_data"
    },
    {
     "name": "stdout",
     "output_type": "stream",
     "text": [
      "----------------------------------------------------------\n",
      "column: Postcode\n",
      "Skewness: 4.062138978487317\n"
     ]
    },
    {
     "data": {
      "image/png": "[encoded data removed]",
      "text/plain": [
       "<Figure size 432x288 with 1 Axes>"
      ]
     },
     "metadata": {
      "needs_background": "light"
     },
     "output_type": "display_data"
    },
    {
     "name": "stdout",
     "output_type": "stream",
     "text": [
      "----------------------------------------------------------\n",
      "column: Bedroom2\n",
      "Skewness: 0.8120866252112622\n"
     ]
    },
    {
     "data": {
      "image/png": "[encoded data removed]",
      "text/plain": [
       "<Figure size 432x288 with 1 Axes>"
      ]
     },
     "metadata": {
      "needs_background": "light"
     },
     "output_type": "display_data"
    },
    {
     "name": "stdout",
     "output_type": "stream",
     "text": [
      "----------------------------------------------------------\n",
      "column: Bathroom\n",
      "Skewness: 1.3172554857428824\n"
     ]
    },
    {
     "data": {
      "image/png": "[encoded data removed]",
      "text/plain": [
       "<Figure size 432x288 with 1 Axes>"
      ]
     },
     "metadata": {
      "needs_background": "light"
     },
     "output_type": "display_data"
    },
    {
     "name": "stdout",
     "output_type": "stream",
     "text": [
      "----------------------------------------------------------\n",
      "column: Car\n",
      "Skewness: 1.3147536014363699\n"
     ]
    },
    {
     "data": {
      "image/png": "[encoded data removed]",
      "text/plain": [
       "<Figure size 432x288 with 1 Axes>"
      ]
     },
     "metadata": {
      "needs_background": "light"
     },
     "output_type": "display_data"
    },
    {
     "name": "stdout",
     "output_type": "stream",
     "text": [
      "----------------------------------------------------------\n",
      "column: Landsize\n",
      "Skewness: 29.75607006052836\n"
     ]
    },
    {
     "data": {
      "image/png": "[encoded data removed]",
      "text/plain": [
       "<Figure size 432x288 with 1 Axes>"
      ]
     },
     "metadata": {
      "needs_background": "light"
     },
     "output_type": "display_data"
    },
    {
     "name": "stdout",
     "output_type": "stream",
     "text": [
      "----------------------------------------------------------\n",
      "column: BuildingArea\n",
      "Skewness: 36.128374253906124\n"
     ]
    },
    {
     "data": {
      "image/png": "[encoded data removed]",
      "text/plain": [
       "<Figure size 432x288 with 1 Axes>"
      ]
     },
     "metadata": {
      "needs_background": "light"
     },
     "output_type": "display_data"
    },
    {
     "name": "stdout",
     "output_type": "stream",
     "text": [
      "----------------------------------------------------------\n",
      "column: Lattitude\n",
      "Skewness: -0.4164658356979778\n"
     ]
    },
    {
     "data": {
      "image/png": "[encoded data removed]",
      "text/plain": [
       "<Figure size 432x288 with 1 Axes>"
      ]
     },
     "metadata": {
      "needs_background": "light"
     },
     "output_type": "display_data"
    },
    {
     "name": "stdout",
     "output_type": "stream",
     "text": [
      "----------------------------------------------------------\n",
      "column: Longtitude\n",
      "Skewness: -0.22139412742537865\n"
     ]
    },
    {
     "data": {
      "image/png": "[encoded data removed]",
      "text/plain": [
       "<Figure size 432x288 with 1 Axes>"
      ]
     },
     "metadata": {
      "needs_background": "light"
     },
     "output_type": "display_data"
    },
    {
     "name": "stdout",
     "output_type": "stream",
     "text": [
      "----------------------------------------------------------\n",
      "column: Propertycount\n",
      "Skewness: 1.0806179642501683\n"
     ]
    },
    {
     "data": {
      "image/png": "[encoded data removed]",
      "text/plain": [
       "<Figure size 432x288 with 1 Axes>"
      ]
     },
     "metadata": {
      "needs_background": "light"
     },
     "output_type": "display_data"
    },
    {
     "name": "stdout",
     "output_type": "stream",
     "text": [
      "----------------------------------------------------------\n",
      "column: Day\n",
      "Skewness: 0.02415299136295235\n"
     ]
    },
    {
     "data": {
      "image/png": "[encoded data removed]",
      "text/plain": [
       "<Figure size 432x288 with 1 Axes>"
      ]
     },
     "metadata": {
      "needs_background": "light"
     },
     "output_type": "display_data"
    },
    {
     "name": "stdout",
     "output_type": "stream",
     "text": [
      "----------------------------------------------------------\n",
      "column: Month\n",
      "Skewness: 0.08328847918859995\n"
     ]
    },
    {
     "data": {
      "image/png": "[encoded data removed]",
      "text/plain": [
       "<Figure size 432x288 with 1 Axes>"
      ]
     },
     "metadata": {
      "needs_background": "light"
     },
     "output_type": "display_data"
    },
    {
     "name": "stdout",
     "output_type": "stream",
     "text": [
      "----------------------------------------------------------\n",
      "column: Year\n",
      "Skewness: -0.13295288434414343\n"
     ]
    },
    {
     "data": {
      "image/png": "[encoded data removed]",
      "text/plain": [
       "<Figure size 432x288 with 1 Axes>"
      ]
     },
     "metadata": {
      "needs_background": "light"
     },
     "output_type": "display_data"
    },
    {
     "name": "stdout",
     "output_type": "stream",
     "text": [
      "----------------------------------------------------------\n"
     ]
    }
   ],
   "source": [
    "for col in df_num:\n",
    "    print(\"column:\",col)\n",
    "    print(\"Skewness:\",skew(df_num[col]))\n",
    "    \n",
    "    plt.figure()\n",
    "    sns.distplot(df_num[col])\n",
    "    plt.show()\n",
    "    \n",
    "    print(\"----------------------------------------------------------\")"
   ]
  },
  {
   "cell_type": "code",
   "execution_count": 52,
   "metadata": {},
   "outputs": [
    {
     "data": {
      "text/html": [
       "<div>\n",
       "<style scoped>\n",
       "    .dataframe tbody tr th:only-of-type {\n",
       "        vertical-align: middle;\n",
       "    }\n",
       "\n",
       "    .dataframe tbody tr th {\n",
       "        vertical-align: top;\n",
       "    }\n",
       "\n",
       "    .dataframe thead th {\n",
       "        text-align: right;\n",
       "    }\n",
       "</style>\n",
       "<table border=\"1\" class=\"dataframe\">\n",
       "  <thead>\n",
       "    <tr style=\"text-align: right;\">\n",
       "      <th></th>\n",
       "      <th>Rooms</th>\n",
       "      <th>Price</th>\n",
       "      <th>Distance</th>\n",
       "      <th>Postcode</th>\n",
       "      <th>Bedroom2</th>\n",
       "      <th>Bathroom</th>\n",
       "      <th>Car</th>\n",
       "      <th>Landsize</th>\n",
       "      <th>BuildingArea</th>\n",
       "      <th>Lattitude</th>\n",
       "      <th>Longtitude</th>\n",
       "      <th>Propertycount</th>\n",
       "    </tr>\n",
       "  </thead>\n",
       "  <tbody>\n",
       "    <tr>\n",
       "      <td>Rooms</td>\n",
       "      <td>1.000000</td>\n",
       "      <td>0.496634</td>\n",
       "      <td>0.294203</td>\n",
       "      <td>0.055303</td>\n",
       "      <td>0.944190</td>\n",
       "      <td>0.592934</td>\n",
       "      <td>0.407843</td>\n",
       "      <td>0.025678</td>\n",
       "      <td>0.091373</td>\n",
       "      <td>0.015948</td>\n",
       "      <td>0.100771</td>\n",
       "      <td>-0.081530</td>\n",
       "    </tr>\n",
       "    <tr>\n",
       "      <td>Price</td>\n",
       "      <td>0.496634</td>\n",
       "      <td>1.000000</td>\n",
       "      <td>-0.162522</td>\n",
       "      <td>0.107867</td>\n",
       "      <td>0.475951</td>\n",
       "      <td>0.467038</td>\n",
       "      <td>0.238637</td>\n",
       "      <td>0.037507</td>\n",
       "      <td>0.069570</td>\n",
       "      <td>-0.212934</td>\n",
       "      <td>0.203656</td>\n",
       "      <td>-0.042153</td>\n",
       "    </tr>\n",
       "    <tr>\n",
       "      <td>Distance</td>\n",
       "      <td>0.294203</td>\n",
       "      <td>-0.162522</td>\n",
       "      <td>1.000000</td>\n",
       "      <td>0.431514</td>\n",
       "      <td>0.295927</td>\n",
       "      <td>0.127155</td>\n",
       "      <td>0.262074</td>\n",
       "      <td>0.025004</td>\n",
       "      <td>0.073990</td>\n",
       "      <td>-0.130723</td>\n",
       "      <td>0.239425</td>\n",
       "      <td>-0.054910</td>\n",
       "    </tr>\n",
       "    <tr>\n",
       "      <td>Postcode</td>\n",
       "      <td>0.055303</td>\n",
       "      <td>0.107867</td>\n",
       "      <td>0.431514</td>\n",
       "      <td>1.000000</td>\n",
       "      <td>0.060584</td>\n",
       "      <td>0.113664</td>\n",
       "      <td>0.050201</td>\n",
       "      <td>0.024558</td>\n",
       "      <td>0.040714</td>\n",
       "      <td>-0.406104</td>\n",
       "      <td>0.445357</td>\n",
       "      <td>0.062304</td>\n",
       "    </tr>\n",
       "    <tr>\n",
       "      <td>Bedroom2</td>\n",
       "      <td>0.944190</td>\n",
       "      <td>0.475951</td>\n",
       "      <td>0.295927</td>\n",
       "      <td>0.060584</td>\n",
       "      <td>1.000000</td>\n",
       "      <td>0.584685</td>\n",
       "      <td>0.404721</td>\n",
       "      <td>0.025646</td>\n",
       "      <td>0.089102</td>\n",
       "      <td>0.015925</td>\n",
       "      <td>0.102238</td>\n",
       "      <td>-0.081350</td>\n",
       "    </tr>\n",
       "    <tr>\n",
       "      <td>Bathroom</td>\n",
       "      <td>0.592934</td>\n",
       "      <td>0.467038</td>\n",
       "      <td>0.127155</td>\n",
       "      <td>0.113664</td>\n",
       "      <td>0.584685</td>\n",
       "      <td>1.000000</td>\n",
       "      <td>0.321788</td>\n",
       "      <td>0.037130</td>\n",
       "      <td>0.084462</td>\n",
       "      <td>-0.070594</td>\n",
       "      <td>0.118971</td>\n",
       "      <td>-0.052201</td>\n",
       "    </tr>\n",
       "    <tr>\n",
       "      <td>Car</td>\n",
       "      <td>0.407843</td>\n",
       "      <td>0.238637</td>\n",
       "      <td>0.262074</td>\n",
       "      <td>0.050201</td>\n",
       "      <td>0.404721</td>\n",
       "      <td>0.321788</td>\n",
       "      <td>1.000000</td>\n",
       "      <td>0.026759</td>\n",
       "      <td>0.068389</td>\n",
       "      <td>-0.001961</td>\n",
       "      <td>0.063304</td>\n",
       "      <td>-0.024255</td>\n",
       "    </tr>\n",
       "    <tr>\n",
       "      <td>Landsize</td>\n",
       "      <td>0.025678</td>\n",
       "      <td>0.037507</td>\n",
       "      <td>0.025004</td>\n",
       "      <td>0.024558</td>\n",
       "      <td>0.025646</td>\n",
       "      <td>0.037130</td>\n",
       "      <td>0.026759</td>\n",
       "      <td>1.000000</td>\n",
       "      <td>0.094659</td>\n",
       "      <td>0.009695</td>\n",
       "      <td>0.010833</td>\n",
       "      <td>-0.006854</td>\n",
       "    </tr>\n",
       "    <tr>\n",
       "      <td>BuildingArea</td>\n",
       "      <td>0.091373</td>\n",
       "      <td>0.069570</td>\n",
       "      <td>0.073990</td>\n",
       "      <td>0.040714</td>\n",
       "      <td>0.089102</td>\n",
       "      <td>0.084462</td>\n",
       "      <td>0.068389</td>\n",
       "      <td>0.094659</td>\n",
       "      <td>1.000000</td>\n",
       "      <td>0.031799</td>\n",
       "      <td>-0.017441</td>\n",
       "      <td>-0.020736</td>\n",
       "    </tr>\n",
       "    <tr>\n",
       "      <td>Lattitude</td>\n",
       "      <td>0.015948</td>\n",
       "      <td>-0.212934</td>\n",
       "      <td>-0.130723</td>\n",
       "      <td>-0.406104</td>\n",
       "      <td>0.015925</td>\n",
       "      <td>-0.070594</td>\n",
       "      <td>-0.001961</td>\n",
       "      <td>0.009695</td>\n",
       "      <td>0.031799</td>\n",
       "      <td>1.000000</td>\n",
       "      <td>-0.357634</td>\n",
       "      <td>0.047086</td>\n",
       "    </tr>\n",
       "    <tr>\n",
       "      <td>Longtitude</td>\n",
       "      <td>0.100771</td>\n",
       "      <td>0.203656</td>\n",
       "      <td>0.239425</td>\n",
       "      <td>0.445357</td>\n",
       "      <td>0.102238</td>\n",
       "      <td>0.118971</td>\n",
       "      <td>0.063304</td>\n",
       "      <td>0.010833</td>\n",
       "      <td>-0.017441</td>\n",
       "      <td>-0.357634</td>\n",
       "      <td>1.000000</td>\n",
       "      <td>0.065988</td>\n",
       "    </tr>\n",
       "    <tr>\n",
       "      <td>Propertycount</td>\n",
       "      <td>-0.081530</td>\n",
       "      <td>-0.042153</td>\n",
       "      <td>-0.054910</td>\n",
       "      <td>0.062304</td>\n",
       "      <td>-0.081350</td>\n",
       "      <td>-0.052201</td>\n",
       "      <td>-0.024255</td>\n",
       "      <td>-0.006854</td>\n",
       "      <td>-0.020736</td>\n",
       "      <td>0.047086</td>\n",
       "      <td>0.065988</td>\n",
       "      <td>1.000000</td>\n",
       "    </tr>\n",
       "  </tbody>\n",
       "</table>\n",
       "</div>"
      ],
      "text/plain": [
       "                  Rooms     Price  Distance  Postcode  Bedroom2  Bathroom  \\\n",
       "Rooms          1.000000  0.496634  0.294203  0.055303  0.944190  0.592934   \n",
       "Price          0.496634  1.000000 -0.162522  0.107867  0.475951  0.467038   \n",
       "Distance       0.294203 -0.162522  1.000000  0.431514  0.295927  0.127155   \n",
       "Postcode       0.055303  0.107867  0.431514  1.000000  0.060584  0.113664   \n",
       "Bedroom2       0.944190  0.475951  0.295927  0.060584  1.000000  0.584685   \n",
       "Bathroom       0.592934  0.467038  0.127155  0.113664  0.584685  1.000000   \n",
       "Car            0.407843  0.238637  0.262074  0.050201  0.404721  0.321788   \n",
       "Landsize       0.025678  0.037507  0.025004  0.024558  0.025646  0.037130   \n",
       "BuildingArea   0.091373  0.069570  0.073990  0.040714  0.089102  0.084462   \n",
       "Lattitude      0.015948 -0.212934 -0.130723 -0.406104  0.015925 -0.070594   \n",
       "Longtitude     0.100771  0.203656  0.239425  0.445357  0.102238  0.118971   \n",
       "Propertycount -0.081530 -0.042153 -0.054910  0.062304 -0.081350 -0.052201   \n",
       "\n",
       "                    Car  Landsize  BuildingArea  Lattitude  Longtitude  \\\n",
       "Rooms          0.407843  0.025678      0.091373   0.015948    0.100771   \n",
       "Price          0.238637  0.037507      0.069570  -0.212934    0.203656   \n",
       "Distance       0.262074  0.025004      0.073990  -0.130723    0.239425   \n",
       "Postcode       0.050201  0.024558      0.040714  -0.406104    0.445357   \n",
       "Bedroom2       0.404721  0.025646      0.089102   0.015925    0.102238   \n",
       "Bathroom       0.321788  0.037130      0.084462  -0.070594    0.118971   \n",
       "Car            1.000000  0.026759      0.068389  -0.001961    0.063304   \n",
       "Landsize       0.026759  1.000000      0.094659   0.009695    0.010833   \n",
       "BuildingArea   0.068389  0.094659      1.000000   0.031799   -0.017441   \n",
       "Lattitude     -0.001961  0.009695      0.031799   1.000000   -0.357634   \n",
       "Longtitude     0.063304  0.010833     -0.017441  -0.357634    1.000000   \n",
       "Propertycount -0.024255 -0.006854     -0.020736   0.047086    0.065988   \n",
       "\n",
       "               Propertycount  \n",
       "Rooms              -0.081530  \n",
       "Price              -0.042153  \n",
       "Distance           -0.054910  \n",
       "Postcode            0.062304  \n",
       "Bedroom2           -0.081350  \n",
       "Bathroom           -0.052201  \n",
       "Car                -0.024255  \n",
       "Landsize           -0.006854  \n",
       "BuildingArea       -0.020736  \n",
       "Lattitude           0.047086  \n",
       "Longtitude          0.065988  \n",
       "Propertycount       1.000000  "
      ]
     },
     "execution_count": 52,
     "metadata": {},
     "output_type": "execute_result"
    }
   ],
   "source": [
    "cor"
   ]
  },
  {
   "cell_type": "code",
   "execution_count": 261,
   "metadata": {},
   "outputs": [],
   "source": [
    "df_num[\"Landsize\"] = np.sqrt(df_num[\"Landsize\"])\n",
    "df_num[\"BuildingArea\"] = np.sqrt(df_num[\"BuildingArea\"])"
   ]
  },
  {
   "cell_type": "code",
   "execution_count": 55,
   "metadata": {},
   "outputs": [
    {
     "name": "stdout",
     "output_type": "stream",
     "text": [
      "2.945231377729951\n"
     ]
    },
    {
     "data": {
      "image/png": "[encoded data removed]",
      "text/plain": [
       "<Figure size 432x288 with 1 Axes>"
      ]
     },
     "metadata": {
      "needs_background": "light"
     },
     "output_type": "display_data"
    }
   ],
   "source": [
    "print(skew(df_num[\"Landsize\"]))\n",
    "sns.distplot(df_num[\"Landsize\"])\n",
    "plt.show()"
   ]
  },
  {
   "cell_type": "code",
   "execution_count": 262,
   "metadata": {},
   "outputs": [
    {
     "name": "stdout",
     "output_type": "stream",
     "text": [
      "3.2644538960148206\n"
     ]
    },
    {
     "data": {
      "image/png": "[encoded data removed]",
      "text/plain": [
       "<Figure size 432x288 with 1 Axes>"
      ]
     },
     "metadata": {
      "needs_background": "light"
     },
     "output_type": "display_data"
    }
   ],
   "source": [
    "print(skew(df_num[\"BuildingArea\"]))\n",
    "sns.distplot(df_num[\"BuildingArea\"])\n",
    "plt.show()"
   ]
  },
  {
   "cell_type": "markdown",
   "metadata": {},
   "source": [
    "### Concat both dataset"
   ]
  },
  {
   "cell_type": "code",
   "execution_count": 263,
   "metadata": {},
   "outputs": [],
   "source": [
    "df_new = pd.concat([df_num,df_cat],axis=1)"
   ]
  },
  {
   "cell_type": "code",
   "execution_count": 264,
   "metadata": {},
   "outputs": [
    {
     "data": {
      "text/html": [
       "<div>\n",
       "<style scoped>\n",
       "    .dataframe tbody tr th:only-of-type {\n",
       "        vertical-align: middle;\n",
       "    }\n",
       "\n",
       "    .dataframe tbody tr th {\n",
       "        vertical-align: top;\n",
       "    }\n",
       "\n",
       "    .dataframe thead th {\n",
       "        text-align: right;\n",
       "    }\n",
       "</style>\n",
       "<table border=\"1\" class=\"dataframe\">\n",
       "  <thead>\n",
       "    <tr style=\"text-align: right;\">\n",
       "      <th></th>\n",
       "      <th>Rooms</th>\n",
       "      <th>Price</th>\n",
       "      <th>Distance</th>\n",
       "      <th>Postcode</th>\n",
       "      <th>Bedroom2</th>\n",
       "      <th>Bathroom</th>\n",
       "      <th>Car</th>\n",
       "      <th>Landsize</th>\n",
       "      <th>BuildingArea</th>\n",
       "      <th>Lattitude</th>\n",
       "      <th>Longtitude</th>\n",
       "      <th>Propertycount</th>\n",
       "      <th>Day</th>\n",
       "      <th>Month</th>\n",
       "      <th>Year</th>\n",
       "      <th>Type</th>\n",
       "      <th>Method</th>\n",
       "      <th>CouncilArea</th>\n",
       "      <th>Regionname</th>\n",
       "    </tr>\n",
       "  </thead>\n",
       "  <tbody>\n",
       "    <tr>\n",
       "      <td>0</td>\n",
       "      <td>2</td>\n",
       "      <td>1480000.0</td>\n",
       "      <td>2.5</td>\n",
       "      <td>3067.0</td>\n",
       "      <td>2.0</td>\n",
       "      <td>1.0</td>\n",
       "      <td>1.0</td>\n",
       "      <td>14.212670</td>\n",
       "      <td>12.327516</td>\n",
       "      <td>-37.7996</td>\n",
       "      <td>144.9984</td>\n",
       "      <td>4019.0</td>\n",
       "      <td>12</td>\n",
       "      <td>3</td>\n",
       "      <td>2016</td>\n",
       "      <td>0</td>\n",
       "      <td>1</td>\n",
       "      <td>31</td>\n",
       "      <td>2</td>\n",
       "    </tr>\n",
       "    <tr>\n",
       "      <td>1</td>\n",
       "      <td>2</td>\n",
       "      <td>1035000.0</td>\n",
       "      <td>2.5</td>\n",
       "      <td>3067.0</td>\n",
       "      <td>2.0</td>\n",
       "      <td>1.0</td>\n",
       "      <td>0.0</td>\n",
       "      <td>12.489996</td>\n",
       "      <td>8.888194</td>\n",
       "      <td>-37.8079</td>\n",
       "      <td>144.9934</td>\n",
       "      <td>4019.0</td>\n",
       "      <td>2</td>\n",
       "      <td>4</td>\n",
       "      <td>2016</td>\n",
       "      <td>0</td>\n",
       "      <td>1</td>\n",
       "      <td>31</td>\n",
       "      <td>2</td>\n",
       "    </tr>\n",
       "    <tr>\n",
       "      <td>2</td>\n",
       "      <td>3</td>\n",
       "      <td>1465000.0</td>\n",
       "      <td>2.5</td>\n",
       "      <td>3067.0</td>\n",
       "      <td>3.0</td>\n",
       "      <td>2.0</td>\n",
       "      <td>0.0</td>\n",
       "      <td>11.575837</td>\n",
       "      <td>12.247449</td>\n",
       "      <td>-37.8093</td>\n",
       "      <td>144.9944</td>\n",
       "      <td>4019.0</td>\n",
       "      <td>3</td>\n",
       "      <td>4</td>\n",
       "      <td>2017</td>\n",
       "      <td>0</td>\n",
       "      <td>3</td>\n",
       "      <td>31</td>\n",
       "      <td>2</td>\n",
       "    </tr>\n",
       "    <tr>\n",
       "      <td>3</td>\n",
       "      <td>3</td>\n",
       "      <td>850000.0</td>\n",
       "      <td>2.5</td>\n",
       "      <td>3067.0</td>\n",
       "      <td>3.0</td>\n",
       "      <td>2.0</td>\n",
       "      <td>1.0</td>\n",
       "      <td>9.695360</td>\n",
       "      <td>12.327516</td>\n",
       "      <td>-37.7969</td>\n",
       "      <td>144.9969</td>\n",
       "      <td>4019.0</td>\n",
       "      <td>3</td>\n",
       "      <td>4</td>\n",
       "      <td>2017</td>\n",
       "      <td>0</td>\n",
       "      <td>0</td>\n",
       "      <td>31</td>\n",
       "      <td>2</td>\n",
       "    </tr>\n",
       "    <tr>\n",
       "      <td>4</td>\n",
       "      <td>4</td>\n",
       "      <td>1600000.0</td>\n",
       "      <td>2.5</td>\n",
       "      <td>3067.0</td>\n",
       "      <td>3.0</td>\n",
       "      <td>1.0</td>\n",
       "      <td>2.0</td>\n",
       "      <td>10.954451</td>\n",
       "      <td>11.916375</td>\n",
       "      <td>-37.8072</td>\n",
       "      <td>144.9941</td>\n",
       "      <td>4019.0</td>\n",
       "      <td>6</td>\n",
       "      <td>4</td>\n",
       "      <td>2016</td>\n",
       "      <td>0</td>\n",
       "      <td>4</td>\n",
       "      <td>31</td>\n",
       "      <td>2</td>\n",
       "    </tr>\n",
       "  </tbody>\n",
       "</table>\n",
       "</div>"
      ],
      "text/plain": [
       "   Rooms      Price  Distance  Postcode  Bedroom2  Bathroom  Car   Landsize  \\\n",
       "0      2  1480000.0       2.5    3067.0       2.0       1.0  1.0  14.212670   \n",
       "1      2  1035000.0       2.5    3067.0       2.0       1.0  0.0  12.489996   \n",
       "2      3  1465000.0       2.5    3067.0       3.0       2.0  0.0  11.575837   \n",
       "3      3   850000.0       2.5    3067.0       3.0       2.0  1.0   9.695360   \n",
       "4      4  1600000.0       2.5    3067.0       3.0       1.0  2.0  10.954451   \n",
       "\n",
       "   BuildingArea  Lattitude  Longtitude  Propertycount  Day  Month  Year  Type  \\\n",
       "0     12.327516   -37.7996    144.9984         4019.0   12      3  2016     0   \n",
       "1      8.888194   -37.8079    144.9934         4019.0    2      4  2016     0   \n",
       "2     12.247449   -37.8093    144.9944         4019.0    3      4  2017     0   \n",
       "3     12.327516   -37.7969    144.9969         4019.0    3      4  2017     0   \n",
       "4     11.916375   -37.8072    144.9941         4019.0    6      4  2016     0   \n",
       "\n",
       "   Method  CouncilArea  Regionname  \n",
       "0       1           31           2  \n",
       "1       1           31           2  \n",
       "2       3           31           2  \n",
       "3       0           31           2  \n",
       "4       4           31           2  "
      ]
     },
     "execution_count": 264,
     "metadata": {},
     "output_type": "execute_result"
    }
   ],
   "source": [
    "df_new.head()"
   ]
  },
  {
   "cell_type": "markdown",
   "metadata": {},
   "source": [
    "### Standardization"
   ]
  },
  {
   "cell_type": "code",
   "execution_count": 87,
   "metadata": {},
   "outputs": [],
   "source": [
    "from sklearn.preprocessing import StandardScaler"
   ]
  },
  {
   "cell_type": "code",
   "execution_count": 88,
   "metadata": {},
   "outputs": [],
   "source": [
    "for col in X:\n",
    "    ss = StandardScaler()\n",
    "    X[col] = ss.fit_transform(X)"
   ]
  },
  {
   "cell_type": "code",
   "execution_count": 89,
   "metadata": {},
   "outputs": [
    {
     "data": {
      "text/html": [
       "<div>\n",
       "<style scoped>\n",
       "    .dataframe tbody tr th:only-of-type {\n",
       "        vertical-align: middle;\n",
       "    }\n",
       "\n",
       "    .dataframe tbody tr th {\n",
       "        vertical-align: top;\n",
       "    }\n",
       "\n",
       "    .dataframe thead th {\n",
       "        text-align: right;\n",
       "    }\n",
       "</style>\n",
       "<table border=\"1\" class=\"dataframe\">\n",
       "  <thead>\n",
       "    <tr style=\"text-align: right;\">\n",
       "      <th></th>\n",
       "      <th>Rooms</th>\n",
       "      <th>Distance</th>\n",
       "      <th>Postcode</th>\n",
       "      <th>Bedroom2</th>\n",
       "      <th>Bathroom</th>\n",
       "      <th>Car</th>\n",
       "      <th>Landsize</th>\n",
       "      <th>BuildingArea</th>\n",
       "      <th>Lattitude</th>\n",
       "      <th>Longtitude</th>\n",
       "      <th>Propertycount</th>\n",
       "      <th>Day</th>\n",
       "      <th>Month</th>\n",
       "      <th>Year</th>\n",
       "      <th>Type</th>\n",
       "      <th>Method</th>\n",
       "      <th>CouncilArea</th>\n",
       "      <th>Regionname</th>\n",
       "    </tr>\n",
       "  </thead>\n",
       "  <tbody>\n",
       "    <tr>\n",
       "      <td>0</td>\n",
       "      <td>-0.960891</td>\n",
       "      <td>-0.960891</td>\n",
       "      <td>-0.960891</td>\n",
       "      <td>-0.960891</td>\n",
       "      <td>-0.960891</td>\n",
       "      <td>-0.960891</td>\n",
       "      <td>-0.960891</td>\n",
       "      <td>-0.960891</td>\n",
       "      <td>-0.960891</td>\n",
       "      <td>-0.960891</td>\n",
       "      <td>-0.960891</td>\n",
       "      <td>-0.960891</td>\n",
       "      <td>-0.960891</td>\n",
       "      <td>-0.960891</td>\n",
       "      <td>-0.960891</td>\n",
       "      <td>-0.960891</td>\n",
       "      <td>-0.960891</td>\n",
       "      <td>-0.960891</td>\n",
       "    </tr>\n",
       "    <tr>\n",
       "      <td>1</td>\n",
       "      <td>-0.960891</td>\n",
       "      <td>-0.960891</td>\n",
       "      <td>-0.960891</td>\n",
       "      <td>-0.960891</td>\n",
       "      <td>-0.960891</td>\n",
       "      <td>-0.960891</td>\n",
       "      <td>-0.960891</td>\n",
       "      <td>-0.960891</td>\n",
       "      <td>-0.960891</td>\n",
       "      <td>-0.960891</td>\n",
       "      <td>-0.960891</td>\n",
       "      <td>-0.960891</td>\n",
       "      <td>-0.960891</td>\n",
       "      <td>-0.960891</td>\n",
       "      <td>-0.960891</td>\n",
       "      <td>-0.960891</td>\n",
       "      <td>-0.960891</td>\n",
       "      <td>-0.960891</td>\n",
       "    </tr>\n",
       "    <tr>\n",
       "      <td>2</td>\n",
       "      <td>0.110034</td>\n",
       "      <td>0.110034</td>\n",
       "      <td>0.110034</td>\n",
       "      <td>0.110034</td>\n",
       "      <td>0.110034</td>\n",
       "      <td>0.110034</td>\n",
       "      <td>0.110034</td>\n",
       "      <td>0.110034</td>\n",
       "      <td>0.110034</td>\n",
       "      <td>0.110034</td>\n",
       "      <td>0.110034</td>\n",
       "      <td>0.110034</td>\n",
       "      <td>0.110034</td>\n",
       "      <td>0.110034</td>\n",
       "      <td>0.110034</td>\n",
       "      <td>0.110034</td>\n",
       "      <td>0.110034</td>\n",
       "      <td>0.110034</td>\n",
       "    </tr>\n",
       "    <tr>\n",
       "      <td>3</td>\n",
       "      <td>0.110034</td>\n",
       "      <td>0.110034</td>\n",
       "      <td>0.110034</td>\n",
       "      <td>0.110034</td>\n",
       "      <td>0.110034</td>\n",
       "      <td>0.110034</td>\n",
       "      <td>0.110034</td>\n",
       "      <td>0.110034</td>\n",
       "      <td>0.110034</td>\n",
       "      <td>0.110034</td>\n",
       "      <td>0.110034</td>\n",
       "      <td>0.110034</td>\n",
       "      <td>0.110034</td>\n",
       "      <td>0.110034</td>\n",
       "      <td>0.110034</td>\n",
       "      <td>0.110034</td>\n",
       "      <td>0.110034</td>\n",
       "      <td>0.110034</td>\n",
       "    </tr>\n",
       "    <tr>\n",
       "      <td>4</td>\n",
       "      <td>1.180958</td>\n",
       "      <td>1.180958</td>\n",
       "      <td>1.180958</td>\n",
       "      <td>1.180958</td>\n",
       "      <td>1.180958</td>\n",
       "      <td>1.180958</td>\n",
       "      <td>1.180958</td>\n",
       "      <td>1.180958</td>\n",
       "      <td>1.180958</td>\n",
       "      <td>1.180958</td>\n",
       "      <td>1.180958</td>\n",
       "      <td>1.180958</td>\n",
       "      <td>1.180958</td>\n",
       "      <td>1.180958</td>\n",
       "      <td>1.180958</td>\n",
       "      <td>1.180958</td>\n",
       "      <td>1.180958</td>\n",
       "      <td>1.180958</td>\n",
       "    </tr>\n",
       "  </tbody>\n",
       "</table>\n",
       "</div>"
      ],
      "text/plain": [
       "      Rooms  Distance  Postcode  Bedroom2  Bathroom       Car  Landsize  \\\n",
       "0 -0.960891 -0.960891 -0.960891 -0.960891 -0.960891 -0.960891 -0.960891   \n",
       "1 -0.960891 -0.960891 -0.960891 -0.960891 -0.960891 -0.960891 -0.960891   \n",
       "2  0.110034  0.110034  0.110034  0.110034  0.110034  0.110034  0.110034   \n",
       "3  0.110034  0.110034  0.110034  0.110034  0.110034  0.110034  0.110034   \n",
       "4  1.180958  1.180958  1.180958  1.180958  1.180958  1.180958  1.180958   \n",
       "\n",
       "   BuildingArea  Lattitude  Longtitude  Propertycount       Day     Month  \\\n",
       "0     -0.960891  -0.960891   -0.960891      -0.960891 -0.960891 -0.960891   \n",
       "1     -0.960891  -0.960891   -0.960891      -0.960891 -0.960891 -0.960891   \n",
       "2      0.110034   0.110034    0.110034       0.110034  0.110034  0.110034   \n",
       "3      0.110034   0.110034    0.110034       0.110034  0.110034  0.110034   \n",
       "4      1.180958   1.180958    1.180958       1.180958  1.180958  1.180958   \n",
       "\n",
       "       Year      Type    Method  CouncilArea  Regionname  \n",
       "0 -0.960891 -0.960891 -0.960891    -0.960891   -0.960891  \n",
       "1 -0.960891 -0.960891 -0.960891    -0.960891   -0.960891  \n",
       "2  0.110034  0.110034  0.110034     0.110034    0.110034  \n",
       "3  0.110034  0.110034  0.110034     0.110034    0.110034  \n",
       "4  1.180958  1.180958  1.180958     1.180958    1.180958  "
      ]
     },
     "execution_count": 89,
     "metadata": {},
     "output_type": "execute_result"
    }
   ],
   "source": [
    "X.head()"
   ]
  },
  {
   "cell_type": "markdown",
   "metadata": {},
   "source": [
    "### Building seperate model"
   ]
  },
  {
   "cell_type": "code",
   "execution_count": 265,
   "metadata": {},
   "outputs": [],
   "source": [
    "def ln_model(X,y):\n",
    "    X_train, X_test, y_train, y_test = train_test_split(X,y,test_size=0.3, random_state=1)\n",
    "    model = LinearRegression()\n",
    "    model.fit(X_train,y_train)\n",
    "    \n",
    "    print(\"Modeling with \",X.columns[0])\n",
    "    print(\"intercept: \",model.intercept_)\n",
    "    print(\"Coef: \",model.coef_)\n",
    "\n",
    "    y_pred = model.predict(X_test)\n",
    "    mse = mean_squared_error(y_test,y_pred)\n",
    "    rmse = np.sqrt(mse)\n",
    "\n",
    "    r2 = r2_score(y_test,y_pred)\n",
    "\n",
    "    print(\"mse: {},\\nrmse: {},\\nr2: {}\".format(mse,rmse,r2))\n",
    "\n",
    "    # Plot the model\n",
    "    plt.figure()\n",
    "    plt.scatter(X_test,y_test)\n",
    "    plt.plot(X_test,y_pred)\n",
    "    plt.show()\n",
    "    print(\"---------------------------------------------------------------------\")"
   ]
  },
  {
   "cell_type": "code",
   "execution_count": 266,
   "metadata": {},
   "outputs": [],
   "source": [
    "X = df_new.drop(\"Price\",axis=1)\n",
    "y = df_new[\"Price\"]"
   ]
  },
  {
   "cell_type": "code",
   "execution_count": 267,
   "metadata": {},
   "outputs": [
    {
     "name": "stdout",
     "output_type": "stream",
     "text": [
      "Modeling with  Rooms\n",
      "intercept:  229109.74156550982\n",
      "Coef:  [269866.26345033]\n",
      "mse: 211043889744.92828,\n",
      "rmse: 459395.13465526415,\n",
      "r2: 0.258731575233903\n"
     ]
    },
    {
     "data": {
      "image/png": "[encoded data removed]",
      "text/plain": [
       "<Figure size 432x288 with 1 Axes>"
      ]
     },
     "metadata": {
      "needs_background": "light"
     },
     "output_type": "display_data"
    },
    {
     "name": "stdout",
     "output_type": "stream",
     "text": [
      "---------------------------------------------------------------------\n",
      "Modeling with  Distance\n",
      "intercept:  1141429.769968323\n",
      "Coef:  [-12937.25788705]\n",
      "mse: 279264280761.4584,\n",
      "rmse: 528454.6156118407,\n",
      "r2: 0.019114963509821004\n"
     ]
    },
    {
     "data": {
      "image/png": "[encoded data removed]",
      "text/plain": [
       "<Figure size 432x288 with 1 Axes>"
      ]
     },
     "metadata": {
      "needs_background": "light"
     },
     "output_type": "display_data"
    },
    {
     "name": "stdout",
     "output_type": "stream",
     "text": [
      "---------------------------------------------------------------------\n",
      "Modeling with  Postcode\n",
      "intercept:  -1428788.8266627493\n",
      "Coef:  [784.83069877]\n",
      "mse: 279444665849.27966,\n",
      "rmse: 528625.2603208435,\n",
      "r2: 0.0184813807509826\n"
     ]
    },
    {
     "data": {
      "image/png": "[encoded data removed]",
      "text/plain": [
       "<Figure size 432x288 with 1 Axes>"
      ]
     },
     "metadata": {
      "needs_background": "light"
     },
     "output_type": "display_data"
    },
    {
     "name": "stdout",
     "output_type": "stream",
     "text": [
      "---------------------------------------------------------------------\n",
      "Modeling with  Bedroom2\n",
      "intercept:  257406.22652880044\n",
      "Coef:  [262177.92167618]\n",
      "mse: 219931099594.23773,\n",
      "rmse: 468968.1221514291,\n",
      "r2: 0.22751622920552228\n"
     ]
    },
    {
     "data": {
      "image/png": "[encoded data removed]",
      "text/plain": [
       "<Figure size 432x288 with 1 Axes>"
      ]
     },
     "metadata": {
      "needs_background": "light"
     },
     "output_type": "display_data"
    },
    {
     "name": "stdout",
     "output_type": "stream",
     "text": [
      "---------------------------------------------------------------------\n",
      "Modeling with  Bathroom\n",
      "intercept:  505489.39408992097\n",
      "Coef:  [336557.79134195]\n",
      "mse: 229540871581.65268,\n",
      "rmse: 479104.2387431494,\n",
      "r2: 0.19376296322809017\n"
     ]
    },
    {
     "data": {
      "image/png": "[encoded data removed]",
      "text/plain": [
       "<Figure size 432x288 with 1 Axes>"
      ]
     },
     "metadata": {
      "needs_background": "light"
     },
     "output_type": "display_data"
    },
    {
     "name": "stdout",
     "output_type": "stream",
     "text": [
      "---------------------------------------------------------------------\n",
      "Modeling with  Car\n",
      "intercept:  827910.8145403351\n",
      "Coef:  [113926.82864117]\n",
      "mse: 269218672702.56674,\n",
      "rmse: 518862.865025593,\n",
      "r2: 0.05439905569856984\n"
     ]
    },
    {
     "data": {
      "image/png": "[encoded data removed]",
      "text/plain": [
       "<Figure size 432x288 with 1 Axes>"
      ]
     },
     "metadata": {
      "needs_background": "light"
     },
     "output_type": "display_data"
    },
    {
     "name": "stdout",
     "output_type": "stream",
     "text": [
      "---------------------------------------------------------------------\n",
      "Modeling with  Landsize\n",
      "intercept:  842530.7113681774\n",
      "Coef:  [8759.55557193]\n",
      "mse: 265946525727.95035,\n",
      "rmse: 515700.03464024543,\n",
      "r2: 0.0658921116520429\n"
     ]
    },
    {
     "data": {
      "image/png": "[encoded data removed]",
      "text/plain": [
       "<Figure size 432x288 with 1 Axes>"
      ]
     },
     "metadata": {
      "needs_background": "light"
     },
     "output_type": "display_data"
    },
    {
     "name": "stdout",
     "output_type": "stream",
     "text": [
      "---------------------------------------------------------------------\n",
      "Modeling with  BuildingArea\n",
      "intercept:  75579.7548632652\n",
      "Coef:  [78960.47067016]\n",
      "mse: 244863154451.11798,\n",
      "rmse: 494836.49264289107,\n",
      "r2: 0.1399451317798709\n"
     ]
    },
    {
     "data": {
      "image/png": "[encoded data removed]",
      "text/plain": [
       "<Figure size 432x288 with 1 Axes>"
      ]
     },
     "metadata": {
      "needs_background": "light"
     },
     "output_type": "display_data"
    },
    {
     "name": "stdout",
     "output_type": "stream",
     "text": [
      "---------------------------------------------------------------------\n",
      "Modeling with  Lattitude\n",
      "intercept:  -60914827.61594363\n",
      "Coef:  [-1637782.73691787]\n",
      "mse: 268111679661.7064,\n",
      "rmse: 517795.0170305875,\n",
      "r2: 0.058287246864006326\n"
     ]
    },
    {
     "data": {
      "image/png": "[encoded data removed]",
      "text/plain": [
       "<Figure size 432x288 with 1 Axes>"
      ]
     },
     "metadata": {
      "needs_background": "light"
     },
     "output_type": "display_data"
    },
    {
     "name": "stdout",
     "output_type": "stream",
     "text": [
      "---------------------------------------------------------------------\n",
      "Modeling with  Longtitude\n",
      "intercept:  -174193047.0081236\n",
      "Coef:  [1208329.39883312]\n",
      "mse: 268457280916.5531,\n",
      "rmse: 518128.63356173737,\n",
      "r2: 0.05707336051038092\n"
     ]
    },
    {
     "data": {
      "image/png": "[encoded data removed]",
      "text/plain": [
       "<Figure size 432x288 with 1 Axes>"
      ]
     },
     "metadata": {
      "needs_background": "light"
     },
     "output_type": "display_data"
    },
    {
     "name": "stdout",
     "output_type": "stream",
     "text": [
      "---------------------------------------------------------------------\n",
      "Modeling with  Propertycount\n",
      "intercept:  1042073.5572224509\n",
      "Coef:  [-4.40591046]\n",
      "mse: 284108263889.05536,\n",
      "rmse: 533018.070884145,\n",
      "r2: 0.002101006143288675\n"
     ]
    },
    {
     "data": {
      "image/png": "[encoded data removed]",
      "text/plain": [
       "<Figure size 432x288 with 1 Axes>"
      ]
     },
     "metadata": {
      "needs_background": "light"
     },
     "output_type": "display_data"
    },
    {
     "name": "stdout",
     "output_type": "stream",
     "text": [
      "---------------------------------------------------------------------\n",
      "Modeling with  Day\n",
      "intercept:  1002690.9608624749\n",
      "Coef:  [391.5762849]\n",
      "mse: 284985606667.51587,\n",
      "rmse: 533840.431840373,\n",
      "r2: -0.0009805637621720376\n"
     ]
    },
    {
     "data": {
      "image/png": "[encoded data removed]",
      "text/plain": [
       "<Figure size 432x288 with 1 Axes>"
      ]
     },
     "metadata": {
      "needs_background": "light"
     },
     "output_type": "display_data"
    },
    {
     "name": "stdout",
     "output_type": "stream",
     "text": [
      "---------------------------------------------------------------------\n",
      "Modeling with  Month\n",
      "intercept:  977607.8198416351\n",
      "Coef:  [4690.15591704]\n",
      "mse: 284955154407.1694,\n",
      "rmse: 533811.9092032036,\n",
      "r2: -0.0008736035507919127\n"
     ]
    },
    {
     "data": {
      "image/png": "[encoded data removed]",
      "text/plain": [
       "<Figure size 432x288 with 1 Axes>"
      ]
     },
     "metadata": {
      "needs_background": "light"
     },
     "output_type": "display_data"
    },
    {
     "name": "stdout",
     "output_type": "stream",
     "text": [
      "---------------------------------------------------------------------\n",
      "Modeling with  Year\n",
      "intercept:  -32180025.5172271\n",
      "Coef:  [16458.47543473]\n",
      "mse: 285088372505.4455,\n",
      "rmse: 533936.6746211066,\n",
      "r2: -0.0013415174523923046\n"
     ]
    },
    {
     "data": {
      "image/png": "[encoded data removed]",
      "text/plain": [
       "<Figure size 432x288 with 1 Axes>"
      ]
     },
     "metadata": {
      "needs_background": "light"
     },
     "output_type": "display_data"
    },
    {
     "name": "stdout",
     "output_type": "stream",
     "text": [
      "---------------------------------------------------------------------\n",
      "Modeling with  Type\n",
      "intercept:  1160348.8282546115\n",
      "Coef:  [-275499.26332897]\n",
      "mse: 229194290406.95328,\n",
      "rmse: 478742.405064512,\n",
      "r2: 0.19498029144229956\n"
     ]
    },
    {
     "data": {
      "image/png": "[encoded data removed]",
      "text/plain": [
       "<Figure size 432x288 with 1 Axes>"
      ]
     },
     "metadata": {
      "needs_background": "light"
     },
     "output_type": "display_data"
    },
    {
     "name": "stdout",
     "output_type": "stream",
     "text": [
      "---------------------------------------------------------------------\n",
      "Modeling with  Method\n",
      "intercept:  1048782.445766452\n",
      "Coef:  [-28419.18809715]\n",
      "mse: 284805219430.5918,\n",
      "rmse: 533671.4527034323,\n",
      "r2: -0.00034697345484691056\n"
     ]
    },
    {
     "data": {
      "image/png": "[encoded data removed]",
      "text/plain": [
       "<Figure size 432x288 with 1 Axes>"
      ]
     },
     "metadata": {
      "needs_background": "light"
     },
     "output_type": "display_data"
    },
    {
     "name": "stdout",
     "output_type": "stream",
     "text": [
      "---------------------------------------------------------------------\n",
      "Modeling with  CouncilArea\n",
      "intercept:  1087041.1351705494\n",
      "Coef:  [-5012.79814764]\n",
      "mse: 278953319598.7589,\n",
      "rmse: 528160.3161907934,\n",
      "r2: 0.02020718035398672\n"
     ]
    },
    {
     "data": {
      "image/png": "[encoded data removed]",
      "text/plain": [
       "<Figure size 432x288 with 1 Axes>"
      ]
     },
     "metadata": {
      "needs_background": "light"
     },
     "output_type": "display_data"
    },
    {
     "name": "stdout",
     "output_type": "stream",
     "text": [
      "---------------------------------------------------------------------\n",
      "Modeling with  Regionname\n",
      "intercept:  922759.9879942513\n",
      "Coef:  [22864.22450763]\n",
      "mse: 282060861330.76526,\n",
      "rmse: 531094.0230606679,\n",
      "r2: 0.009292282190560552\n"
     ]
    },
    {
     "data": {
      "image/png": "[encoded data removed]",
      "text/plain": [
       "<Figure size 432x288 with 1 Axes>"
      ]
     },
     "metadata": {
      "needs_background": "light"
     },
     "output_type": "display_data"
    },
    {
     "name": "stdout",
     "output_type": "stream",
     "text": [
      "---------------------------------------------------------------------\n"
     ]
    }
   ],
   "source": [
    "for col in X:\n",
    "    ln_model(X[[col]],y)"
   ]
  },
  {
   "cell_type": "code",
   "execution_count": 70,
   "metadata": {},
   "outputs": [],
   "source": [
    "X_train, X_test, y_train, y_test = train_test_split(X, y, test_size=0.3, random_state=1)"
   ]
  },
  {
   "cell_type": "markdown",
   "metadata": {},
   "source": [
    "### Baseline Model "
   ]
  },
  {
   "cell_type": "code",
   "execution_count": 268,
   "metadata": {},
   "outputs": [],
   "source": [
    "ln = LinearRegression()"
   ]
  },
  {
   "cell_type": "code",
   "execution_count": 269,
   "metadata": {},
   "outputs": [
    {
     "data": {
      "text/plain": [
       "LinearRegression(copy_X=True, fit_intercept=True, n_jobs=None, normalize=False)"
      ]
     },
     "execution_count": 269,
     "metadata": {},
     "output_type": "execute_result"
    }
   ],
   "source": [
    "ln.fit(X_train,y_train)"
   ]
  },
  {
   "cell_type": "code",
   "execution_count": 270,
   "metadata": {},
   "outputs": [
    {
     "data": {
      "text/plain": [
       "-111558033884.8408"
      ]
     },
     "execution_count": 270,
     "metadata": {},
     "output_type": "execute_result"
    }
   ],
   "source": [
    "ln.intercept_"
   ]
  },
  {
   "cell_type": "code",
   "execution_count": 271,
   "metadata": {},
   "outputs": [
    {
     "data": {
      "text/plain": [
       "array([ 3.39070000e+01, -1.89214284e+07,  2.15802521e+07, -7.46160876e+05,\n",
       "        9.17653108e+07, -2.13954437e+07, -2.85772277e+06, -4.91263991e+06,\n",
       "       -1.76975752e+09,  1.09232436e+09, -1.81545084e+05, -2.07098239e+07,\n",
       "       -2.93800630e+04, -9.58991300e+03,  4.33091000e+02, -8.27743800e+03,\n",
       "        3.75685850e+04, -8.44471000e+02,  1.70769100e+03, -2.31909040e+04,\n",
       "        1.17512569e+05, -8.30055000e+02,  3.39968300e+03,  2.00382900e+03,\n",
       "       -2.13300000e+00,  2.18776830e+04, -6.63059500e+03,  9.72840000e+01,\n",
       "       -6.43828000e+02,  1.20945510e+04, -1.45720567e+05,  1.41903000e+02,\n",
       "       -9.42124100e+03, -3.12100000e+00, -2.71169000e+02,  1.52970000e+02,\n",
       "       -5.81100000e+00,  5.53320000e+01,  3.75149000e+02,  5.36308100e+03,\n",
       "       -5.63600000e+00,  5.15125000e+02,  1.80437290e+04,  2.59939920e+04,\n",
       "       -7.46258800e+03, -8.67300900e+03,  1.72149668e+05, -5.83141712e+05,\n",
       "        2.12122000e+02, -2.00812040e+04, -3.38368340e+04,  3.30773000e+03,\n",
       "        4.06806400e+03, -9.09156950e+04,  1.20726465e+05, -5.61497000e+02,\n",
       "        1.25329700e+04, -5.02970000e+01, -3.80450000e+01, -1.93339880e+04,\n",
       "        1.48834690e+04,  5.33900000e+00,  6.42637000e+02, -4.00570000e+02,\n",
       "        4.15578100e+03,  3.39621080e+04, -1.74450000e+02,  1.57727600e+03,\n",
       "       -2.58716562e+06,  1.08164997e+07,  3.47229260e+04,  8.35116635e+05,\n",
       "       -2.41462559e+06,  1.03936160e+04,  3.49447428e+05,  2.84978000e+02,\n",
       "       -3.52321000e+02,  1.27379690e+04])"
      ]
     },
     "execution_count": 271,
     "metadata": {},
     "output_type": "execute_result"
    }
   ],
   "source": [
    "ln.coef_.round(3)\n",
    "# shows Multicolinearity"
   ]
  },
  {
   "cell_type": "code",
   "execution_count": 273,
   "metadata": {},
   "outputs": [],
   "source": [
    "y_pred = ln.predict(X_test)"
   ]
  },
  {
   "cell_type": "code",
   "execution_count": 274,
   "metadata": {},
   "outputs": [
    {
     "name": "stdout",
     "output_type": "stream",
     "text": [
      "\n",
      "mse: 72823607285.52069,\n",
      "rmse: 269858.4949293253,\n",
      "r2: 0.7442150979894927\n"
     ]
    }
   ],
   "source": [
    "mse = mean_squared_error(y_test,y_pred)\n",
    "rmse = np.sqrt(mse)\n",
    "r2 = r2_score(y_test,y_pred)\n",
    "\n",
    "print(\"\\nmse: {},\\nrmse: {},\\nr2: {}\".format(mse,rmse,r2))"
   ]
  },
  {
   "cell_type": "markdown",
   "metadata": {},
   "source": [
    "### Feature selection \n",
    "<p>Wrapping Method</p>"
   ]
  },
  {
   "cell_type": "code",
   "execution_count": 275,
   "metadata": {},
   "outputs": [
    {
     "data": {
      "text/plain": [
       "array(['Rooms', 'Distance', 'Postcode', 'Bedroom2', 'Bathroom', 'Car',\n",
       "       'Landsize', 'BuildingArea', 'Lattitude', 'Longtitude',\n",
       "       'Propertycount', 'Day', 'Month', 'Year', 'Type', 'Method',\n",
       "       'CouncilArea', 'Regionname'], dtype=object)"
      ]
     },
     "execution_count": 275,
     "metadata": {},
     "output_type": "execute_result"
    }
   ],
   "source": [
    "X.columns.values"
   ]
  },
  {
   "cell_type": "code",
   "execution_count": 380,
   "metadata": {},
   "outputs": [],
   "source": [
    "X = df_new[['Rooms','Distance','Postcode','Type','Bathroom','Landsize','BuildingArea','Lattitude','Longtitude','CouncilArea','Regionname']]\n",
    "y = df_new[\"Price\"]"
   ]
  },
  {
   "cell_type": "code",
   "execution_count": 381,
   "metadata": {},
   "outputs": [
    {
     "name": "stdout",
     "output_type": "stream",
     "text": [
      "intercept:  -225641310.17938125\n",
      "Coef of Rooms: 144807.95192798824\n",
      "Coef of Distance: -46728.18572806922\n",
      "Coef of Postcode: 841.4658010590247\n",
      "Coef of Type: -227291.00612588192\n",
      "Coef of Bathroom: 124715.6231421717\n",
      "Coef of Landsize: 3494.3843017968193\n",
      "Coef of BuildingArea: 22094.041911271823\n",
      "Coef of Lattitude: -931623.0445571764\n",
      "Coef of Longtitude: 1299202.6639131557\n",
      "Coef of CouncilArea: -2630.9576033847216\n",
      "Coef of Regionname: 38357.84574617682\n",
      "\n",
      "mse: 105419016622.29375,\n",
      "rmse: 324682.9478465011,\n",
      "r2: 0.6297273117622844\n"
     ]
    }
   ],
   "source": [
    "X_train, X_test, y_train, y_test = train_test_split(X,y,test_size=0.3, random_state=1)\n",
    "model = LinearRegression()\n",
    "model.fit(X_train,y_train)\n",
    "    \n",
    "print(\"intercept: \",model.intercept_)\n",
    "c = -1\n",
    "for col in X:\n",
    "    c = c + 1\n",
    "    print(f\"Coef of {col}:\",model.coef_[c])\n",
    "\n",
    "y_pred = model.predict(X_test)\n",
    "mse = mean_squared_error(y_test,y_pred)\n",
    "rmse = np.sqrt(mse)\n",
    "\n",
    "r2 = r2_score(y_test,y_pred)\n",
    "\n",
    "print(\"\\nmse: {},\\nrmse: {},\\nr2: {}\".format(mse,rmse,r2))"
   ]
  },
  {
   "cell_type": "code",
   "execution_count": 382,
   "metadata": {},
   "outputs": [],
   "source": [
    "# multi-dimension trick - y_pred vs residuals"
   ]
  },
  {
   "cell_type": "code",
   "execution_count": 383,
   "metadata": {},
   "outputs": [],
   "source": [
    "residuals = y_test - y_pred"
   ]
  },
  {
   "cell_type": "code",
   "execution_count": 384,
   "metadata": {},
   "outputs": [
    {
     "data": {
      "image/png": "[encoded data removed]",
      "text/plain": [
       "<Figure size 432x288 with 1 Axes>"
      ]
     },
     "metadata": {
      "needs_background": "light"
     },
     "output_type": "display_data"
    }
   ],
   "source": [
    "plt.figure()\n",
    "plt.scatter(y_pred,residuals)\n",
    "plt.show()"
   ]
  },
  {
   "cell_type": "code",
   "execution_count": 385,
   "metadata": {},
   "outputs": [
    {
     "data": {
      "image/png": "[encoded data removed]",
      "text/plain": [
       "<Figure size 432x288 with 1 Axes>"
      ]
     },
     "metadata": {
      "needs_background": "light"
     },
     "output_type": "display_data"
    }
   ],
   "source": [
    "# residual histogram\n",
    "plt.figure()\n",
    "plt.hist(residuals)\n",
    "plt.show()\n",
    "# Normal distribution"
   ]
  },
  {
   "cell_type": "code",
   "execution_count": 386,
   "metadata": {},
   "outputs": [],
   "source": [
    "# This show clearly no linear relationship\n",
    "# Try for Polynomial Regression"
   ]
  },
  {
   "cell_type": "markdown",
   "metadata": {},
   "source": [
    "### Polynomial Redression"
   ]
  },
  {
   "cell_type": "code",
   "execution_count": 387,
   "metadata": {},
   "outputs": [],
   "source": [
    "from sklearn.preprocessing import PolynomialFeatures"
   ]
  },
  {
   "cell_type": "code",
   "execution_count": 388,
   "metadata": {},
   "outputs": [
    {
     "name": "stdout",
     "output_type": "stream",
     "text": [
      "mse: 72823607285.52069,\n",
      "rmse: 269858.4949293253,\n",
      "r2: 0.7442150979894927\n"
     ]
    }
   ],
   "source": [
    "# Poly_2 - one curve\n",
    "poly = PolynomialFeatures(2)\n",
    "X_poly = poly.fit_transform(X)\n",
    "X_train, X_test, y_train, y_test = train_test_split(X_poly,y,test_size=0.3, random_state=1)\n",
    "\n",
    "# Linear Regression\n",
    "model = LinearRegression()\n",
    "model.fit(X_train,y_train)\n",
    "y_pred = model.predict(X_test)\n",
    "\n",
    "mse = mean_squared_error(y_test,y_pred)\n",
    "rmse = np.sqrt(mse)\n",
    "r2 = r2_score(y_test,y_pred)\n",
    "\n",
    "print(\"mse: {},\\nrmse: {},\\nr2: {}\".format(mse,rmse,r2))"
   ]
  },
  {
   "cell_type": "code",
   "execution_count": 389,
   "metadata": {},
   "outputs": [
    {
     "data": {
      "image/png": "[encoded data removed]",
      "text/plain": [
       "<Figure size 432x288 with 1 Axes>"
      ]
     },
     "metadata": {
      "needs_background": "light"
     },
     "output_type": "display_data"
    }
   ],
   "source": [
    "residuals = y_test - y_pred\n",
    "\n",
    "plt.figure()\n",
    "sns.scatterplot(y_pred,residuals)\n",
    "plt.show()"
   ]
  },
  {
   "cell_type": "code",
   "execution_count": 390,
   "metadata": {},
   "outputs": [
    {
     "data": {
      "image/png": "[encoded data removed]",
      "text/plain": [
       "<Figure size 432x288 with 1 Axes>"
      ]
     },
     "metadata": {
      "needs_background": "light"
     },
     "output_type": "display_data"
    }
   ],
   "source": [
    "plt.figure()\n",
    "#plt.hist(residuals)\n",
    "sns.distplot(residuals)\n",
    "plt.show()\n",
    "# Great our model residual is normally distributed"
   ]
  },
  {
   "cell_type": "markdown",
   "metadata": {},
   "source": [
    "### Gradient Descent"
   ]
  },
  {
   "cell_type": "code",
   "execution_count": 391,
   "metadata": {},
   "outputs": [],
   "source": [
    "from sklearn import linear_model"
   ]
  },
  {
   "cell_type": "code",
   "execution_count": 392,
   "metadata": {},
   "outputs": [
    {
     "data": {
      "text/plain": [
       "SGDRegressor(alpha=0.0001, average=False, early_stopping=False, epsilon=0.1,\n",
       "             eta0=0.01, fit_intercept=True, l1_ratio=0.15,\n",
       "             learning_rate='invscaling', loss='squared_loss', max_iter=100,\n",
       "             n_iter_no_change=5, penalty='l2', power_t=0.25, random_state=None,\n",
       "             shuffle=True, tol=0.001, validation_fraction=0.1, verbose=0,\n",
       "             warm_start=False)"
      ]
     },
     "execution_count": 392,
     "metadata": {},
     "output_type": "execute_result"
    }
   ],
   "source": [
    "gdm = linear_model.SGDRegressor(max_iter=100, tol=1e-3)\n",
    "gdm.fit(X_train,y_train)"
   ]
  },
  {
   "cell_type": "code",
   "execution_count": 393,
   "metadata": {},
   "outputs": [
    {
     "data": {
      "text/plain": [
       "array([1.53926829e+09])"
      ]
     },
     "execution_count": 393,
     "metadata": {},
     "output_type": "execute_result"
    }
   ],
   "source": [
    "gdm.intercept_"
   ]
  },
  {
   "cell_type": "code",
   "execution_count": 394,
   "metadata": {},
   "outputs": [
    {
     "name": "stdout",
     "output_type": "stream",
     "text": [
      "Coef of Rooms: 1502937347.5007973\n",
      "Coef of Distance: 183283434999.49454\n",
      "Coef of Postcode: -908645859136.8582\n",
      "Coef of Type: 2218286971750.5605\n",
      "Coef of Bathroom: 343540018519.4883\n",
      "Coef of Landsize: 372625237818.25793\n",
      "Coef of BuildingArea: -1474130507409.8137\n",
      "Coef of Lattitude: -665323721361.8375\n",
      "Coef of Longtitude: -84083386693.64734\n",
      "Coef of CouncilArea: 234010802889.9794\n",
      "Coef of Regionname: -1046870599997.1674\n"
     ]
    }
   ],
   "source": [
    "c = -1\n",
    "for col in X:\n",
    "    c = c + 1\n",
    "    print(f\"Coef of {col}:\",gdm.coef_[c])"
   ]
  },
  {
   "cell_type": "code",
   "execution_count": 395,
   "metadata": {},
   "outputs": [],
   "source": [
    "y_pred = gdm.predict(X_test)"
   ]
  },
  {
   "cell_type": "code",
   "execution_count": 396,
   "metadata": {},
   "outputs": [
    {
     "name": "stdout",
     "output_type": "stream",
     "text": [
      "\n",
      "mse: 5.4488603286176185e+44,\n",
      "rmse: 2.334279402431855e+22,\n",
      "r2: -1.913852193231728e+33\n"
     ]
    }
   ],
   "source": [
    "mse = mean_squared_error(y_test,y_pred)\n",
    "rmse = np.sqrt(mse)\n",
    "r2 = r2_score(y_test,y_pred)\n",
    "\n",
    "print(\"\\nmse: {},\\nrmse: {},\\nr2: {}\".format(mse,rmse,r2))"
   ]
  },
  {
   "cell_type": "code",
   "execution_count": null,
   "metadata": {},
   "outputs": [],
   "source": [
    "# In Gradient Descent since we minimize cost function-MSE value therefore r2 score can be ignore."
   ]
  },
  {
   "cell_type": "markdown",
   "metadata": {},
   "source": [
    "### Regularization"
   ]
  },
  {
   "cell_type": "code",
   "execution_count": 292,
   "metadata": {},
   "outputs": [
    {
     "name": "stdout",
     "output_type": "stream",
     "text": [
      "0.7599271395699001\n",
      "0.7442150979894927\n"
     ]
    }
   ],
   "source": [
    "print(model.score(X_train,y_train))\n",
    "print(model.score(X_test,y_test))"
   ]
  },
  {
   "cell_type": "code",
   "execution_count": 293,
   "metadata": {},
   "outputs": [],
   "source": [
    "from sklearn.linear_model import Lasso # lambda*sum(abs(coef))\n",
    "from sklearn.linear_model import Ridge # lambda*sum(square(coef))"
   ]
  },
  {
   "cell_type": "code",
   "execution_count": 294,
   "metadata": {},
   "outputs": [],
   "source": [
    "# Finding Right Lambda value"
   ]
  },
  {
   "cell_type": "code",
   "execution_count": 295,
   "metadata": {},
   "outputs": [
    {
     "name": "stdout",
     "output_type": "stream",
     "text": [
      "1 : 0.73573716255834\n",
      "11 : 0.7350403112697748\n",
      "21 : 0.7347582450587626\n",
      "31 : 0.7345156106336154\n",
      "41 : 0.7343213430239457\n",
      "51 : 0.7341671294842249\n",
      "61 : 0.7340439240309033\n",
      "71 : 0.7339445355644829\n",
      "81 : 0.7338635828078292\n",
      "91 : 0.7337970718510545\n",
      "101 : 0.7337420169236393\n",
      "111 : 0.7336961587234747\n",
      "121 : 0.7336577647962127\n",
      "131 : 0.7336254892208083\n",
      "141 : 0.7335982734431449\n",
      "151 : 0.7335752754147304\n",
      "161 : 0.7335558182968853\n",
      "171 : 0.7335393528584379\n",
      "181 : 0.7335254295282474\n",
      "191 : 0.7335136773930049\n"
     ]
    }
   ],
   "source": [
    "# Ridge\n",
    "for i in range(1,200,10):\n",
    "    l2 = Ridge(i)\n",
    "    l2.fit(X_train,y_train)\n",
    "    print(i,\":\",l2.score(X_test,y_test))"
   ]
  },
  {
   "cell_type": "code",
   "execution_count": 296,
   "metadata": {},
   "outputs": [
    {
     "name": "stdout",
     "output_type": "stream",
     "text": [
      "200 : 0.7268454945601779\n",
      "250 : 0.7269480079140196\n",
      "300 : 0.7271014722305962\n",
      "350 : 0.7271956955095193\n",
      "400 : 0.7272751411794789\n",
      "450 : 0.7273493885619491\n",
      "500 : 0.7273618461173633\n",
      "550 : 0.7273803737509982\n"
     ]
    }
   ],
   "source": [
    "# Lasso\n",
    "for i in range(200,600,50):\n",
    "    l1 = Lasso(i)\n",
    "    l1.fit(X_train,y_train)\n",
    "    print(i,\":\",l1.score(X_test,y_test))"
   ]
  },
  {
   "cell_type": "code",
   "execution_count": 212,
   "metadata": {},
   "outputs": [],
   "source": [
    "# Ridge - 11\n",
    "# Lasso - 300"
   ]
  },
  {
   "cell_type": "markdown",
   "metadata": {},
   "source": [
    "### Regularization model"
   ]
  },
  {
   "cell_type": "code",
   "execution_count": 297,
   "metadata": {},
   "outputs": [
    {
     "name": "stdout",
     "output_type": "stream",
     "text": [
      "0.7350403112697748\n"
     ]
    }
   ],
   "source": [
    "l2 = Ridge(alpha=11)\n",
    "l2.fit(X_train,y_train)\n",
    "print(l2.score(X_test,y_test))"
   ]
  },
  {
   "cell_type": "code",
   "execution_count": 299,
   "metadata": {},
   "outputs": [
    {
     "name": "stdout",
     "output_type": "stream",
     "text": [
      "Coef of Rooms: 0.0\n",
      "Coef of Distance: -9084.298596239567\n",
      "Coef of Postcode: 78397.81436569493\n",
      "Coef of Type: 201473.19652433204\n",
      "Coef of Bathroom: 7618.775591941714\n",
      "Coef of Landsize: -6179.229930907951\n",
      "Coef of BuildingArea: -74138.4879705636\n",
      "Coef of Lattitude: -16488.324779055925\n",
      "Coef of Longtitude: -399.7071035871236\n",
      "Coef of CouncilArea: 561.7405963991837\n",
      "Coef of Regionname: 3561.6422402001235\n"
     ]
    }
   ],
   "source": [
    "c = -1\n",
    "for col in X:\n",
    "    c = c + 1\n",
    "    print(f\"Coef of {col}:\",l2.coef_[c])"
   ]
  },
  {
   "cell_type": "code",
   "execution_count": 219,
   "metadata": {},
   "outputs": [
    {
     "name": "stdout",
     "output_type": "stream",
     "text": [
      "0.7271014722305962\n"
     ]
    }
   ],
   "source": [
    "l1 = Lasso(alpha=300)\n",
    "l1.fit(X_train,y_train)\n",
    "print(l1.score(X_test,y_test))"
   ]
  },
  {
   "cell_type": "code",
   "execution_count": 300,
   "metadata": {},
   "outputs": [
    {
     "name": "stdout",
     "output_type": "stream",
     "text": [
      "Coef of Rooms: 0.0\n",
      "Coef of Distance: -0.0\n",
      "Coef of Postcode: -13202.29706151846\n",
      "Coef of Type: 1567.2071181289332\n",
      "Coef of Bathroom: -0.0\n",
      "Coef of Landsize: 0.0\n",
      "Coef of BuildingArea: 5368.239207678092\n",
      "Coef of Lattitude: 0.0\n",
      "Coef of Longtitude: -0.0\n",
      "Coef of CouncilArea: 0.0\n",
      "Coef of Regionname: -1799.3249824053958\n"
     ]
    }
   ],
   "source": [
    "c = -1\n",
    "for col in X:\n",
    "    c = c + 1\n",
    "    print(f\"Coef of {col}:\",l1.coef_[c])"
   ]
  },
  {
   "cell_type": "code",
   "execution_count": 312,
   "metadata": {},
   "outputs": [],
   "source": [
    "#X = X[['Postcode','Type','BuildingArea','Regionname']]"
   ]
  },
  {
   "cell_type": "markdown",
   "metadata": {},
   "source": [
    "### Cross Validation / K-fold Validation"
   ]
  },
  {
   "cell_type": "code",
   "execution_count": 302,
   "metadata": {},
   "outputs": [],
   "source": [
    "from sklearn.model_selection import cross_val_score"
   ]
  },
  {
   "cell_type": "code",
   "execution_count": 333,
   "metadata": {},
   "outputs": [],
   "source": [
    "l2_cross = cross_val_score(l2,X,y,cv=5)"
   ]
  },
  {
   "cell_type": "code",
   "execution_count": 334,
   "metadata": {},
   "outputs": [
    {
     "data": {
      "text/plain": [
       "array([0.64832921, 0.62533289, 0.64012033, 0.56941451, 0.54127199])"
      ]
     },
     "execution_count": 334,
     "metadata": {},
     "output_type": "execute_result"
    }
   ],
   "source": [
    "l2_cross"
   ]
  },
  {
   "cell_type": "code",
   "execution_count": 335,
   "metadata": {},
   "outputs": [
    {
     "data": {
      "text/plain": [
       "0.6048937872105933"
      ]
     },
     "execution_count": 335,
     "metadata": {},
     "output_type": "execute_result"
    }
   ],
   "source": [
    "np.mean(l2_cross)"
   ]
  },
  {
   "cell_type": "code",
   "execution_count": 336,
   "metadata": {},
   "outputs": [],
   "source": [
    "l1_cross = cross_val_score(l1,X,y,cv=5)"
   ]
  },
  {
   "cell_type": "code",
   "execution_count": 337,
   "metadata": {},
   "outputs": [
    {
     "data": {
      "text/plain": [
       "array([0.64859634, 0.62763589, 0.64155377, 0.56965708, 0.54038565])"
      ]
     },
     "execution_count": 337,
     "metadata": {},
     "output_type": "execute_result"
    }
   ],
   "source": [
    "l1_cross"
   ]
  },
  {
   "cell_type": "code",
   "execution_count": 338,
   "metadata": {},
   "outputs": [
    {
     "data": {
      "text/plain": [
       "0.605565744139895"
      ]
     },
     "execution_count": 338,
     "metadata": {},
     "output_type": "execute_result"
    }
   ],
   "source": [
    "l1_cross.mean()"
   ]
  },
  {
   "cell_type": "code",
   "execution_count": null,
   "metadata": {},
   "outputs": [],
   "source": [
    "#  Lasso having little higher score than Ridge. Hence Lasso is better model option "
   ]
  }
 ],
 "metadata": {
  "kernelspec": {
   "display_name": "Python 3",
   "language": "python",
   "name": "python3"
  },
  "language_info": {
   "codemirror_mode": {
    "name": "ipython",
    "version": 3
   },
   "file_extension": ".py",
   "mimetype": "text/x-python",
   "name": "python",
   "nbconvert_exporter": "python",
   "pygments_lexer": "ipython3",
   "version": "3.7.4"
  }
 },
 "nbformat": 4,
 "nbformat_minor": 2
}
