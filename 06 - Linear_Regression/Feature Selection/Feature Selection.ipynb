{
 "cells": [
  {
   "cell_type": "markdown",
   "metadata": {},
   "source": [
    "# Feature Selection"
   ]
  },
  {
   "cell_type": "code",
   "execution_count": 1,
   "metadata": {},
   "outputs": [],
   "source": [
    "import numpy as np\n",
    "import pandas as pd\n",
    "import matplotlib.pyplot as plt\n",
    "import seaborn as sns\n",
    "\n",
    "import warnings"
   ]
  },
  {
   "cell_type": "code",
   "execution_count": 2,
   "metadata": {},
   "outputs": [],
   "source": [
    "warnings.filterwarnings(action=\"ignore\")"
   ]
  },
  {
   "cell_type": "code",
   "execution_count": 3,
   "metadata": {},
   "outputs": [],
   "source": [
    "df = pd.read_csv(\"../../CSV/insurance.csv\")"
   ]
  },
  {
   "cell_type": "code",
   "execution_count": 4,
   "metadata": {},
   "outputs": [
    {
     "data": {
      "text/html": [
       "<div>\n",
       "<style scoped>\n",
       "    .dataframe tbody tr th:only-of-type {\n",
       "        vertical-align: middle;\n",
       "    }\n",
       "\n",
       "    .dataframe tbody tr th {\n",
       "        vertical-align: top;\n",
       "    }\n",
       "\n",
       "    .dataframe thead th {\n",
       "        text-align: right;\n",
       "    }\n",
       "</style>\n",
       "<table border=\"1\" class=\"dataframe\">\n",
       "  <thead>\n",
       "    <tr style=\"text-align: right;\">\n",
       "      <th></th>\n",
       "      <th>age</th>\n",
       "      <th>sex</th>\n",
       "      <th>bmi</th>\n",
       "      <th>children</th>\n",
       "      <th>smoker</th>\n",
       "      <th>region</th>\n",
       "      <th>charges</th>\n",
       "      <th>insuranceclaim</th>\n",
       "    </tr>\n",
       "  </thead>\n",
       "  <tbody>\n",
       "    <tr>\n",
       "      <td>0</td>\n",
       "      <td>19</td>\n",
       "      <td>0</td>\n",
       "      <td>27.900</td>\n",
       "      <td>0</td>\n",
       "      <td>1</td>\n",
       "      <td>3</td>\n",
       "      <td>16884.92400</td>\n",
       "      <td>1</td>\n",
       "    </tr>\n",
       "    <tr>\n",
       "      <td>1</td>\n",
       "      <td>18</td>\n",
       "      <td>1</td>\n",
       "      <td>33.770</td>\n",
       "      <td>1</td>\n",
       "      <td>0</td>\n",
       "      <td>2</td>\n",
       "      <td>1725.55230</td>\n",
       "      <td>1</td>\n",
       "    </tr>\n",
       "    <tr>\n",
       "      <td>2</td>\n",
       "      <td>28</td>\n",
       "      <td>1</td>\n",
       "      <td>33.000</td>\n",
       "      <td>3</td>\n",
       "      <td>0</td>\n",
       "      <td>2</td>\n",
       "      <td>4449.46200</td>\n",
       "      <td>0</td>\n",
       "    </tr>\n",
       "    <tr>\n",
       "      <td>3</td>\n",
       "      <td>33</td>\n",
       "      <td>1</td>\n",
       "      <td>22.705</td>\n",
       "      <td>0</td>\n",
       "      <td>0</td>\n",
       "      <td>1</td>\n",
       "      <td>21984.47061</td>\n",
       "      <td>0</td>\n",
       "    </tr>\n",
       "    <tr>\n",
       "      <td>4</td>\n",
       "      <td>32</td>\n",
       "      <td>1</td>\n",
       "      <td>28.880</td>\n",
       "      <td>0</td>\n",
       "      <td>0</td>\n",
       "      <td>1</td>\n",
       "      <td>3866.85520</td>\n",
       "      <td>1</td>\n",
       "    </tr>\n",
       "  </tbody>\n",
       "</table>\n",
       "</div>"
      ],
      "text/plain": [
       "   age  sex     bmi  children  smoker  region      charges  insuranceclaim\n",
       "0   19    0  27.900         0       1       3  16884.92400               1\n",
       "1   18    1  33.770         1       0       2   1725.55230               1\n",
       "2   28    1  33.000         3       0       2   4449.46200               0\n",
       "3   33    1  22.705         0       0       1  21984.47061               0\n",
       "4   32    1  28.880         0       0       1   3866.85520               1"
      ]
     },
     "execution_count": 4,
     "metadata": {},
     "output_type": "execute_result"
    }
   ],
   "source": [
    "df.head()"
   ]
  },
  {
   "cell_type": "code",
   "execution_count": 5,
   "metadata": {},
   "outputs": [],
   "source": [
    "cat_col = [\"sex\",\"children\",\"smoker\",\"region\"]"
   ]
  },
  {
   "cell_type": "code",
   "execution_count": 6,
   "metadata": {},
   "outputs": [
    {
     "data": {
      "image/png": "[encoded data removed]",
      "text/plain": [
       "<Figure size 432x288 with 1 Axes>"
      ]
     },
     "metadata": {
      "needs_background": "light"
     },
     "output_type": "display_data"
    },
    {
     "name": "stdout",
     "output_type": "stream",
     "text": [
      "------------------------------------------\n"
     ]
    },
    {
     "data": {
      "image/png": "[encoded data removed]",
      "text/plain": [
       "<Figure size 432x288 with 1 Axes>"
      ]
     },
     "metadata": {
      "needs_background": "light"
     },
     "output_type": "display_data"
    },
    {
     "name": "stdout",
     "output_type": "stream",
     "text": [
      "------------------------------------------\n"
     ]
    },
    {
     "data": {
      "image/png": "[encoded data removed]",
      "text/plain": [
       "<Figure size 432x288 with 1 Axes>"
      ]
     },
     "metadata": {
      "needs_background": "light"
     },
     "output_type": "display_data"
    },
    {
     "name": "stdout",
     "output_type": "stream",
     "text": [
      "------------------------------------------\n"
     ]
    },
    {
     "data": {
      "image/png": "[encoded data removed]",
      "text/plain": [
       "<Figure size 432x288 with 1 Axes>"
      ]
     },
     "metadata": {
      "needs_background": "light"
     },
     "output_type": "display_data"
    },
    {
     "name": "stdout",
     "output_type": "stream",
     "text": [
      "------------------------------------------\n"
     ]
    }
   ],
   "source": [
    "for col in cat_col:\n",
    "    plt.figure()\n",
    "    sns.countplot(data=df,x=\"insuranceclaim\", hue=col)\n",
    "    plt.show()\n",
    "    print(\"------------------------------------------\")"
   ]
  },
  {
   "cell_type": "markdown",
   "metadata": {},
   "source": [
    "<p> Smoker and Children columns might affect the target </p>"
   ]
  },
  {
   "cell_type": "code",
   "execution_count": 7,
   "metadata": {},
   "outputs": [],
   "source": [
    "num_col = [\"age\",\"bmi\",\"charges\"]"
   ]
  },
  {
   "cell_type": "code",
   "execution_count": 8,
   "metadata": {},
   "outputs": [
    {
     "data": {
      "image/png": "[encoded data removed]",
      "text/plain": [
       "<Figure size 432x288 with 1 Axes>"
      ]
     },
     "metadata": {
      "needs_background": "light"
     },
     "output_type": "display_data"
    },
    {
     "name": "stdout",
     "output_type": "stream",
     "text": [
      "-------------------------------------------\n"
     ]
    },
    {
     "data": {
      "image/png": "[encoded data removed]",
      "text/plain": [
       "<Figure size 432x288 with 1 Axes>"
      ]
     },
     "metadata": {
      "needs_background": "light"
     },
     "output_type": "display_data"
    },
    {
     "name": "stdout",
     "output_type": "stream",
     "text": [
      "-------------------------------------------\n"
     ]
    },
    {
     "data": {
      "image/png": "[encoded data removed]",
      "text/plain": [
       "<Figure size 432x288 with 1 Axes>"
      ]
     },
     "metadata": {
      "needs_background": "light"
     },
     "output_type": "display_data"
    },
    {
     "name": "stdout",
     "output_type": "stream",
     "text": [
      "-------------------------------------------\n"
     ]
    }
   ],
   "source": [
    "for col in num_col:\n",
    "    plt.figure()\n",
    "    sns.scatterplot(data=df, x=col, y=\"insuranceclaim\")\n",
    "    plt.show()\n",
    "    print(\"-------------------------------------------\")"
   ]
  },
  {
   "cell_type": "markdown",
   "metadata": {},
   "source": [
    "<p>charges and bmi might affect the target</p>"
   ]
  },
  {
   "cell_type": "markdown",
   "metadata": {},
   "source": [
    "## Baseline model"
   ]
  },
  {
   "cell_type": "code",
   "execution_count": 5,
   "metadata": {},
   "outputs": [],
   "source": [
    "from sklearn.model_selection import train_test_split\n",
    "from sklearn.linear_model import LogisticRegression\n",
    "from sklearn.metrics import classification_report, precision_score, recall_score"
   ]
  },
  {
   "cell_type": "code",
   "execution_count": 23,
   "metadata": {},
   "outputs": [],
   "source": [
    "def train_model(X_train,X_test):\n",
    "    log = LogisticRegression()\n",
    "    log.fit(X_train,y_train)\n",
    "    y_pred = log.predict(X_test)\n",
    "    print(classification_report(y_test,y_pred))"
   ]
  },
  {
   "cell_type": "code",
   "execution_count": 24,
   "metadata": {},
   "outputs": [],
   "source": [
    "X = df.iloc[:,:-1]\n",
    "y = df.iloc[:,-1]"
   ]
  },
  {
   "cell_type": "code",
   "execution_count": 25,
   "metadata": {},
   "outputs": [],
   "source": [
    "X_train,X_test,y_train,y_test = train_test_split(X,y,test_size=0.3,random_state=1)"
   ]
  },
  {
   "cell_type": "code",
   "execution_count": 26,
   "metadata": {},
   "outputs": [
    {
     "name": "stdout",
     "output_type": "stream",
     "text": [
      "              precision    recall  f1-score   support\n",
      "\n",
      "           0       0.78      0.72      0.75       157\n",
      "           1       0.83      0.87      0.85       245\n",
      "\n",
      "    accuracy                           0.81       402\n",
      "   macro avg       0.81      0.80      0.80       402\n",
      "weighted avg       0.81      0.81      0.81       402\n",
      "\n"
     ]
    }
   ],
   "source": [
    "train_model(X_train,X_test)"
   ]
  },
  {
   "cell_type": "markdown",
   "metadata": {},
   "source": [
    "## Filter method"
   ]
  },
  {
   "cell_type": "code",
   "execution_count": 14,
   "metadata": {},
   "outputs": [],
   "source": [
    "#chi2\n",
    "from sklearn.feature_selection import chi2\n",
    "# ANOVA\n",
    "from sklearn.feature_selection import f_regression\n",
    "# common function for both\n",
    "from sklearn.feature_selection import SelectKBest"
   ]
  },
  {
   "cell_type": "code",
   "execution_count": 15,
   "metadata": {},
   "outputs": [],
   "source": [
    "# chi2 test"
   ]
  },
  {
   "cell_type": "code",
   "execution_count": 16,
   "metadata": {},
   "outputs": [],
   "source": [
    "chi2 = SelectKBest(score_func=chi2,k=5)"
   ]
  },
  {
   "cell_type": "code",
   "execution_count": 17,
   "metadata": {},
   "outputs": [],
   "source": [
    "X_train_chi = chi2.fit_transform(X_train,y_train)"
   ]
  },
  {
   "cell_type": "code",
   "execution_count": 18,
   "metadata": {},
   "outputs": [],
   "source": [
    "X_test_chi = chi2.transform(X_test)"
   ]
  },
  {
   "cell_type": "code",
   "execution_count": 19,
   "metadata": {},
   "outputs": [
    {
     "name": "stdout",
     "output_type": "stream",
     "text": [
      "              precision    recall  f1-score   support\n",
      "\n",
      "           0       0.77      0.69      0.73       157\n",
      "           1       0.81      0.87      0.84       245\n",
      "\n",
      "    accuracy                           0.80       402\n",
      "   macro avg       0.79      0.78      0.78       402\n",
      "weighted avg       0.80      0.80      0.80       402\n",
      "\n"
     ]
    }
   ],
   "source": [
    "train_model(X_train_chi,X_test_chi)"
   ]
  },
  {
   "cell_type": "code",
   "execution_count": 20,
   "metadata": {},
   "outputs": [
    {
     "data": {
      "text/plain": [
       "array([6.66570510e+01, 7.99951711e-01, 1.76723951e+02, 2.24760407e+02,\n",
       "       8.97512391e+01, 1.90474694e+00, 1.05483865e+06])"
      ]
     },
     "execution_count": 20,
     "metadata": {},
     "output_type": "execute_result"
    }
   ],
   "source": [
    "chi2.scores_"
   ]
  },
  {
   "cell_type": "code",
   "execution_count": 21,
   "metadata": {},
   "outputs": [
    {
     "data": {
      "text/plain": [
       "Index(['age', 'sex', 'bmi', 'children', 'smoker', 'region', 'charges',\n",
       "       'insuranceclaim'],\n",
       "      dtype='object')"
      ]
     },
     "execution_count": 21,
     "metadata": {},
     "output_type": "execute_result"
    }
   ],
   "source": [
    "df.columns"
   ]
  },
  {
   "cell_type": "code",
   "execution_count": 22,
   "metadata": {},
   "outputs": [
    {
     "data": {
      "text/plain": [
       "array([ True, False,  True,  True,  True, False,  True])"
      ]
     },
     "execution_count": 22,
     "metadata": {},
     "output_type": "execute_result"
    }
   ],
   "source": [
    "chi2.get_support()"
   ]
  },
  {
   "cell_type": "code",
   "execution_count": 23,
   "metadata": {},
   "outputs": [],
   "source": [
    "# Anova"
   ]
  },
  {
   "cell_type": "code",
   "execution_count": 24,
   "metadata": {},
   "outputs": [],
   "source": [
    "anova = SelectKBest(score_func=f_regression,k=4)"
   ]
  },
  {
   "cell_type": "code",
   "execution_count": 25,
   "metadata": {},
   "outputs": [],
   "source": [
    "X_train_f = anova.fit_transform(X_train,y_train)\n",
    "X_test_f = anova.transform(X_test)"
   ]
  },
  {
   "cell_type": "code",
   "execution_count": 26,
   "metadata": {},
   "outputs": [
    {
     "name": "stdout",
     "output_type": "stream",
     "text": [
      "              precision    recall  f1-score   support\n",
      "\n",
      "           0       0.77      0.63      0.69       157\n",
      "           1       0.79      0.88      0.83       245\n",
      "\n",
      "    accuracy                           0.78       402\n",
      "   macro avg       0.78      0.75      0.76       402\n",
      "weighted avg       0.78      0.78      0.78       402\n",
      "\n"
     ]
    }
   ],
   "source": [
    "train_model(X_train_f,X_test_f)"
   ]
  },
  {
   "cell_type": "code",
   "execution_count": 27,
   "metadata": {},
   "outputs": [
    {
     "data": {
      "text/plain": [
       "array([ 13.32163892,   1.63777909, 173.24700069, 201.75424875,\n",
       "       128.32425002,   2.35830459, 104.5606801 ])"
      ]
     },
     "execution_count": 27,
     "metadata": {},
     "output_type": "execute_result"
    }
   ],
   "source": [
    "anova.scores_"
   ]
  },
  {
   "cell_type": "code",
   "execution_count": 28,
   "metadata": {},
   "outputs": [
    {
     "data": {
      "text/plain": [
       "array([False, False,  True,  True,  True, False,  True])"
      ]
     },
     "execution_count": 28,
     "metadata": {},
     "output_type": "execute_result"
    }
   ],
   "source": [
    "anova.get_support()"
   ]
  },
  {
   "cell_type": "code",
   "execution_count": 29,
   "metadata": {},
   "outputs": [
    {
     "data": {
      "text/plain": [
       "Index(['age', 'sex', 'bmi', 'children', 'smoker', 'region', 'charges',\n",
       "       'insuranceclaim'],\n",
       "      dtype='object')"
      ]
     },
     "execution_count": 29,
     "metadata": {},
     "output_type": "execute_result"
    }
   ],
   "source": [
    "df.columns"
   ]
  },
  {
   "cell_type": "markdown",
   "metadata": {},
   "source": [
    "## Wrapper methods"
   ]
  },
  {
   "cell_type": "code",
   "execution_count": 30,
   "metadata": {},
   "outputs": [],
   "source": [
    "features = df.columns.tolist()[:-1]"
   ]
  },
  {
   "cell_type": "code",
   "execution_count": 31,
   "metadata": {},
   "outputs": [
    {
     "data": {
      "text/plain": [
       "['age', 'sex', 'bmi', 'children', 'smoker', 'region', 'charges']"
      ]
     },
     "execution_count": 31,
     "metadata": {},
     "output_type": "execute_result"
    }
   ],
   "source": [
    "features"
   ]
  },
  {
   "cell_type": "code",
   "execution_count": 34,
   "metadata": {},
   "outputs": [],
   "source": [
    "cols = []"
   ]
  },
  {
   "cell_type": "code",
   "execution_count": 35,
   "metadata": {},
   "outputs": [
    {
     "name": "stdout",
     "output_type": "stream",
     "text": [
      "age ----> precision:  0.5965909090909091 recall:  0.8571428571428571\n",
      "sex ----> precision:  0.5955678670360111 recall:  0.8775510204081632\n",
      "bmi ----> precision:  0.7290076335877863 recall:  0.7795918367346939\n",
      "children ----> precision:  0.80078125 recall:  0.8367346938775511\n",
      "smoker ----> precision:  0.9020408163265307 recall:  0.9020408163265307\n",
      "region ----> precision:  0.9020408163265307 recall:  0.9020408163265307\n",
      "charges ----> precision:  0.8192307692307692 recall:  0.8693877551020408\n"
     ]
    }
   ],
   "source": [
    "for col in features:\n",
    "    cols.append(col)\n",
    "  \n",
    "    X = df[cols]\n",
    "    y = df[\"insuranceclaim\"]\n",
    "    \n",
    "    X_train,X_test,y_train,y_test = train_test_split(X,y,test_size=0.3,random_state=1)\n",
    "    \n",
    "\n",
    "    log = LogisticRegression()\n",
    "    log.fit(X_train,y_train)\n",
    "    y_pred = log.predict(X_test)\n",
    "    print(col,\"----> precision: \",precision_score(y_test,y_pred),\"recall: \",recall_score(y_test,y_pred))"
   ]
  },
  {
   "cell_type": "markdown",
   "metadata": {},
   "source": [
    "## Principal component analysis"
   ]
  },
  {
   "cell_type": "code",
   "execution_count": 27,
   "metadata": {},
   "outputs": [],
   "source": [
    "from sklearn.decomposition import PCA"
   ]
  },
  {
   "cell_type": "code",
   "execution_count": 28,
   "metadata": {},
   "outputs": [],
   "source": [
    "X_train,X_test,y_train,y_test = train_test_split(X,y,test_size=0.3,random_state=1)"
   ]
  },
  {
   "cell_type": "code",
   "execution_count": 29,
   "metadata": {},
   "outputs": [],
   "source": [
    "pca = PCA(n_components=5,random_state=1)"
   ]
  },
  {
   "cell_type": "code",
   "execution_count": 30,
   "metadata": {},
   "outputs": [],
   "source": [
    "X_train_pca = pca.fit_transform(X_train)"
   ]
  },
  {
   "cell_type": "code",
   "execution_count": 31,
   "metadata": {},
   "outputs": [],
   "source": [
    "X_test_pca = pca.transform(X_test)"
   ]
  },
  {
   "cell_type": "code",
   "execution_count": 32,
   "metadata": {},
   "outputs": [
    {
     "name": "stdout",
     "output_type": "stream",
     "text": [
      "              precision    recall  f1-score   support\n",
      "\n",
      "           0       0.84      0.83      0.83       157\n",
      "           1       0.89      0.90      0.89       245\n",
      "\n",
      "    accuracy                           0.87       402\n",
      "   macro avg       0.86      0.86      0.86       402\n",
      "weighted avg       0.87      0.87      0.87       402\n",
      "\n"
     ]
    }
   ],
   "source": [
    "train_model(X_train_pca,X_test_pca)"
   ]
  },
  {
   "cell_type": "code",
   "execution_count": 69,
   "metadata": {},
   "outputs": [],
   "source": [
    "components = pca.components_"
   ]
  },
  {
   "cell_type": "code",
   "execution_count": 71,
   "metadata": {},
   "outputs": [
    {
     "data": {
      "text/plain": [
       "array([ 3.47149728e-04,  2.02993643e-06,  9.76283845e-05,  3.28579817e-06,\n",
       "        2.64211095e-05, -3.42637708e-07,  9.99999935e-01])"
      ]
     },
     "execution_count": 71,
     "metadata": {},
     "output_type": "execute_result"
    }
   ],
   "source": [
    "components[0]"
   ]
  },
  {
   "cell_type": "code",
   "execution_count": 72,
   "metadata": {},
   "outputs": [
    {
     "data": {
      "text/plain": [
       "Index(['age', 'sex', 'bmi', 'children', 'smoker', 'region', 'charges',\n",
       "       'insuranceclaim'],\n",
       "      dtype='object')"
      ]
     },
     "execution_count": 72,
     "metadata": {},
     "output_type": "execute_result"
    }
   ],
   "source": [
    "df.columns"
   ]
  },
  {
   "cell_type": "code",
   "execution_count": 73,
   "metadata": {},
   "outputs": [
    {
     "data": {
      "text/plain": [
       "array([-9.99306837e-01,  3.96547954e-04, -3.63219499e-02, -6.54221995e-04,\n",
       "        7.98074855e-03, -1.46982768e-03,  3.50245154e-04])"
      ]
     },
     "execution_count": 73,
     "metadata": {},
     "output_type": "execute_result"
    }
   ],
   "source": [
    "components[1]"
   ]
  },
  {
   "cell_type": "code",
   "execution_count": 74,
   "metadata": {},
   "outputs": [],
   "source": [
    "# web service\n",
    "# flask"
   ]
  },
  {
   "cell_type": "code",
   "execution_count": 75,
   "metadata": {},
   "outputs": [],
   "source": [
    "# porting you code"
   ]
  },
  {
   "cell_type": "code",
   "execution_count": 76,
   "metadata": {},
   "outputs": [],
   "source": [
    "# pip install sklearn-porter"
   ]
  },
  {
   "cell_type": "code",
   "execution_count": 77,
   "metadata": {},
   "outputs": [],
   "source": [
    "# https://github.com/nok/sklearn-porter"
   ]
  },
  {
   "cell_type": "code",
   "execution_count": 78,
   "metadata": {},
   "outputs": [],
   "source": [
    "from sklearn.tree import DecisionTreeClassifier"
   ]
  },
  {
   "cell_type": "code",
   "execution_count": 79,
   "metadata": {},
   "outputs": [],
   "source": [
    "dt = DecisionTreeClassifier()"
   ]
  },
  {
   "cell_type": "code",
   "execution_count": 81,
   "metadata": {},
   "outputs": [
    {
     "data": {
      "text/plain": [
       "DecisionTreeClassifier(class_weight=None, criterion='gini', max_depth=None,\n",
       "                       max_features=None, max_leaf_nodes=None,\n",
       "                       min_impurity_decrease=0.0, min_impurity_split=None,\n",
       "                       min_samples_leaf=1, min_samples_split=2,\n",
       "                       min_weight_fraction_leaf=0.0, presort=False,\n",
       "                       random_state=None, splitter='best')"
      ]
     },
     "execution_count": 81,
     "metadata": {},
     "output_type": "execute_result"
    }
   ],
   "source": [
    "dt.fit(X_train,y_train)"
   ]
  },
  {
   "cell_type": "code",
   "execution_count": 82,
   "metadata": {},
   "outputs": [],
   "source": [
    "from sklearn_porter import Porter\n"
   ]
  },
  {
   "cell_type": "code",
   "execution_count": 89,
   "metadata": {},
   "outputs": [],
   "source": [
    "porter = Porter(dt, language='php')\n",
    "output = porter.export(embed_data=True)"
   ]
  },
  {
   "cell_type": "code",
   "execution_count": 90,
   "metadata": {},
   "outputs": [
    {
     "name": "stdout",
     "output_type": "stream",
     "text": [
      "<?php\n",
      "\n",
      "class DecisionTreeClassifier {\n",
      "\n",
      "    public static function predict($atts) {\n",
      "        if (sizeof($atts) != 7) { return -1; }\n",
      "    \n",
      "        $classes = array_fill(0, 2, 0);\n",
      "            \n",
      "        if ($features[2] <= 25.982500076293945) {\n",
      "            if ($features[4] <= 0.5) {\n",
      "                if ($features[2] <= 17.639999389648438) {\n",
      "                    $classes[0] = 0; \n",
      "                    $classes[1] = 5; \n",
      "                } else {\n",
      "                    if ($features[2] <= 25.332499504089355) {\n",
      "                        $classes[0] = 144; \n",
      "                        $classes[1] = 0; \n",
      "                    } else {\n",
      "                        if ($features[3] <= 1.5) {\n",
      "                            $classes[0] = 21; \n",
      "                            $classes[1] = 0; \n",
      "                        } else {\n",
      "                            if ($features[6] <= 7467.06201171875) {\n",
      "                                $classes[0] = 2; \n",
      "                                $classes[1] = 0; \n",
      "                            } else {\n",
      "                                $classes[0] = 0; \n",
      "                                $classes[1] = 7; \n",
      "                            }\n",
      "                        }\n",
      "                    }\n",
      "                }\n",
      "            } else {\n",
      "                if ($features[3] <= 1.5) {\n",
      "                    $classes[0] = 0; \n",
      "                    $classes[1] = 24; \n",
      "                } else {\n",
      "                    if ($features[0] <= 41.0) {\n",
      "                        $classes[0] = 11; \n",
      "                        $classes[1] = 0; \n",
      "                    } else {\n",
      "                        $classes[0] = 0; \n",
      "                        $classes[1] = 9; \n",
      "                    }\n",
      "                }\n",
      "            }\n",
      "        } else {\n",
      "            if ($features[3] <= 0.5) {\n",
      "                $classes[0] = 0; \n",
      "                $classes[1] = 302; \n",
      "            } else {\n",
      "                if ($features[4] <= 0.5) {\n",
      "                    if ($features[3] <= 1.5) {\n",
      "                        if ($features[2] <= 29.975000381469727) {\n",
      "                            $classes[0] = 51; \n",
      "                            $classes[1] = 0; \n",
      "                        } else {\n",
      "                            if ($features[0] <= 38.5) {\n",
      "                                if ($features[2] <= 31.1274995803833) {\n",
      "                                    $classes[0] = 6; \n",
      "                                    $classes[1] = 0; \n",
      "                                } else {\n",
      "                                    if ($features[2] <= 35.307498931884766) {\n",
      "                                        $classes[0] = 0; \n",
      "                                        $classes[1] = 23; \n",
      "                                    } else {\n",
      "                                        if ($features[2] <= 40.09000015258789) {\n",
      "                                            $classes[0] = 10; \n",
      "                                            $classes[1] = 0; \n",
      "                                        } else {\n",
      "                                            $classes[0] = 0; \n",
      "                                            $classes[1] = 7; \n",
      "                                        }\n",
      "                                    }\n",
      "                                }\n",
      "                            } else {\n",
      "                                $classes[0] = 0; \n",
      "                                $classes[1] = 49; \n",
      "                            }\n",
      "                        }\n",
      "                    } else {\n",
      "                        if ($features[0] <= 40.5) {\n",
      "                            if ($features[2] <= 44.82500076293945) {\n",
      "                                $classes[0] = 95; \n",
      "                                $classes[1] = 0; \n",
      "                            } else {\n",
      "                                $classes[0] = 0; \n",
      "                                $classes[1] = 2; \n",
      "                            }\n",
      "                        } else {\n",
      "                            if ($features[2] <= 29.97249984741211) {\n",
      "                                $classes[0] = 0; \n",
      "                                $classes[1] = 20; \n",
      "                            } else {\n",
      "                                if ($features[2] <= 35.260000228881836) {\n",
      "                                    $classes[0] = 38; \n",
      "                                    $classes[1] = 0; \n",
      "                                } else {\n",
      "                                    if ($features[3] <= 2.5) {\n",
      "                                        if ($features[2] <= 39.73749923706055) {\n",
      "                                            $classes[0] = 0; \n",
      "                                            $classes[1] = 14; \n",
      "                                        } else {\n",
      "                                            $classes[0] = 1; \n",
      "                                            $classes[1] = 0; \n",
      "                                        }\n",
      "                                    } else {\n",
      "                                        if ($features[3] <= 4.5) {\n",
      "                                            $classes[0] = 13; \n",
      "                                            $classes[1] = 0; \n",
      "                                        } else {\n",
      "                                            $classes[0] = 0; \n",
      "                                            $classes[1] = 1; \n",
      "                                        }\n",
      "                                    }\n",
      "                                }\n",
      "                            }\n",
      "                        }\n",
      "                    }\n",
      "                } else {\n",
      "                    if ($features[6] <= 22939.953125) {\n",
      "                        if ($features[3] <= 1.5) {\n",
      "                            $classes[0] = 0; \n",
      "                            $classes[1] = 9; \n",
      "                        } else {\n",
      "                            $classes[0] = 6; \n",
      "                            $classes[1] = 0; \n",
      "                        }\n",
      "                    } else {\n",
      "                        $classes[0] = 0; \n",
      "                        $classes[1] = 66; \n",
      "                    }\n",
      "                }\n",
      "            }\n",
      "        }\n",
      "    \n",
      "        $class_idx = 0;\n",
      "        $class_val = $classes[0];\n",
      "    \n",
      "        for ($i = 1; $i < 2; $i++) {\n",
      "            if ($classes[$i] > $class_val) {\n",
      "                $class_idx = $i;\n",
      "                $class_val = $classes[$i];\n",
      "            }\n",
      "        }\n",
      "        return $class_idx;\n",
      "    }\n",
      "\n",
      "}\n",
      "\n",
      "if ($argc > 1) {\n",
      "    array_shift($argv);\n",
      "    $prediction = DecisionTreeClassifier::predict($argv);\n",
      "    fwrite(STDOUT, $prediction);\n",
      "}\n",
      "\n"
     ]
    }
   ],
   "source": [
    "print(output)"
   ]
  },
  {
   "cell_type": "code",
   "execution_count": null,
   "metadata": {},
   "outputs": [],
   "source": []
  }
 ],
 "metadata": {
  "kernelspec": {
   "display_name": "Python 3",
   "language": "python",
   "name": "python3"
  },
  "language_info": {
   "codemirror_mode": {
    "name": "ipython",
    "version": 3
   },
   "file_extension": ".py",
   "mimetype": "text/x-python",
   "name": "python",
   "nbconvert_exporter": "python",
   "pygments_lexer": "ipython3",
   "version": "3.7.4"
  }
 },
 "nbformat": 4,
 "nbformat_minor": 2
}
