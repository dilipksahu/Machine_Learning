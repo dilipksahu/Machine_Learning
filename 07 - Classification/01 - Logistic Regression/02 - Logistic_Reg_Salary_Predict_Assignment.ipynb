{
 "cells": [
  {
   "cell_type": "code",
   "execution_count": 1,
   "metadata": {},
   "outputs": [],
   "source": [
    "import numpy as np\n",
    "import pandas as pd\n",
    "import matplotlib.pyplot as plt\n",
    "import seaborn as sns\n",
    "sns.set()\n",
    "\n",
    "import warnings\n",
    "warnings.filterwarnings(\"ignore\")"
   ]
  },
  {
   "cell_type": "code",
   "execution_count": 2,
   "metadata": {},
   "outputs": [],
   "source": [
    "df = pd.read_csv(\"../../CSV/salary.csv\",index_col=0)"
   ]
  },
  {
   "cell_type": "code",
   "execution_count": 6,
   "metadata": {},
   "outputs": [
    {
     "data": {
      "text/html": [
       "<div>\n",
       "<style scoped>\n",
       "    .dataframe tbody tr th:only-of-type {\n",
       "        vertical-align: middle;\n",
       "    }\n",
       "\n",
       "    .dataframe tbody tr th {\n",
       "        vertical-align: top;\n",
       "    }\n",
       "\n",
       "    .dataframe thead th {\n",
       "        text-align: right;\n",
       "    }\n",
       "</style>\n",
       "<table border=\"1\" class=\"dataframe\">\n",
       "  <thead>\n",
       "    <tr style=\"text-align: right;\">\n",
       "      <th></th>\n",
       "      <th>age</th>\n",
       "      <th>Workclass</th>\n",
       "      <th>fnlwgt</th>\n",
       "      <th>education</th>\n",
       "      <th>education-num</th>\n",
       "      <th>marital-status</th>\n",
       "      <th>occupation</th>\n",
       "      <th>relationship</th>\n",
       "      <th>race</th>\n",
       "      <th>sex</th>\n",
       "      <th>capital-gain</th>\n",
       "      <th>capital-loss</th>\n",
       "      <th>hours-per-week</th>\n",
       "      <th>native-country</th>\n",
       "      <th>Income</th>\n",
       "    </tr>\n",
       "  </thead>\n",
       "  <tbody>\n",
       "    <tr>\n",
       "      <td>0</td>\n",
       "      <td>39</td>\n",
       "      <td>State-gov</td>\n",
       "      <td>77516</td>\n",
       "      <td>Bachelors</td>\n",
       "      <td>13</td>\n",
       "      <td>Never-married</td>\n",
       "      <td>Adm-clerical</td>\n",
       "      <td>Not-in-family</td>\n",
       "      <td>White</td>\n",
       "      <td>Male</td>\n",
       "      <td>2174</td>\n",
       "      <td>0</td>\n",
       "      <td>40</td>\n",
       "      <td>United-States</td>\n",
       "      <td>0</td>\n",
       "    </tr>\n",
       "    <tr>\n",
       "      <td>1</td>\n",
       "      <td>50</td>\n",
       "      <td>Self-emp-not-inc</td>\n",
       "      <td>83311</td>\n",
       "      <td>Bachelors</td>\n",
       "      <td>13</td>\n",
       "      <td>Married-civ-spouse</td>\n",
       "      <td>Exec-managerial</td>\n",
       "      <td>Husband</td>\n",
       "      <td>White</td>\n",
       "      <td>Male</td>\n",
       "      <td>0</td>\n",
       "      <td>0</td>\n",
       "      <td>13</td>\n",
       "      <td>United-States</td>\n",
       "      <td>0</td>\n",
       "    </tr>\n",
       "    <tr>\n",
       "      <td>2</td>\n",
       "      <td>38</td>\n",
       "      <td>Private</td>\n",
       "      <td>215646</td>\n",
       "      <td>HS-grad</td>\n",
       "      <td>9</td>\n",
       "      <td>Divorced</td>\n",
       "      <td>Handlers-cleaners</td>\n",
       "      <td>Not-in-family</td>\n",
       "      <td>White</td>\n",
       "      <td>Male</td>\n",
       "      <td>0</td>\n",
       "      <td>0</td>\n",
       "      <td>40</td>\n",
       "      <td>United-States</td>\n",
       "      <td>0</td>\n",
       "    </tr>\n",
       "    <tr>\n",
       "      <td>3</td>\n",
       "      <td>53</td>\n",
       "      <td>Private</td>\n",
       "      <td>234721</td>\n",
       "      <td>11th</td>\n",
       "      <td>7</td>\n",
       "      <td>Married-civ-spouse</td>\n",
       "      <td>Handlers-cleaners</td>\n",
       "      <td>Husband</td>\n",
       "      <td>Black</td>\n",
       "      <td>Male</td>\n",
       "      <td>0</td>\n",
       "      <td>0</td>\n",
       "      <td>40</td>\n",
       "      <td>United-States</td>\n",
       "      <td>0</td>\n",
       "    </tr>\n",
       "    <tr>\n",
       "      <td>4</td>\n",
       "      <td>28</td>\n",
       "      <td>Private</td>\n",
       "      <td>338409</td>\n",
       "      <td>Bachelors</td>\n",
       "      <td>13</td>\n",
       "      <td>Married-civ-spouse</td>\n",
       "      <td>Prof-specialty</td>\n",
       "      <td>Wife</td>\n",
       "      <td>Black</td>\n",
       "      <td>Female</td>\n",
       "      <td>0</td>\n",
       "      <td>0</td>\n",
       "      <td>40</td>\n",
       "      <td>Cuba</td>\n",
       "      <td>0</td>\n",
       "    </tr>\n",
       "  </tbody>\n",
       "</table>\n",
       "</div>"
      ],
      "text/plain": [
       "   age          Workclass  fnlwgt   education  education-num  \\\n",
       "0   39          State-gov   77516   Bachelors             13   \n",
       "1   50   Self-emp-not-inc   83311   Bachelors             13   \n",
       "2   38            Private  215646     HS-grad              9   \n",
       "3   53            Private  234721        11th              7   \n",
       "4   28            Private  338409   Bachelors             13   \n",
       "\n",
       "        marital-status          occupation    relationship    race      sex  \\\n",
       "0        Never-married        Adm-clerical   Not-in-family   White     Male   \n",
       "1   Married-civ-spouse     Exec-managerial         Husband   White     Male   \n",
       "2             Divorced   Handlers-cleaners   Not-in-family   White     Male   \n",
       "3   Married-civ-spouse   Handlers-cleaners         Husband   Black     Male   \n",
       "4   Married-civ-spouse      Prof-specialty            Wife   Black   Female   \n",
       "\n",
       "   capital-gain  capital-loss  hours-per-week  native-country  Income  \n",
       "0          2174             0              40   United-States       0  \n",
       "1             0             0              13   United-States       0  \n",
       "2             0             0              40   United-States       0  \n",
       "3             0             0              40   United-States       0  \n",
       "4             0             0              40            Cuba       0  "
      ]
     },
     "execution_count": 6,
     "metadata": {},
     "output_type": "execute_result"
    }
   ],
   "source": [
    "df.head()"
   ]
  },
  {
   "cell_type": "code",
   "execution_count": 7,
   "metadata": {},
   "outputs": [
    {
     "data": {
      "text/html": [
       "<div>\n",
       "<style scoped>\n",
       "    .dataframe tbody tr th:only-of-type {\n",
       "        vertical-align: middle;\n",
       "    }\n",
       "\n",
       "    .dataframe tbody tr th {\n",
       "        vertical-align: top;\n",
       "    }\n",
       "\n",
       "    .dataframe thead th {\n",
       "        text-align: right;\n",
       "    }\n",
       "</style>\n",
       "<table border=\"1\" class=\"dataframe\">\n",
       "  <thead>\n",
       "    <tr style=\"text-align: right;\">\n",
       "      <th></th>\n",
       "      <th>age</th>\n",
       "      <th>Workclass</th>\n",
       "      <th>fnlwgt</th>\n",
       "      <th>education</th>\n",
       "      <th>education-num</th>\n",
       "      <th>marital-status</th>\n",
       "      <th>occupation</th>\n",
       "      <th>relationship</th>\n",
       "      <th>race</th>\n",
       "      <th>sex</th>\n",
       "      <th>capital-gain</th>\n",
       "      <th>capital-loss</th>\n",
       "      <th>hours-per-week</th>\n",
       "      <th>native-country</th>\n",
       "      <th>Income</th>\n",
       "    </tr>\n",
       "  </thead>\n",
       "  <tbody>\n",
       "    <tr>\n",
       "      <td>count</td>\n",
       "      <td>1032.000000</td>\n",
       "      <td>1032</td>\n",
       "      <td>1.032000e+03</td>\n",
       "      <td>1032</td>\n",
       "      <td>1032.000000</td>\n",
       "      <td>1032</td>\n",
       "      <td>1032</td>\n",
       "      <td>1032</td>\n",
       "      <td>1032</td>\n",
       "      <td>1032</td>\n",
       "      <td>1032.00000</td>\n",
       "      <td>1032.000000</td>\n",
       "      <td>1032.000000</td>\n",
       "      <td>1032</td>\n",
       "      <td>1032.000000</td>\n",
       "    </tr>\n",
       "    <tr>\n",
       "      <td>unique</td>\n",
       "      <td>NaN</td>\n",
       "      <td>6</td>\n",
       "      <td>NaN</td>\n",
       "      <td>16</td>\n",
       "      <td>NaN</td>\n",
       "      <td>7</td>\n",
       "      <td>14</td>\n",
       "      <td>6</td>\n",
       "      <td>5</td>\n",
       "      <td>2</td>\n",
       "      <td>NaN</td>\n",
       "      <td>NaN</td>\n",
       "      <td>NaN</td>\n",
       "      <td>30</td>\n",
       "      <td>NaN</td>\n",
       "    </tr>\n",
       "    <tr>\n",
       "      <td>top</td>\n",
       "      <td>NaN</td>\n",
       "      <td>Private</td>\n",
       "      <td>NaN</td>\n",
       "      <td>HS-grad</td>\n",
       "      <td>NaN</td>\n",
       "      <td>Married-civ-spouse</td>\n",
       "      <td>Prof-specialty</td>\n",
       "      <td>Husband</td>\n",
       "      <td>White</td>\n",
       "      <td>Male</td>\n",
       "      <td>NaN</td>\n",
       "      <td>NaN</td>\n",
       "      <td>NaN</td>\n",
       "      <td>United-States</td>\n",
       "      <td>NaN</td>\n",
       "    </tr>\n",
       "    <tr>\n",
       "      <td>freq</td>\n",
       "      <td>NaN</td>\n",
       "      <td>766</td>\n",
       "      <td>NaN</td>\n",
       "      <td>338</td>\n",
       "      <td>NaN</td>\n",
       "      <td>472</td>\n",
       "      <td>143</td>\n",
       "      <td>401</td>\n",
       "      <td>886</td>\n",
       "      <td>701</td>\n",
       "      <td>NaN</td>\n",
       "      <td>NaN</td>\n",
       "      <td>NaN</td>\n",
       "      <td>943</td>\n",
       "      <td>NaN</td>\n",
       "    </tr>\n",
       "    <tr>\n",
       "      <td>mean</td>\n",
       "      <td>37.954457</td>\n",
       "      <td>NaN</td>\n",
       "      <td>1.918318e+05</td>\n",
       "      <td>NaN</td>\n",
       "      <td>10.221899</td>\n",
       "      <td>NaN</td>\n",
       "      <td>NaN</td>\n",
       "      <td>NaN</td>\n",
       "      <td>NaN</td>\n",
       "      <td>NaN</td>\n",
       "      <td>560.19186</td>\n",
       "      <td>102.870155</td>\n",
       "      <td>40.706395</td>\n",
       "      <td>NaN</td>\n",
       "      <td>0.246124</td>\n",
       "    </tr>\n",
       "    <tr>\n",
       "      <td>std</td>\n",
       "      <td>12.825353</td>\n",
       "      <td>NaN</td>\n",
       "      <td>1.074243e+05</td>\n",
       "      <td>NaN</td>\n",
       "      <td>2.501636</td>\n",
       "      <td>NaN</td>\n",
       "      <td>NaN</td>\n",
       "      <td>NaN</td>\n",
       "      <td>NaN</td>\n",
       "      <td>NaN</td>\n",
       "      <td>2406.47961</td>\n",
       "      <td>432.251488</td>\n",
       "      <td>11.736603</td>\n",
       "      <td>NaN</td>\n",
       "      <td>0.430961</td>\n",
       "    </tr>\n",
       "    <tr>\n",
       "      <td>min</td>\n",
       "      <td>17.000000</td>\n",
       "      <td>NaN</td>\n",
       "      <td>2.117400e+04</td>\n",
       "      <td>NaN</td>\n",
       "      <td>1.000000</td>\n",
       "      <td>NaN</td>\n",
       "      <td>NaN</td>\n",
       "      <td>NaN</td>\n",
       "      <td>NaN</td>\n",
       "      <td>NaN</td>\n",
       "      <td>0.00000</td>\n",
       "      <td>0.000000</td>\n",
       "      <td>1.000000</td>\n",
       "      <td>NaN</td>\n",
       "      <td>0.000000</td>\n",
       "    </tr>\n",
       "    <tr>\n",
       "      <td>25%</td>\n",
       "      <td>28.000000</td>\n",
       "      <td>NaN</td>\n",
       "      <td>1.155792e+05</td>\n",
       "      <td>NaN</td>\n",
       "      <td>9.000000</td>\n",
       "      <td>NaN</td>\n",
       "      <td>NaN</td>\n",
       "      <td>NaN</td>\n",
       "      <td>NaN</td>\n",
       "      <td>NaN</td>\n",
       "      <td>0.00000</td>\n",
       "      <td>0.000000</td>\n",
       "      <td>40.000000</td>\n",
       "      <td>NaN</td>\n",
       "      <td>0.000000</td>\n",
       "    </tr>\n",
       "    <tr>\n",
       "      <td>50%</td>\n",
       "      <td>37.000000</td>\n",
       "      <td>NaN</td>\n",
       "      <td>1.807065e+05</td>\n",
       "      <td>NaN</td>\n",
       "      <td>10.000000</td>\n",
       "      <td>NaN</td>\n",
       "      <td>NaN</td>\n",
       "      <td>NaN</td>\n",
       "      <td>NaN</td>\n",
       "      <td>NaN</td>\n",
       "      <td>0.00000</td>\n",
       "      <td>0.000000</td>\n",
       "      <td>40.000000</td>\n",
       "      <td>NaN</td>\n",
       "      <td>0.000000</td>\n",
       "    </tr>\n",
       "    <tr>\n",
       "      <td>75%</td>\n",
       "      <td>46.000000</td>\n",
       "      <td>NaN</td>\n",
       "      <td>2.461932e+05</td>\n",
       "      <td>NaN</td>\n",
       "      <td>13.000000</td>\n",
       "      <td>NaN</td>\n",
       "      <td>NaN</td>\n",
       "      <td>NaN</td>\n",
       "      <td>NaN</td>\n",
       "      <td>NaN</td>\n",
       "      <td>0.00000</td>\n",
       "      <td>0.000000</td>\n",
       "      <td>45.000000</td>\n",
       "      <td>NaN</td>\n",
       "      <td>0.000000</td>\n",
       "    </tr>\n",
       "    <tr>\n",
       "      <td>max</td>\n",
       "      <td>90.000000</td>\n",
       "      <td>NaN</td>\n",
       "      <td>1.033222e+06</td>\n",
       "      <td>NaN</td>\n",
       "      <td>16.000000</td>\n",
       "      <td>NaN</td>\n",
       "      <td>NaN</td>\n",
       "      <td>NaN</td>\n",
       "      <td>NaN</td>\n",
       "      <td>NaN</td>\n",
       "      <td>25236.00000</td>\n",
       "      <td>2415.000000</td>\n",
       "      <td>99.000000</td>\n",
       "      <td>NaN</td>\n",
       "      <td>1.000000</td>\n",
       "    </tr>\n",
       "  </tbody>\n",
       "</table>\n",
       "</div>"
      ],
      "text/plain": [
       "                age Workclass        fnlwgt education  education-num  \\\n",
       "count   1032.000000      1032  1.032000e+03      1032    1032.000000   \n",
       "unique          NaN         6           NaN        16            NaN   \n",
       "top             NaN   Private           NaN   HS-grad            NaN   \n",
       "freq            NaN       766           NaN       338            NaN   \n",
       "mean      37.954457       NaN  1.918318e+05       NaN      10.221899   \n",
       "std       12.825353       NaN  1.074243e+05       NaN       2.501636   \n",
       "min       17.000000       NaN  2.117400e+04       NaN       1.000000   \n",
       "25%       28.000000       NaN  1.155792e+05       NaN       9.000000   \n",
       "50%       37.000000       NaN  1.807065e+05       NaN      10.000000   \n",
       "75%       46.000000       NaN  2.461932e+05       NaN      13.000000   \n",
       "max       90.000000       NaN  1.033222e+06       NaN      16.000000   \n",
       "\n",
       "             marital-status       occupation relationship    race    sex  \\\n",
       "count                  1032             1032         1032    1032   1032   \n",
       "unique                    7               14            6       5      2   \n",
       "top      Married-civ-spouse   Prof-specialty      Husband   White   Male   \n",
       "freq                    472              143          401     886    701   \n",
       "mean                    NaN              NaN          NaN     NaN    NaN   \n",
       "std                     NaN              NaN          NaN     NaN    NaN   \n",
       "min                     NaN              NaN          NaN     NaN    NaN   \n",
       "25%                     NaN              NaN          NaN     NaN    NaN   \n",
       "50%                     NaN              NaN          NaN     NaN    NaN   \n",
       "75%                     NaN              NaN          NaN     NaN    NaN   \n",
       "max                     NaN              NaN          NaN     NaN    NaN   \n",
       "\n",
       "        capital-gain  capital-loss  hours-per-week  native-country  \\\n",
       "count     1032.00000   1032.000000     1032.000000            1032   \n",
       "unique           NaN           NaN             NaN              30   \n",
       "top              NaN           NaN             NaN   United-States   \n",
       "freq             NaN           NaN             NaN             943   \n",
       "mean       560.19186    102.870155       40.706395             NaN   \n",
       "std       2406.47961    432.251488       11.736603             NaN   \n",
       "min          0.00000      0.000000        1.000000             NaN   \n",
       "25%          0.00000      0.000000       40.000000             NaN   \n",
       "50%          0.00000      0.000000       40.000000             NaN   \n",
       "75%          0.00000      0.000000       45.000000             NaN   \n",
       "max      25236.00000   2415.000000       99.000000             NaN   \n",
       "\n",
       "             Income  \n",
       "count   1032.000000  \n",
       "unique          NaN  \n",
       "top             NaN  \n",
       "freq            NaN  \n",
       "mean       0.246124  \n",
       "std        0.430961  \n",
       "min        0.000000  \n",
       "25%        0.000000  \n",
       "50%        0.000000  \n",
       "75%        0.000000  \n",
       "max        1.000000  "
      ]
     },
     "execution_count": 7,
     "metadata": {},
     "output_type": "execute_result"
    }
   ],
   "source": [
    "df.describe(include=\"all\")"
   ]
  },
  {
   "cell_type": "code",
   "execution_count": 8,
   "metadata": {},
   "outputs": [
    {
     "name": "stdout",
     "output_type": "stream",
     "text": [
      "<class 'pandas.core.frame.DataFrame'>\n",
      "Int64Index: 1032 entries, 0 to 1119\n",
      "Data columns (total 15 columns):\n",
      "age               1032 non-null int64\n",
      "Workclass         1032 non-null object\n",
      "fnlwgt            1032 non-null int64\n",
      "education         1032 non-null object\n",
      "education-num     1032 non-null int64\n",
      "marital-status    1032 non-null object\n",
      "occupation        1032 non-null object\n",
      "relationship      1032 non-null object\n",
      "race              1032 non-null object\n",
      "sex               1032 non-null object\n",
      "capital-gain      1032 non-null int64\n",
      "capital-loss      1032 non-null int64\n",
      "hours-per-week    1032 non-null int64\n",
      "native-country    1032 non-null object\n",
      "Income            1032 non-null int64\n",
      "dtypes: int64(7), object(8)\n",
      "memory usage: 129.0+ KB\n"
     ]
    }
   ],
   "source": [
    "df.info()"
   ]
  },
  {
   "cell_type": "code",
   "execution_count": 9,
   "metadata": {},
   "outputs": [
    {
     "data": {
      "text/plain": [
       "age               0\n",
       "Workclass         0\n",
       "fnlwgt            0\n",
       "education         0\n",
       "education-num     0\n",
       "marital-status    0\n",
       "occupation        0\n",
       "relationship      0\n",
       "race              0\n",
       "sex               0\n",
       "capital-gain      0\n",
       "capital-loss      0\n",
       "hours-per-week    0\n",
       "native-country    0\n",
       "Income            0\n",
       "dtype: int64"
      ]
     },
     "execution_count": 9,
     "metadata": {},
     "output_type": "execute_result"
    }
   ],
   "source": [
    "df.isnull().sum()"
   ]
  },
  {
   "cell_type": "code",
   "execution_count": 13,
   "metadata": {},
   "outputs": [
    {
     "data": {
      "text/plain": [
       "0    778\n",
       "1    254\n",
       "Name: Income, dtype: int64"
      ]
     },
     "execution_count": 13,
     "metadata": {},
     "output_type": "execute_result"
    }
   ],
   "source": [
    "df[\"Income\"].value_counts()"
   ]
  },
  {
   "cell_type": "code",
   "execution_count": 9,
   "metadata": {},
   "outputs": [],
   "source": [
    "cat_df = df.select_dtypes(\"object\")\n",
    "num_df = df.select_dtypes(\"int64\")"
   ]
  },
  {
   "cell_type": "code",
   "execution_count": 11,
   "metadata": {},
   "outputs": [],
   "source": [
    "from sklearn.preprocessing import LabelEncoder"
   ]
  },
  {
   "cell_type": "code",
   "execution_count": 13,
   "metadata": {},
   "outputs": [],
   "source": [
    "for col in cat_df:\n",
    "    le = LabelEncoder()\n",
    "    cat_df[col] = le.fit_transform(cat_df[col])"
   ]
  },
  {
   "cell_type": "code",
   "execution_count": 15,
   "metadata": {},
   "outputs": [
    {
     "data": {
      "text/html": [
       "<div>\n",
       "<style scoped>\n",
       "    .dataframe tbody tr th:only-of-type {\n",
       "        vertical-align: middle;\n",
       "    }\n",
       "\n",
       "    .dataframe tbody tr th {\n",
       "        vertical-align: top;\n",
       "    }\n",
       "\n",
       "    .dataframe thead th {\n",
       "        text-align: right;\n",
       "    }\n",
       "</style>\n",
       "<table border=\"1\" class=\"dataframe\">\n",
       "  <thead>\n",
       "    <tr style=\"text-align: right;\">\n",
       "      <th></th>\n",
       "      <th>Workclass</th>\n",
       "      <th>education</th>\n",
       "      <th>marital-status</th>\n",
       "      <th>occupation</th>\n",
       "      <th>relationship</th>\n",
       "      <th>race</th>\n",
       "      <th>sex</th>\n",
       "      <th>native-country</th>\n",
       "    </tr>\n",
       "  </thead>\n",
       "  <tbody>\n",
       "    <tr>\n",
       "      <td>0</td>\n",
       "      <td>5</td>\n",
       "      <td>9</td>\n",
       "      <td>4</td>\n",
       "      <td>0</td>\n",
       "      <td>1</td>\n",
       "      <td>4</td>\n",
       "      <td>1</td>\n",
       "      <td>28</td>\n",
       "    </tr>\n",
       "    <tr>\n",
       "      <td>1</td>\n",
       "      <td>4</td>\n",
       "      <td>9</td>\n",
       "      <td>2</td>\n",
       "      <td>3</td>\n",
       "      <td>0</td>\n",
       "      <td>4</td>\n",
       "      <td>1</td>\n",
       "      <td>28</td>\n",
       "    </tr>\n",
       "    <tr>\n",
       "      <td>2</td>\n",
       "      <td>2</td>\n",
       "      <td>11</td>\n",
       "      <td>0</td>\n",
       "      <td>5</td>\n",
       "      <td>1</td>\n",
       "      <td>4</td>\n",
       "      <td>1</td>\n",
       "      <td>28</td>\n",
       "    </tr>\n",
       "    <tr>\n",
       "      <td>3</td>\n",
       "      <td>2</td>\n",
       "      <td>1</td>\n",
       "      <td>2</td>\n",
       "      <td>5</td>\n",
       "      <td>0</td>\n",
       "      <td>2</td>\n",
       "      <td>1</td>\n",
       "      <td>28</td>\n",
       "    </tr>\n",
       "    <tr>\n",
       "      <td>4</td>\n",
       "      <td>2</td>\n",
       "      <td>9</td>\n",
       "      <td>2</td>\n",
       "      <td>9</td>\n",
       "      <td>5</td>\n",
       "      <td>2</td>\n",
       "      <td>0</td>\n",
       "      <td>4</td>\n",
       "    </tr>\n",
       "  </tbody>\n",
       "</table>\n",
       "</div>"
      ],
      "text/plain": [
       "   Workclass  education  marital-status  occupation  relationship  race  sex  \\\n",
       "0          5          9               4           0             1     4    1   \n",
       "1          4          9               2           3             0     4    1   \n",
       "2          2         11               0           5             1     4    1   \n",
       "3          2          1               2           5             0     2    1   \n",
       "4          2          9               2           9             5     2    0   \n",
       "\n",
       "   native-country  \n",
       "0              28  \n",
       "1              28  \n",
       "2              28  \n",
       "3              28  \n",
       "4               4  "
      ]
     },
     "execution_count": 15,
     "metadata": {},
     "output_type": "execute_result"
    }
   ],
   "source": [
    "cat_df.head()"
   ]
  },
  {
   "cell_type": "code",
   "execution_count": 22,
   "metadata": {},
   "outputs": [],
   "source": [
    "df = pd.concat([cat_df,num_df],axis=1)"
   ]
  },
  {
   "cell_type": "code",
   "execution_count": 23,
   "metadata": {},
   "outputs": [
    {
     "data": {
      "text/html": [
       "<div>\n",
       "<style scoped>\n",
       "    .dataframe tbody tr th:only-of-type {\n",
       "        vertical-align: middle;\n",
       "    }\n",
       "\n",
       "    .dataframe tbody tr th {\n",
       "        vertical-align: top;\n",
       "    }\n",
       "\n",
       "    .dataframe thead th {\n",
       "        text-align: right;\n",
       "    }\n",
       "</style>\n",
       "<table border=\"1\" class=\"dataframe\">\n",
       "  <thead>\n",
       "    <tr style=\"text-align: right;\">\n",
       "      <th></th>\n",
       "      <th>Workclass</th>\n",
       "      <th>education</th>\n",
       "      <th>marital-status</th>\n",
       "      <th>occupation</th>\n",
       "      <th>relationship</th>\n",
       "      <th>race</th>\n",
       "      <th>sex</th>\n",
       "      <th>native-country</th>\n",
       "      <th>age</th>\n",
       "      <th>fnlwgt</th>\n",
       "      <th>education-num</th>\n",
       "      <th>capital-gain</th>\n",
       "      <th>capital-loss</th>\n",
       "      <th>hours-per-week</th>\n",
       "      <th>Income</th>\n",
       "    </tr>\n",
       "  </thead>\n",
       "  <tbody>\n",
       "    <tr>\n",
       "      <td>0</td>\n",
       "      <td>5</td>\n",
       "      <td>9</td>\n",
       "      <td>4</td>\n",
       "      <td>0</td>\n",
       "      <td>1</td>\n",
       "      <td>4</td>\n",
       "      <td>1</td>\n",
       "      <td>28</td>\n",
       "      <td>39</td>\n",
       "      <td>77516</td>\n",
       "      <td>13</td>\n",
       "      <td>2174</td>\n",
       "      <td>0</td>\n",
       "      <td>40</td>\n",
       "      <td>0</td>\n",
       "    </tr>\n",
       "    <tr>\n",
       "      <td>1</td>\n",
       "      <td>4</td>\n",
       "      <td>9</td>\n",
       "      <td>2</td>\n",
       "      <td>3</td>\n",
       "      <td>0</td>\n",
       "      <td>4</td>\n",
       "      <td>1</td>\n",
       "      <td>28</td>\n",
       "      <td>50</td>\n",
       "      <td>83311</td>\n",
       "      <td>13</td>\n",
       "      <td>0</td>\n",
       "      <td>0</td>\n",
       "      <td>13</td>\n",
       "      <td>0</td>\n",
       "    </tr>\n",
       "    <tr>\n",
       "      <td>2</td>\n",
       "      <td>2</td>\n",
       "      <td>11</td>\n",
       "      <td>0</td>\n",
       "      <td>5</td>\n",
       "      <td>1</td>\n",
       "      <td>4</td>\n",
       "      <td>1</td>\n",
       "      <td>28</td>\n",
       "      <td>38</td>\n",
       "      <td>215646</td>\n",
       "      <td>9</td>\n",
       "      <td>0</td>\n",
       "      <td>0</td>\n",
       "      <td>40</td>\n",
       "      <td>0</td>\n",
       "    </tr>\n",
       "    <tr>\n",
       "      <td>3</td>\n",
       "      <td>2</td>\n",
       "      <td>1</td>\n",
       "      <td>2</td>\n",
       "      <td>5</td>\n",
       "      <td>0</td>\n",
       "      <td>2</td>\n",
       "      <td>1</td>\n",
       "      <td>28</td>\n",
       "      <td>53</td>\n",
       "      <td>234721</td>\n",
       "      <td>7</td>\n",
       "      <td>0</td>\n",
       "      <td>0</td>\n",
       "      <td>40</td>\n",
       "      <td>0</td>\n",
       "    </tr>\n",
       "    <tr>\n",
       "      <td>4</td>\n",
       "      <td>2</td>\n",
       "      <td>9</td>\n",
       "      <td>2</td>\n",
       "      <td>9</td>\n",
       "      <td>5</td>\n",
       "      <td>2</td>\n",
       "      <td>0</td>\n",
       "      <td>4</td>\n",
       "      <td>28</td>\n",
       "      <td>338409</td>\n",
       "      <td>13</td>\n",
       "      <td>0</td>\n",
       "      <td>0</td>\n",
       "      <td>40</td>\n",
       "      <td>0</td>\n",
       "    </tr>\n",
       "  </tbody>\n",
       "</table>\n",
       "</div>"
      ],
      "text/plain": [
       "   Workclass  education  marital-status  occupation  relationship  race  sex  \\\n",
       "0          5          9               4           0             1     4    1   \n",
       "1          4          9               2           3             0     4    1   \n",
       "2          2         11               0           5             1     4    1   \n",
       "3          2          1               2           5             0     2    1   \n",
       "4          2          9               2           9             5     2    0   \n",
       "\n",
       "   native-country  age  fnlwgt  education-num  capital-gain  capital-loss  \\\n",
       "0              28   39   77516             13          2174             0   \n",
       "1              28   50   83311             13             0             0   \n",
       "2              28   38  215646              9             0             0   \n",
       "3              28   53  234721              7             0             0   \n",
       "4               4   28  338409             13             0             0   \n",
       "\n",
       "   hours-per-week  Income  \n",
       "0              40       0  \n",
       "1              13       0  \n",
       "2              40       0  \n",
       "3              40       0  \n",
       "4              40       0  "
      ]
     },
     "execution_count": 23,
     "metadata": {},
     "output_type": "execute_result"
    }
   ],
   "source": [
    "df.head()"
   ]
  },
  {
   "cell_type": "markdown",
   "metadata": {},
   "source": [
    "### EDA"
   ]
  },
  {
   "cell_type": "code",
   "execution_count": 24,
   "metadata": {},
   "outputs": [],
   "source": [
    "cat_col = (\"Workclass,education,marital-status,occupation,relationship,race,sex,native-country\").split(\",\")"
   ]
  },
  {
   "cell_type": "code",
   "execution_count": 25,
   "metadata": {},
   "outputs": [
    {
     "data": {
      "text/plain": [
       "['Workclass',\n",
       " 'education',\n",
       " 'marital-status',\n",
       " 'occupation',\n",
       " 'relationship',\n",
       " 'race',\n",
       " 'sex',\n",
       " 'native-country']"
      ]
     },
     "execution_count": 25,
     "metadata": {},
     "output_type": "execute_result"
    }
   ],
   "source": [
    "cat_col"
   ]
  },
  {
   "cell_type": "code",
   "execution_count": 26,
   "metadata": {},
   "outputs": [
    {
     "data": {
      "image/png": "[encoded data removed]",
      "text/plain": [
       "<Figure size 1440x432 with 1 Axes>"
      ]
     },
     "metadata": {
      "needs_background": "light"
     },
     "output_type": "display_data"
    },
    {
     "name": "stdout",
     "output_type": "stream",
     "text": [
      "------------------------------------------------------------------------\n"
     ]
    },
    {
     "data": {
      "image/png": "[encoded data removed]",
      "text/plain": [
       "<Figure size 1440x432 with 1 Axes>"
      ]
     },
     "metadata": {
      "needs_background": "light"
     },
     "output_type": "display_data"
    },
    {
     "name": "stdout",
     "output_type": "stream",
     "text": [
      "------------------------------------------------------------------------\n"
     ]
    },
    {
     "data": {
      "image/png": "[encoded data removed]",
      "text/plain": [
       "<Figure size 1440x432 with 1 Axes>"
      ]
     },
     "metadata": {
      "needs_background": "light"
     },
     "output_type": "display_data"
    },
    {
     "name": "stdout",
     "output_type": "stream",
     "text": [
      "------------------------------------------------------------------------\n"
     ]
    },
    {
     "data": {
      "image/png": "[encoded data removed]",
      "text/plain": [
       "<Figure size 1440x432 with 1 Axes>"
      ]
     },
     "metadata": {
      "needs_background": "light"
     },
     "output_type": "display_data"
    },
    {
     "name": "stdout",
     "output_type": "stream",
     "text": [
      "------------------------------------------------------------------------\n"
     ]
    },
    {
     "data": {
      "image/png": "[encoded data removed]",
      "text/plain": [
       "<Figure size 1440x432 with 1 Axes>"
      ]
     },
     "metadata": {
      "needs_background": "light"
     },
     "output_type": "display_data"
    },
    {
     "name": "stdout",
     "output_type": "stream",
     "text": [
      "------------------------------------------------------------------------\n"
     ]
    },
    {
     "data": {
      "image/png": "[encoded data removed]",
      "text/plain": [
       "<Figure size 1440x432 with 1 Axes>"
      ]
     },
     "metadata": {
      "needs_background": "light"
     },
     "output_type": "display_data"
    },
    {
     "name": "stdout",
     "output_type": "stream",
     "text": [
      "------------------------------------------------------------------------\n"
     ]
    },
    {
     "data": {
      "image/png": "[encoded data removed]",
      "text/plain": [
       "<Figure size 1440x432 with 1 Axes>"
      ]
     },
     "metadata": {
      "needs_background": "light"
     },
     "output_type": "display_data"
    },
    {
     "name": "stdout",
     "output_type": "stream",
     "text": [
      "------------------------------------------------------------------------\n"
     ]
    },
    {
     "data": {
      "image/png": "[encoded data removed]",
      "text/plain": [
       "<Figure size 1440x432 with 1 Axes>"
      ]
     },
     "metadata": {
      "needs_background": "light"
     },
     "output_type": "display_data"
    },
    {
     "name": "stdout",
     "output_type": "stream",
     "text": [
      "------------------------------------------------------------------------\n"
     ]
    }
   ],
   "source": [
    "for col in cat_col:\n",
    "    plt.figure(figsize=(20,6))\n",
    "    sns.countplot(data=df,x=col,hue=\"Income\")\n",
    "    plt.show()\n",
    "    print(\"------------------------------------------------------------------------\")"
   ]
  },
  {
   "cell_type": "code",
   "execution_count": 27,
   "metadata": {},
   "outputs": [],
   "source": [
    "num_col = (\"age,fnlwgt,education-num,capital-gain,capital-loss,hours-per-week\").split(\",\")"
   ]
  },
  {
   "cell_type": "code",
   "execution_count": 28,
   "metadata": {},
   "outputs": [
    {
     "data": {
      "image/png": "[encoded data removed]",
      "text/plain": [
       "<Figure size 432x288 with 1 Axes>"
      ]
     },
     "metadata": {
      "needs_background": "light"
     },
     "output_type": "display_data"
    },
    {
     "name": "stdout",
     "output_type": "stream",
     "text": [
      "-------------------------------------------------------------------------------\n"
     ]
    },
    {
     "data": {
      "image/png": "[encoded data removed]",
      "text/plain": [
       "<Figure size 432x288 with 1 Axes>"
      ]
     },
     "metadata": {
      "needs_background": "light"
     },
     "output_type": "display_data"
    },
    {
     "name": "stdout",
     "output_type": "stream",
     "text": [
      "-------------------------------------------------------------------------------\n"
     ]
    },
    {
     "data": {
      "image/png": "[encoded data removed]",
      "text/plain": [
       "<Figure size 432x288 with 1 Axes>"
      ]
     },
     "metadata": {
      "needs_background": "light"
     },
     "output_type": "display_data"
    },
    {
     "name": "stdout",
     "output_type": "stream",
     "text": [
      "-------------------------------------------------------------------------------\n"
     ]
    },
    {
     "data": {
      "image/png": "[encoded data removed]",
      "text/plain": [
       "<Figure size 432x288 with 1 Axes>"
      ]
     },
     "metadata": {
      "needs_background": "light"
     },
     "output_type": "display_data"
    },
    {
     "name": "stdout",
     "output_type": "stream",
     "text": [
      "-------------------------------------------------------------------------------\n"
     ]
    },
    {
     "data": {
      "image/png": "[encoded data removed]",
      "text/plain": [
       "<Figure size 432x288 with 1 Axes>"
      ]
     },
     "metadata": {
      "needs_background": "light"
     },
     "output_type": "display_data"
    },
    {
     "name": "stdout",
     "output_type": "stream",
     "text": [
      "-------------------------------------------------------------------------------\n"
     ]
    },
    {
     "data": {
      "image/png": "[encoded data removed]",
      "text/plain": [
       "<Figure size 432x288 with 1 Axes>"
      ]
     },
     "metadata": {
      "needs_background": "light"
     },
     "output_type": "display_data"
    },
    {
     "name": "stdout",
     "output_type": "stream",
     "text": [
      "-------------------------------------------------------------------------------\n"
     ]
    }
   ],
   "source": [
    "for col in num_col:\n",
    "    plt.figure()\n",
    "    sns.scatterplot(data=df,x=col,y=\"Income\")\n",
    "    plt.show()\n",
    "    print(\"-------------------------------------------------------------------------------\")"
   ]
  },
  {
   "cell_type": "markdown",
   "metadata": {},
   "source": [
    "### Train Test Split"
   ]
  },
  {
   "cell_type": "code",
   "execution_count": 29,
   "metadata": {},
   "outputs": [],
   "source": [
    "X = df.iloc[:,:-1]\n",
    "y = df.iloc[:,-1]"
   ]
  },
  {
   "cell_type": "code",
   "execution_count": 33,
   "metadata": {},
   "outputs": [],
   "source": [
    "from sklearn.model_selection import train_test_split\n",
    "from sklearn.linear_model import LogisticRegression\n",
    "from sklearn.metrics import classification_report,confusion_matrix"
   ]
  },
  {
   "cell_type": "code",
   "execution_count": 34,
   "metadata": {},
   "outputs": [],
   "source": [
    "X_train, X_test, y_train, y_test = train_test_split(X, y, test_size=0.3, random_state=1)"
   ]
  },
  {
   "cell_type": "code",
   "execution_count": 35,
   "metadata": {},
   "outputs": [
    {
     "data": {
      "text/plain": [
       "LogisticRegression(C=1.0, class_weight=None, dual=False, fit_intercept=True,\n",
       "                   intercept_scaling=1, l1_ratio=None, max_iter=100,\n",
       "                   multi_class='warn', n_jobs=None, penalty='l2',\n",
       "                   random_state=None, solver='warn', tol=0.0001, verbose=0,\n",
       "                   warm_start=False)"
      ]
     },
     "execution_count": 35,
     "metadata": {},
     "output_type": "execute_result"
    }
   ],
   "source": [
    "log  = LogisticRegression()\n",
    "log.fit(X_train,y_train)"
   ]
  },
  {
   "cell_type": "code",
   "execution_count": 36,
   "metadata": {},
   "outputs": [
    {
     "data": {
      "text/plain": [
       "0.8064516129032258"
      ]
     },
     "execution_count": 36,
     "metadata": {},
     "output_type": "execute_result"
    }
   ],
   "source": [
    "log.score(X_test,y_test)"
   ]
  },
  {
   "cell_type": "code",
   "execution_count": 39,
   "metadata": {},
   "outputs": [
    {
     "data": {
      "text/plain": [
       "array([0, 0, 1, 0, 0, 0, 0, 0, 0, 0, 0, 1, 0, 0, 0, 0, 0, 0, 0, 0, 0, 0,\n",
       "       0, 0, 0, 0, 0, 0, 0, 0, 0, 0, 0, 0, 0, 0, 0, 0, 0, 0, 0, 1, 0, 0,\n",
       "       0, 0, 1, 1, 0, 0, 1, 1, 0, 0, 0, 0, 0, 0, 0, 0, 0, 0, 0, 0, 0, 0,\n",
       "       0, 0, 0, 1, 0, 0, 0, 0, 0, 0, 0, 0, 0, 0, 0, 0, 0, 0, 0, 0, 0, 0,\n",
       "       0, 0, 0, 0, 0, 0, 0, 0, 0, 0, 0, 1, 1, 0, 0, 0, 0, 0, 0, 0, 0, 0,\n",
       "       0, 0, 0, 0, 0, 0, 1, 0, 0, 0, 0, 0, 0, 0, 1, 0, 1, 1, 0, 1, 0, 0,\n",
       "       0, 0, 0, 0, 0, 0, 0, 0, 0, 0, 0, 0, 0, 0, 0, 0, 0, 0, 0, 0, 0, 0,\n",
       "       0, 0, 0, 0, 0, 0, 0, 0, 0, 0, 0, 0, 0, 0, 0, 0, 1, 0, 0, 0, 0, 0,\n",
       "       0, 0, 0, 1, 0, 0, 0, 0, 0, 0, 0, 0, 0, 0, 0, 0, 0, 0, 0, 0, 0, 0,\n",
       "       0, 0, 0, 1, 0, 1, 0, 0, 0, 0, 0, 0, 0, 0, 0, 1, 0, 0, 0, 0, 0, 0,\n",
       "       0, 0, 0, 0, 0, 0, 0, 0, 0, 0, 0, 0, 0, 0, 0, 0, 0, 0, 0, 0, 0, 0,\n",
       "       1, 0, 0, 1, 0, 0, 0, 0, 0, 0, 0, 0, 0, 0, 0, 0, 0, 0, 0, 0, 0, 0,\n",
       "       0, 0, 0, 0, 0, 0, 0, 0, 0, 0, 0, 0, 0, 0, 0, 0, 0, 0, 0, 0, 0, 0,\n",
       "       0, 0, 0, 0, 0, 0, 0, 0, 0, 0, 0, 0, 0, 0, 0, 0, 0, 0, 0, 0, 0, 0,\n",
       "       0, 0], dtype=int64)"
      ]
     },
     "execution_count": 39,
     "metadata": {},
     "output_type": "execute_result"
    }
   ],
   "source": [
    "y_pred = log.predict(X_test)\n",
    "y_pred"
   ]
  },
  {
   "cell_type": "code",
   "execution_count": 40,
   "metadata": {},
   "outputs": [
    {
     "data": {
      "text/plain": [
       "array([[0.78289909, 0.21710091],\n",
       "       [0.85198354, 0.14801646],\n",
       "       [0.4454658 , 0.5545342 ],\n",
       "       [0.75771233, 0.24228767],\n",
       "       [0.83252627, 0.16747373],\n",
       "       [0.89213857, 0.10786143],\n",
       "       [0.80077115, 0.19922885],\n",
       "       [0.78079358, 0.21920642],\n",
       "       [0.70564887, 0.29435113],\n",
       "       [0.76828643, 0.23171357],\n",
       "       [0.82301475, 0.17698525],\n",
       "       [0.47687899, 0.52312101],\n",
       "       [0.79644364, 0.20355636],\n",
       "       [0.80810884, 0.19189116],\n",
       "       [0.76485285, 0.23514715],\n",
       "       [0.81625166, 0.18374834],\n",
       "       [0.91743654, 0.08256346],\n",
       "       [0.76957656, 0.23042344],\n",
       "       [0.59393993, 0.40606007],\n",
       "       [0.88496056, 0.11503944],\n",
       "       [0.79018846, 0.20981154],\n",
       "       [0.82464547, 0.17535453],\n",
       "       [0.73753301, 0.26246699],\n",
       "       [0.81109899, 0.18890101],\n",
       "       [0.85457364, 0.14542636],\n",
       "       [0.73336104, 0.26663896],\n",
       "       [0.81605334, 0.18394666],\n",
       "       [0.77512596, 0.22487404],\n",
       "       [0.79390116, 0.20609884],\n",
       "       [0.75399091, 0.24600909],\n",
       "       [0.68398079, 0.31601921],\n",
       "       [0.79849858, 0.20150142],\n",
       "       [0.81658618, 0.18341382],\n",
       "       [0.73741738, 0.26258262],\n",
       "       [0.80906024, 0.19093976],\n",
       "       [0.84834377, 0.15165623],\n",
       "       [0.88918631, 0.11081369],\n",
       "       [0.82378431, 0.17621569],\n",
       "       [0.83475755, 0.16524245],\n",
       "       [0.86628641, 0.13371359],\n",
       "       [0.6428548 , 0.3571452 ],\n",
       "       [0.43255841, 0.56744159],\n",
       "       [0.77054069, 0.22945931],\n",
       "       [0.84652163, 0.15347837],\n",
       "       [0.80457122, 0.19542878],\n",
       "       [0.52042098, 0.47957902],\n",
       "       [0.04640086, 0.95359914],\n",
       "       [0.36152336, 0.63847664],\n",
       "       [0.84376104, 0.15623896],\n",
       "       [0.78344458, 0.21655542],\n",
       "       [0.18157617, 0.81842383],\n",
       "       [0.33849699, 0.66150301],\n",
       "       [0.88614105, 0.11385895],\n",
       "       [0.88203437, 0.11796563],\n",
       "       [0.76320293, 0.23679707],\n",
       "       [0.75383358, 0.24616642],\n",
       "       [0.77460037, 0.22539963],\n",
       "       [0.90104238, 0.09895762],\n",
       "       [0.68781795, 0.31218205],\n",
       "       [0.74599501, 0.25400499],\n",
       "       [0.84879027, 0.15120973],\n",
       "       [0.85947315, 0.14052685],\n",
       "       [0.7798709 , 0.2201291 ],\n",
       "       [0.72699488, 0.27300512],\n",
       "       [0.6310043 , 0.3689957 ],\n",
       "       [0.80558357, 0.19441643],\n",
       "       [0.82729711, 0.17270289],\n",
       "       [0.81190425, 0.18809575],\n",
       "       [0.7472883 , 0.2527117 ],\n",
       "       [0.19368579, 0.80631421],\n",
       "       [0.8376996 , 0.1623004 ],\n",
       "       [0.69961027, 0.30038973],\n",
       "       [0.61412269, 0.38587731],\n",
       "       [0.80185601, 0.19814399],\n",
       "       [0.72219262, 0.27780738],\n",
       "       [0.8276881 , 0.1723119 ],\n",
       "       [0.81417731, 0.18582269],\n",
       "       [0.77826987, 0.22173013],\n",
       "       [0.75371918, 0.24628082],\n",
       "       [0.74738695, 0.25261305],\n",
       "       [0.83939857, 0.16060143],\n",
       "       [0.76893141, 0.23106859],\n",
       "       [0.71526383, 0.28473617],\n",
       "       [0.82074051, 0.17925949],\n",
       "       [0.86926453, 0.13073547],\n",
       "       [0.8900637 , 0.1099363 ],\n",
       "       [0.7900606 , 0.2099394 ],\n",
       "       [0.78015123, 0.21984877],\n",
       "       [0.85568365, 0.14431635],\n",
       "       [0.7649268 , 0.2350732 ],\n",
       "       [0.84632961, 0.15367039],\n",
       "       [0.86568184, 0.13431816],\n",
       "       [0.81333533, 0.18666467],\n",
       "       [0.79670911, 0.20329089],\n",
       "       [0.76092524, 0.23907476],\n",
       "       [0.78648738, 0.21351262],\n",
       "       [0.85117311, 0.14882689],\n",
       "       [0.80995948, 0.19004052],\n",
       "       [0.73845661, 0.26154339],\n",
       "       [0.44592688, 0.55407312],\n",
       "       [0.45819765, 0.54180235],\n",
       "       [0.80994793, 0.19005207],\n",
       "       [0.77623591, 0.22376409],\n",
       "       [0.54760747, 0.45239253],\n",
       "       [0.70790511, 0.29209489],\n",
       "       [0.65708774, 0.34291226],\n",
       "       [0.74930413, 0.25069587],\n",
       "       [0.78372742, 0.21627258],\n",
       "       [0.76675053, 0.23324947],\n",
       "       [0.8445382 , 0.1554618 ],\n",
       "       [0.88478906, 0.11521094],\n",
       "       [0.80105062, 0.19894938],\n",
       "       [0.70423535, 0.29576465],\n",
       "       [0.85790219, 0.14209781],\n",
       "       [0.73745331, 0.26254669],\n",
       "       [0.79540898, 0.20459102],\n",
       "       [0.32861377, 0.67138623],\n",
       "       [0.79097165, 0.20902835],\n",
       "       [0.80882955, 0.19117045],\n",
       "       [0.69401778, 0.30598222],\n",
       "       [0.7614335 , 0.2385665 ],\n",
       "       [0.83724235, 0.16275765],\n",
       "       [0.84735468, 0.15264532],\n",
       "       [0.88884511, 0.11115489],\n",
       "       [0.38474286, 0.61525714],\n",
       "       [0.82700683, 0.17299317],\n",
       "       [0.01059083, 0.98940917],\n",
       "       [0.01603277, 0.98396723],\n",
       "       [0.858338  , 0.141662  ],\n",
       "       [0.41280715, 0.58719285],\n",
       "       [0.79946313, 0.20053687],\n",
       "       [0.85685866, 0.14314134],\n",
       "       [0.75831689, 0.24168311],\n",
       "       [0.8305616 , 0.1694384 ],\n",
       "       [0.73728211, 0.26271789],\n",
       "       [0.76495449, 0.23504551],\n",
       "       [0.80771253, 0.19228747],\n",
       "       [0.80733001, 0.19266999],\n",
       "       [0.77735037, 0.22264963],\n",
       "       [0.82830793, 0.17169207],\n",
       "       [0.76875934, 0.23124066],\n",
       "       [0.84227475, 0.15772525],\n",
       "       [0.84618239, 0.15381761],\n",
       "       [0.81614605, 0.18385395],\n",
       "       [0.85347172, 0.14652828],\n",
       "       [0.68918472, 0.31081528],\n",
       "       [0.80756352, 0.19243648],\n",
       "       [0.84452491, 0.15547509],\n",
       "       [0.78117021, 0.21882979],\n",
       "       [0.82305422, 0.17694578],\n",
       "       [0.86597126, 0.13402874],\n",
       "       [0.78562346, 0.21437654],\n",
       "       [0.76824562, 0.23175438],\n",
       "       [0.77532774, 0.22467226],\n",
       "       [0.76988461, 0.23011539],\n",
       "       [0.81875216, 0.18124784],\n",
       "       [0.56101277, 0.43898723],\n",
       "       [0.90710965, 0.09289035],\n",
       "       [0.62139342, 0.37860658],\n",
       "       [0.79446535, 0.20553465],\n",
       "       [0.81708106, 0.18291894],\n",
       "       [0.850585  , 0.149415  ],\n",
       "       [0.83622963, 0.16377037],\n",
       "       [0.77955798, 0.22044202],\n",
       "       [0.78339097, 0.21660903],\n",
       "       [0.53111204, 0.46888796],\n",
       "       [0.75080032, 0.24919968],\n",
       "       [0.83906902, 0.16093098],\n",
       "       [0.7633904 , 0.2366096 ],\n",
       "       [0.77655557, 0.22344443],\n",
       "       [0.01565319, 0.98434681],\n",
       "       [0.8001473 , 0.1998527 ],\n",
       "       [0.57101972, 0.42898028],\n",
       "       [0.71138031, 0.28861969],\n",
       "       [0.81807344, 0.18192656],\n",
       "       [0.81747248, 0.18252752],\n",
       "       [0.53129031, 0.46870969],\n",
       "       [0.84056256, 0.15943744],\n",
       "       [0.74973846, 0.25026154],\n",
       "       [0.48564839, 0.51435161],\n",
       "       [0.76975234, 0.23024766],\n",
       "       [0.65413445, 0.34586555],\n",
       "       [0.78911765, 0.21088235],\n",
       "       [0.83770313, 0.16229687],\n",
       "       [0.85910804, 0.14089196],\n",
       "       [0.74279126, 0.25720874],\n",
       "       [0.83270609, 0.16729391],\n",
       "       [0.83069909, 0.16930091],\n",
       "       [0.82314894, 0.17685106],\n",
       "       [0.50092979, 0.49907021],\n",
       "       [0.5387804 , 0.4612196 ],\n",
       "       [0.75922757, 0.24077243],\n",
       "       [0.77568389, 0.22431611],\n",
       "       [0.82580107, 0.17419893],\n",
       "       [0.83648773, 0.16351227],\n",
       "       [0.85750784, 0.14249216],\n",
       "       [0.89040923, 0.10959077],\n",
       "       [0.76640033, 0.23359967],\n",
       "       [0.78250524, 0.21749476],\n",
       "       [0.86088344, 0.13911656],\n",
       "       [0.86042932, 0.13957068],\n",
       "       [0.28157341, 0.71842659],\n",
       "       [0.85741266, 0.14258734],\n",
       "       [0.43690483, 0.56309517],\n",
       "       [0.81807832, 0.18192168],\n",
       "       [0.73469025, 0.26530975],\n",
       "       [0.82846984, 0.17153016],\n",
       "       [0.87369057, 0.12630943],\n",
       "       [0.71284495, 0.28715505],\n",
       "       [0.76251703, 0.23748297],\n",
       "       [0.61906203, 0.38093797],\n",
       "       [0.83673346, 0.16326654],\n",
       "       [0.78989055, 0.21010945],\n",
       "       [0.00166394, 0.99833606],\n",
       "       [0.82410507, 0.17589493],\n",
       "       [0.7270212 , 0.2729788 ],\n",
       "       [0.8743394 , 0.1256606 ],\n",
       "       [0.80052726, 0.19947274],\n",
       "       [0.86797423, 0.13202577],\n",
       "       [0.68868708, 0.31131292],\n",
       "       [0.79357882, 0.20642118],\n",
       "       [0.7873451 , 0.2126549 ],\n",
       "       [0.84258828, 0.15741172],\n",
       "       [0.82459293, 0.17540707],\n",
       "       [0.8104752 , 0.1895248 ],\n",
       "       [0.86971949, 0.13028051],\n",
       "       [0.91647071, 0.08352929],\n",
       "       [0.85754006, 0.14245994],\n",
       "       [0.76838888, 0.23161112],\n",
       "       [0.69135763, 0.30864237],\n",
       "       [0.88293688, 0.11706312],\n",
       "       [0.80982354, 0.19017646],\n",
       "       [0.78628651, 0.21371349],\n",
       "       [0.86235229, 0.13764771],\n",
       "       [0.85736818, 0.14263182],\n",
       "       [0.79312879, 0.20687121],\n",
       "       [0.7793629 , 0.2206371 ],\n",
       "       [0.72506181, 0.27493819],\n",
       "       [0.81864345, 0.18135655],\n",
       "       [0.69806948, 0.30193052],\n",
       "       [0.78525481, 0.21474519],\n",
       "       [0.77249771, 0.22750229],\n",
       "       [0.4904111 , 0.5095889 ],\n",
       "       [0.72889797, 0.27110203],\n",
       "       [0.81318984, 0.18681016],\n",
       "       [0.17403519, 0.82596481],\n",
       "       [0.87293253, 0.12706747],\n",
       "       [0.85280843, 0.14719157],\n",
       "       [0.8247323 , 0.1752677 ],\n",
       "       [0.84498651, 0.15501349],\n",
       "       [0.79039938, 0.20960062],\n",
       "       [0.81286431, 0.18713569],\n",
       "       [0.8103744 , 0.1896256 ],\n",
       "       [0.8124207 , 0.1875793 ],\n",
       "       [0.78997374, 0.21002626],\n",
       "       [0.84787343, 0.15212657],\n",
       "       [0.74972503, 0.25027497],\n",
       "       [0.81899809, 0.18100191],\n",
       "       [0.78978113, 0.21021887],\n",
       "       [0.81260782, 0.18739218],\n",
       "       [0.79323758, 0.20676242],\n",
       "       [0.80644193, 0.19355807],\n",
       "       [0.79011881, 0.20988119],\n",
       "       [0.74496767, 0.25503233],\n",
       "       [0.85795646, 0.14204354],\n",
       "       [0.80068661, 0.19931339],\n",
       "       [0.87683484, 0.12316516],\n",
       "       [0.84427934, 0.15572066],\n",
       "       [0.78685951, 0.21314049],\n",
       "       [0.82163633, 0.17836367],\n",
       "       [0.76606366, 0.23393634],\n",
       "       [0.78825816, 0.21174184],\n",
       "       [0.79155492, 0.20844508],\n",
       "       [0.83880869, 0.16119131],\n",
       "       [0.55115434, 0.44884566],\n",
       "       [0.65339092, 0.34660908],\n",
       "       [0.78389165, 0.21610835],\n",
       "       [0.82390243, 0.17609757],\n",
       "       [0.80230599, 0.19769401],\n",
       "       [0.78460595, 0.21539405],\n",
       "       [0.78810664, 0.21189336],\n",
       "       [0.84061925, 0.15938075],\n",
       "       [0.83894789, 0.16105211],\n",
       "       [0.74715265, 0.25284735],\n",
       "       [0.72181406, 0.27818594],\n",
       "       [0.85067511, 0.14932489],\n",
       "       [0.74669517, 0.25330483],\n",
       "       [0.7510419 , 0.2489581 ],\n",
       "       [0.77841381, 0.22158619],\n",
       "       [0.80492237, 0.19507763],\n",
       "       [0.74556085, 0.25443915],\n",
       "       [0.77458014, 0.22541986],\n",
       "       [0.77116046, 0.22883954],\n",
       "       [0.73780453, 0.26219547],\n",
       "       [0.72954819, 0.27045181],\n",
       "       [0.79859259, 0.20140741],\n",
       "       [0.80201103, 0.19798897],\n",
       "       [0.75096995, 0.24903005],\n",
       "       [0.5532064 , 0.4467936 ],\n",
       "       [0.79667761, 0.20332239],\n",
       "       [0.5984973 , 0.4015027 ],\n",
       "       [0.7989797 , 0.2010203 ],\n",
       "       [0.79592624, 0.20407376],\n",
       "       [0.80258189, 0.19741811],\n",
       "       [0.82030533, 0.17969467],\n",
       "       [0.76242925, 0.23757075],\n",
       "       [0.75586309, 0.24413691],\n",
       "       [0.76786604, 0.23213396],\n",
       "       [0.79964534, 0.20035466],\n",
       "       [0.78790763, 0.21209237]])"
      ]
     },
     "execution_count": 40,
     "metadata": {},
     "output_type": "execute_result"
    }
   ],
   "source": [
    "log.predict_proba(X_test)"
   ]
  },
  {
   "cell_type": "markdown",
   "metadata": {},
   "source": [
    "### Evaluation metrics"
   ]
  },
  {
   "cell_type": "code",
   "execution_count": 41,
   "metadata": {},
   "outputs": [
    {
     "name": "stdout",
     "output_type": "stream",
     "text": [
      "              precision    recall  f1-score   support\n",
      "\n",
      "           0       0.81      0.98      0.89       238\n",
      "           1       0.77      0.24      0.36        72\n",
      "\n",
      "    accuracy                           0.81       310\n",
      "   macro avg       0.79      0.61      0.62       310\n",
      "weighted avg       0.80      0.81      0.76       310\n",
      "\n"
     ]
    }
   ],
   "source": [
    "print(classification_report(y_test,y_pred))"
   ]
  },
  {
   "cell_type": "code",
   "execution_count": 42,
   "metadata": {},
   "outputs": [],
   "source": [
    "tn, fp, fn, tp = confusion_matrix(y_test,y_pred).ravel()"
   ]
  },
  {
   "cell_type": "code",
   "execution_count": 43,
   "metadata": {},
   "outputs": [
    {
     "name": "stdout",
     "output_type": "stream",
     "text": [
      "17 5 \n",
      " 55 233\n"
     ]
    }
   ],
   "source": [
    "print(tp,fp,\"\\n\",fn,tn)"
   ]
  },
  {
   "cell_type": "code",
   "execution_count": 44,
   "metadata": {},
   "outputs": [
    {
     "name": "stdout",
     "output_type": "stream",
     "text": [
      "Accuracy: 0.8064516129032258\n"
     ]
    }
   ],
   "source": [
    "print(\"Accuracy:\",(tp+tn)/(tp+tn+fp+fn))"
   ]
  },
  {
   "cell_type": "code",
   "execution_count": null,
   "metadata": {},
   "outputs": [],
   "source": []
  }
 ],
 "metadata": {
  "kernelspec": {
   "display_name": "Python 3",
   "language": "python",
   "name": "python3"
  },
  "language_info": {
   "codemirror_mode": {
    "name": "ipython",
    "version": 3
   },
   "file_extension": ".py",
   "mimetype": "text/x-python",
   "name": "python",
   "nbconvert_exporter": "python",
   "pygments_lexer": "ipython3",
   "version": "3.7.4"
  }
 },
 "nbformat": 4,
 "nbformat_minor": 2
}
